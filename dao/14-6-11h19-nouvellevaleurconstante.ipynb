{
 "cells": [
  {
   "cell_type": "code",
   "execution_count": 1,
   "metadata": {},
   "outputs": [],
   "source": [
    "%display latex"
   ]
  },
  {
   "cell_type": "markdown",
   "metadata": {},
   "source": [
    "###### Ether\n",
    "\n",
    "L'éther du vide est l'impédance : C'est une force de résistance, donc en ohm ($\\Omega$). Sa valeur est Z = 360 $\\Omega$,($Z^2=129600$), donc un 1 ohm = 1 degré. On en déduit que le vide n'est pas vide = 0, puisqu'il est une impédance."
   ]
  },
  {
   "cell_type": "code",
   "execution_count": 9,
   "metadata": {},
   "outputs": [
    {
     "data": {
      "text/html": [
       "<html><script type=\"math/tex; mode=display\">\\newcommand{\\Bold}[1]{\\mathbf{#1}}\\verb|L=| 872664.625997165 \\phantom{\\verb!x!}\\verb|Volts|</script></html>"
      ],
      "text/plain": [
       "'L=' 872664.625997165 ' Volts'"
      ]
     },
     "metadata": {},
     "output_type": "display_data"
    },
    {
     "data": {
      "text/html": [
       "<html><script type=\"math/tex; mode=display\">\\newcommand{\\Bold}[1]{\\mathbf{#1}}\\verb|C=| 1.13097335529233 \\times 10^{11} \\phantom{\\verb!x!}\\verb|Amperes|</script></html>"
      ],
      "text/plain": [
       "'C=' 1.13097335529233e11 ' Amperes'"
      ]
     },
     "metadata": {},
     "output_type": "display_data"
    },
    {
     "data": {
      "text/html": [
       "<html><script type=\"math/tex; mode=display\">\\newcommand{\\Bold}[1]{\\mathbf{#1}}\\verb|Puissance=| 9.86960440108936 \\times 10^{16} \\phantom{\\verb!x!}\\verb|Watts|\\phantom{\\verb!x!}\\verb|J/s|</script></html>"
      ],
      "text/plain": [
       "'Puissance=' 9.86960440108936e16 ' Watts J/s'"
      ]
     },
     "metadata": {},
     "output_type": "display_data"
    }
   ],
   "source": [
    "Inductance=1/(1/n(pi)*360E-8);L=Inductance\n",
    "Capacitance=1/(1/(n(pi)*360E+8));C=Capacitance\n",
    "show(\"L=\",L,\" Volts\");show(\"C=\",C,\" Amperes\")\n",
    "show(\"Puissance=\",L*C,\" Watts J/s\")"
   ]
  },
  {
   "cell_type": "markdown",
   "metadata": {},
   "source": [
    "Les données peuvent être données en valeurs scientifiques, mais je pense que pour la démonstration il vaut mieux garder des données imaginaires, qui pourraient se révéler être plus exactes dans un temps futur que les valeurs actuelles.\n",
    "\n",
    "Je ne parle plus de célérité $c$ mais de fréquence angulaire $\\omega$ = Fa."
   ]
  },
  {
   "cell_type": "code",
   "execution_count": 23,
   "metadata": {},
   "outputs": [
    {
     "data": {
      "text/html": [
       "<html><script type=\"math/tex; mode=display\">\\newcommand{\\Bold}[1]{\\mathbf{#1}}\\verb|1|\\phantom{\\verb!x!}\\verb|coulomb=| 986960440 \\verb|=| 986960 \\phantom{\\verb!x!}\\verb|tonnes|</script></html>"
      ],
      "text/plain": [
       "'1 coulomb=' 986960440 '=' 986960 ' tonnes'"
      ]
     },
     "metadata": {},
     "output_type": "display_data"
    }
   ],
   "source": [
    "Fa=L*C;show(\"1 coulomb=\",round(Fa/1E8),\"=\",round(Fa/1E11),\" tonnes\")"
   ]
  },
  {
   "cell_type": "code",
   "execution_count": 21,
   "metadata": {},
   "outputs": [
    {
     "data": {
      "text/html": [
       "<html><script type=\"math/tex; mode=display\">\\newcommand{\\Bold}[1]{\\mathbf{#1}}\\verb|Fa=| 9.86960440108936 \\times 10^{16} \\verb|=c^2|</script></html>"
      ],
      "text/plain": [
       "'Fa=' 9.86960440108936e16 '=c^2'"
      ]
     },
     "metadata": {},
     "output_type": "display_data"
    }
   ],
   "source": [
    "show(\"Fa=\",Fa,\"=c^2\")"
   ]
  },
  {
   "cell_type": "code",
   "execution_count": 22,
   "metadata": {},
   "outputs": [
    {
     "data": {
      "text/html": [
       "<html><script type=\"math/tex; mode=display\">\\newcommand{\\Bold}[1]{\\mathbf{#1}}\\verb|Fa=coulomb=| 9.86960440108936 \\times 10^{16}</script></html>"
      ],
      "text/plain": [
       "'Fa=coulomb=' 9.86960440108936e16"
      ]
     },
     "metadata": {},
     "output_type": "display_data"
    }
   ],
   "source": [
    "show(\"Fa=coulomb=\",Fa)"
   ]
  },
  {
   "cell_type": "markdown",
   "metadata": {},
   "source": [
    "###### Spin du photon\n",
    "\n",
    "Le calcul du spin d'un photon est simple si on assimile ce dernier comme un anneau en rotation sur lui-même. Cette particule quantique n'a évidemment pas de masse au repos puisqu'elle se déplace à la vitesse de lumière $c$. Selon la relation de Planck-Einstein $E = hν$, où ν est la fréquence du photon et la relation d'Einstein $E = mc^2$, elle possède par contre une masse purement dynamique $m = hν/c^2$ :\n",
    "\n",
    "\n",
    "\n",
    "En accord avec la dualité onde-corpuscule de Louis de Broglie, pour que ce modèle soit viable, il faut que la longueur d'onde associée au photon λ soit égale à la circonférence de l'anneau $2πR$, soit:\n",
    "$\\lambda = \\frac{c}{\\nu} = 2\\pi R \\Rightarrow R = \\frac{c}{2\\pi \\nu}$\n",
    "Le moment angulaire étant égal au produit de la quantité de mouvement $p = E/c$ par la distance à l'axe de rotation R, il vient:\n",
    "S = \\frac{E}{c}\\cdot R = \\frac{h\\nu}{c}\\cdot \\frac{c}{2\\pi \\nu} \\Rightarrow L = \\frac{h}{2\\pi} = \\hbar"
   ]
  },
  {
   "attachments": {
    "image.png": {
     "image/png": "[encoded data removed]"
    }
   },
   "cell_type": "markdown",
   "metadata": {},
   "source": [
    "$\\lambda = \\frac{c}{\\nu} = 2\\pi R \\Rightarrow R = \\frac{c}{2\\pi \\nu}$\n",
    "\n",
    "$S = \\frac{E}{c}\\cdot R = \\frac{h\\nu}{c}\\cdot \\frac{c}{2\\pi \\nu} \\Rightarrow L\n",
    "= \\frac{h}{2\\pi} = \\hbar$ et L=photon\n",
    "\n",
    "$S_z = {-ħ, 0, +ħ}$\n",
    "\n",
    "L'état S z = -ħ, peut aisément être interprété comme un état de polarisation circulaire droite du photon:\n",
    "\n",
    "$\\hat S_z\\left|-1\\right> = -\\hbar \\left|-1\\right>$\n",
    "\n",
    "![image.png](attachment:image.png)\n",
    "\n"
   ]
  },
  {
   "attachments": {
    "image.png": {
     "image/png": "[encoded data removed]"
    }
   },
   "cell_type": "markdown",
   "metadata": {},
   "source": [
    "De même, l'état $Sz = +ħ$ peut s'interpréter comme un état de polarisation circulaire gauche du photon :\n",
    "\n",
    "![image.png](attachment:image.png)"
   ]
  },
  {
   "attachments": {
    "image.png": {
     "image/png": "[encoded data removed]"
    }
   },
   "cell_type": "markdown",
   "metadata": {},
   "source": [
    "Enfin, le photon ayant une masse nulle au repos, il ne peut jamais s'arrêter, ce qui fait que l'état $S_z = 0 $ n'existe pas mais peut s'interprèter comme une combinaison linéaire des états droits et gauche, c'est à dire comme une onde plane:\n",
    "\n",
    "![image.png](attachment:image.png)\n",
    "\n",
    "$\\hat S_z\\left|0\\right> = 0$"
   ]
  },
  {
   "cell_type": "code",
   "execution_count": null,
   "metadata": {},
   "outputs": [],
   "source": []
  }
 ],
 "metadata": {
  "kernelspec": {
   "display_name": "SageMath 8.6",
   "language": "",
   "name": "sagemath"
  },
  "language_info": {
   "codemirror_mode": {
    "name": "ipython",
    "version": 2
   },
   "file_extension": ".py",
   "mimetype": "text/x-python",
   "name": "python",
   "nbconvert_exporter": "python",
   "pygments_lexer": "ipython2",
   "version": "2.7.16"
  }
 },
 "nbformat": 4,
 "nbformat_minor": 2
}
