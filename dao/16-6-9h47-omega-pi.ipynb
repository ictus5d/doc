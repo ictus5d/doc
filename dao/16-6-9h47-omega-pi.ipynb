{
 "cells": [
  {
   "cell_type": "code",
   "execution_count": 1,
   "metadata": {},
   "outputs": [],
   "source": [
    "%display latex"
   ]
  },
  {
   "cell_type": "markdown",
   "metadata": {},
   "source": [
    "###### Ether\n",
    "\n",
    "C'est curieux comment les scientifiques n'ont pas compris l'éther ? Sans doute le voile de l'histoire ? Le voile de l'Esprit ?"
   ]
  },
  {
   "cell_type": "code",
   "execution_count": 2,
   "metadata": {},
   "outputs": [
    {
     "data": {
      "text/html": [
       "<html><script type=\"math/tex; mode=display\">\\newcommand{\\Bold}[1]{\\mathbf{#1}}\\left(\\mathit{divE}, \\rho, \\epsilon, \\mu\\right)</script></html>"
      ],
      "text/plain": [
       "(divE, rho, epsilon, mu)"
      ]
     },
     "execution_count": 2,
     "metadata": {},
     "output_type": "execute_result"
    }
   ],
   "source": [
    "var (\"divE rho epsilon mu\")"
   ]
  },
  {
   "cell_type": "code",
   "execution_count": 3,
   "metadata": {},
   "outputs": [
    {
     "data": {
      "text/html": [
       "<html><script type=\"math/tex; mode=display\">\\newcommand{\\Bold}[1]{\\mathbf{#1}}\\mathit{divE} = \\frac{\\rho}{\\epsilon}</script></html>"
      ],
      "text/plain": [
       "divE == rho/epsilon"
      ]
     },
     "metadata": {},
     "output_type": "display_data"
    }
   ],
   "source": [
    "dE=divE==rho/epsilon;show(dE)"
   ]
  },
  {
   "cell_type": "code",
   "execution_count": 4,
   "metadata": {},
   "outputs": [
    {
     "data": {
      "text/html": [
       "<html><script type=\"math/tex; mode=display\">\\newcommand{\\Bold}[1]{\\mathbf{#1}}\\mathit{divE} = \\frac{\\mu}{\\epsilon} \\verb|=Z|</script></html>"
      ],
      "text/plain": [
       "divE == mu/epsilon '=Z'"
      ]
     },
     "metadata": {},
     "output_type": "display_data"
    }
   ],
   "source": [
    "dI=divE==mu/epsilon;show(dI,\"=Z\")"
   ]
  },
  {
   "cell_type": "markdown",
   "metadata": {},
   "source": [
    "Différence entre la formule de la constante de Coulomb et la célérité $c^2$ : $1$x$10^{-7}$\n",
    "\n",
    "Morale de l'histoire, malgré la précision de son travail gigantesque, l'histoire n'était pas encore au rendez-vous...\n",
    "\n",
    "Aujourd'hui en 2019, ce n'est plus pardonable de ne pas voir le lien.\n",
    "\n",
    "$c^2=\\frac{1}{\\mu \\epsilon}$ = $\\omega^2=\\frac{1}{\\mu \\epsilon}$=$k=\\frac {c^2}{1\\times 10^{7}}$"
   ]
  },
  {
   "cell_type": "code",
   "execution_count": 5,
   "metadata": {},
   "outputs": [
    {
     "data": {
      "text/html": [
       "<html><script type=\"math/tex; mode=display\">\\newcommand{\\Bold}[1]{\\mathbf{#1}}\\verb|c^2=| 89875517873681764</script></html>"
      ],
      "text/plain": [
       "'c^2=' 89875517873681764"
      ]
     },
     "metadata": {},
     "output_type": "display_data"
    },
    {
     "data": {
      "text/html": [
       "<html><script type=\"math/tex; mode=display\">\\newcommand{\\Bold}[1]{\\mathbf{#1}}\\verb|k=| 8.98755178736818 \\times 10^{9} \\phantom{\\verb!x!}\\verb|=|\\phantom{\\verb!x!}\\verb|k=| 8987551787</script></html>"
      ],
      "text/plain": [
       "'k=' 8.98755178736818e9 ' = k=' 8987551787"
      ]
     },
     "metadata": {},
     "output_type": "display_data"
    },
    {
     "data": {
      "text/html": [
       "<html><script type=\"math/tex; mode=display\">\\newcommand{\\Bold}[1]{\\mathbf{#1}}\\verb|k|\\phantom{\\verb!x!}\\verb|en|\\phantom{\\verb!x!}\\verb|tonnes=| 8.98755178736818 \\times 10^{9} \\phantom{\\verb!x!}\\verb|tonnes|</script></html>"
      ],
      "text/plain": [
       "'k en tonnes=' 8.98755178736818e9 ' tonnes'"
      ]
     },
     "metadata": {},
     "output_type": "display_data"
    },
    {
     "data": {
      "text/html": [
       "<html><script type=\"math/tex; mode=display\">\\newcommand{\\Bold}[1]{\\mathbf{#1}}\\verb|c*c|\\phantom{\\verb!x!}\\verb|en|\\phantom{\\verb!x!}\\verb|tonnes=| 89875517873681764 \\phantom{\\verb!x!}\\verb|tonnes|</script></html>"
      ],
      "text/plain": [
       "'c*c en tonnes=' 89875517873681764 ' tonnes'"
      ]
     },
     "metadata": {},
     "output_type": "display_data"
    }
   ],
   "source": [
    "c=299792458;show(\"c^2=\",c*c)\n",
    "k=c^2/1E7;show(\"k=\",(k),\" = k=\",round(k))\n",
    "show(\"k en tonnes=\",(k),\" tonnes\")\n",
    "show(\"c*c en tonnes=\",(c^2),\" tonnes\")"
   ]
  },
  {
   "cell_type": "code",
   "execution_count": 6,
   "metadata": {},
   "outputs": [
    {
     "data": {
      "text/html": [
       "<html><script type=\"math/tex; mode=display\">\\newcommand{\\Bold}[1]{\\mathbf{#1}}\\verb|c*c=|\\phantom{\\verb!x!}\\verb|Peta-tonnes=| 89.8755178736818 \\phantom{\\verb!x!}\\verb|Pt|</script></html>"
      ],
      "text/plain": [
       "'c*c= Peta-tonnes=' 89.8755178736818 ' Pt'"
      ]
     },
     "metadata": {},
     "output_type": "display_data"
    }
   ],
   "source": [
    "show(\"c*c= Peta-tonnes=\",c*c/1E15,\" Pt\")"
   ]
  },
  {
   "cell_type": "code",
   "execution_count": 7,
   "metadata": {},
   "outputs": [
    {
     "data": {
      "text/html": [
       "<html><script type=\"math/tex; mode=display\">\\newcommand{\\Bold}[1]{\\mathbf{#1}}\\verb|h=| 6.62606957000000 \\times 10^{-34}</script></html>"
      ],
      "text/plain": [
       "'h=' 6.62606957000000e-34"
      ]
     },
     "metadata": {},
     "output_type": "display_data"
    }
   ],
   "source": [
    "hp=6.62606957E-34;\n",
    "show(\"h=\",hp);#show(\"h-tonnes=\",h)"
   ]
  },
  {
   "cell_type": "code",
   "execution_count": 8,
   "metadata": {},
   "outputs": [
    {
     "data": {
      "text/html": [
       "<html><script type=\"math/tex; mode=display\">\\newcommand{\\Bold}[1]{\\mathbf{#1}}1.23799014723612 \\times 10^{-34}</script></html>"
      ],
      "text/plain": [
       "1.23799014723612e-34"
      ]
     },
     "execution_count": 8,
     "metadata": {},
     "output_type": "execute_result"
    }
   ],
   "source": [
    "hc=(1/c^2)^2;n(hc)"
   ]
  },
  {
   "cell_type": "markdown",
   "metadata": {},
   "source": [
    "La physique contient beaucoup d'erreurs, c'est la raison pour laquelle je corrige et j'innove.\n",
    "\n",
    "Espace : Milieu dans lequel l'éther équilibre les forces. Ainsi l'espace n'est pas vide, sauf en son centre vide = 0, c'est-à-dire en résonance, espace = 360°, 360 $\\Omega$ (ohm). L'éther est l'impédance de l'espace, le vide est l'inertie, carré au centre  =0= $\\infty$  et l'éther $\\zeta = \\frac{\\alpha}{\\omega}$, quadrature du cercle autour du carré."
   ]
  },
  {
   "cell_type": "markdown",
   "metadata": {},
   "source": [
    "$\\lambda = \\frac{c}{\\nu} = 2\\pi R \\Rightarrow R = \\frac{c}{2\\pi \\nu}$"
   ]
  },
  {
   "cell_type": "markdown",
   "metadata": {},
   "source": [
    "$S = \\frac{E}{c}\\cdot R = \\frac{h\\nu}{c}\\cdot \\frac{c}{2\\pi \\nu} \\Rightarrow L\n",
    "= \\frac{h}{2\\pi} = \\hbar$"
   ]
  },
  {
   "cell_type": "markdown",
   "metadata": {},
   "source": [
    "$c=\\frac{1}{\\sqrt\\mu\\epsilon}$ et $\\nu=\\frac{1}{2\\pi\\sqrt\\mu\\epsilon}$"
   ]
  },
  {
   "attachments": {
    "image.png": {
     "image/png": "[encoded data removed]"
    }
   },
   "cell_type": "markdown",
   "metadata": {},
   "source": [
    "$\\lambda=\\frac{\\frac{1}{\\sqrt\\mu\\epsilon}}{\\frac{1}{2\\pi\\sqrt\\mu\\epsilon}}$=$2\\pi$=$\\frac{c}{\\nu}$\n",
    "\n",
    "![image.png](attachment:image.png)\n",
    "\n",
    "$S_z = {-ħ, 0, +ħ}$\n"
   ]
  },
  {
   "cell_type": "markdown",
   "metadata": {},
   "source": [
    "Trois états de polarisation : rotation gauche (-) rotation droite (+) et centre 0\n",
    "\n",
    "Trigrame : 1) +0- 2)-0+ 3) 0  \n",
    "\n",
    "+++ 000 --- "
   ]
  },
  {
   "cell_type": "code",
   "execution_count": 9,
   "metadata": {},
   "outputs": [
    {
     "name": "stdout",
     "output_type": "stream",
     "text": [
      "┌───┬───┬───┐\n",
      "│ ☴ │ ☲ │ ☷ │\n",
      "├───┼───┼───┤\n",
      "│ ☶ │ ☯ │ ☱ │\n",
      "├───┼───┼───┤\n",
      "│ ☳ │ ☵ │ ☰ │\n",
      "└───┴───┴───┘\n"
     ]
    }
   ],
   "source": [
    "tri=Tableau([[u'\\u2634',u'\\u2632',u'\\u2637'],\n",
    "      [u'\\u2636',u'\\u262f',u'\\u2631'],\n",
    "      [u'\\u2633',u'\\u2635',u'\\u2630']])\n",
    "print unicode_art(tri)"
   ]
  },
  {
   "cell_type": "code",
   "execution_count": 17,
   "metadata": {},
   "outputs": [
    {
     "name": "stdout",
     "output_type": "stream",
     "text": [
      "┌─────┬─────┬─────┐\n",
      "│ +-0 │ +0- │ -+0 │\n",
      "├─────┼─────┼─────┤\n",
      "│ 0-+ │ -0+ │ 0+- │\n",
      "├─────┼─────┼─────┤\n",
      "│  ☳  │  ☵  │  ☰  │\n",
      "└─────┴─────┴─────┘\n"
     ]
    }
   ],
   "source": [
    "tri=Tableau([[\"+-0\",\"+0-\",\"-+0\"],\n",
    "      [\"0-+\",\"-0+\",\"0+-\"],\n",
    "      [u'\\u2633',u'\\u2635',u'\\u2630']])\n",
    "print unicode_art(tri)"
   ]
  },
  {
   "cell_type": "code",
   "execution_count": null,
   "metadata": {},
   "outputs": [],
   "source": []
  }
 ],
 "metadata": {
  "kernelspec": {
   "display_name": "SageMath 8.8.rc1",
   "language": "sage",
   "name": "sagemath"
  },
  "language_info": {
   "codemirror_mode": {
    "name": "ipython",
    "version": 2
   },
   "file_extension": ".py",
   "mimetype": "text/x-python",
   "name": "python",
   "nbconvert_exporter": "python",
   "pygments_lexer": "ipython2",
   "version": "2.7.15"
  }
 },
 "nbformat": 4,
 "nbformat_minor": 2
}
