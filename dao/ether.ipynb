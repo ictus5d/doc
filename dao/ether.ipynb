{
 "cells": [
  {
   "cell_type": "code",
   "execution_count": 1,
   "metadata": {},
   "outputs": [],
   "source": [
    "%display latex"
   ]
  },
  {
   "cell_type": "markdown",
   "metadata": {},
   "source": [
    "###### Ether\n",
    "\n",
    "L'éther du vide est l'impédance : C'est une force de résistance, donc en ohm ($\\Omega$). Sa valeur est Z = 360 $\\Omega$,($Z^2=129600$), donc un 1 ohm = 1 degré. On en déduit que le vide n'est pas vide = 0, puisqu'il est une impédance."
   ]
  },
  {
   "cell_type": "code",
   "execution_count": 9,
   "metadata": {},
   "outputs": [
    {
     "data": {
      "text/html": [
       "<html><script type=\"math/tex; mode=display\">\\newcommand{\\Bold}[1]{\\mathbf{#1}}\\verb|L=| 872664.625997165 \\phantom{\\verb!x!}\\verb|Volts|</script></html>"
      ],
      "text/plain": [
       "'L=' 872664.625997165 ' Volts'"
      ]
     },
     "metadata": {},
     "output_type": "display_data"
    },
    {
     "data": {
      "text/html": [
       "<html><script type=\"math/tex; mode=display\">\\newcommand{\\Bold}[1]{\\mathbf{#1}}\\verb|C=| 1.13097335529233 \\times 10^{11} \\phantom{\\verb!x!}\\verb|Amperes|</script></html>"
      ],
      "text/plain": [
       "'C=' 1.13097335529233e11 ' Amperes'"
      ]
     },
     "metadata": {},
     "output_type": "display_data"
    },
    {
     "data": {
      "text/html": [
       "<html><script type=\"math/tex; mode=display\">\\newcommand{\\Bold}[1]{\\mathbf{#1}}\\verb|Puissance=| 9.86960440108936 \\times 10^{16} \\phantom{\\verb!x!}\\verb|Watts|\\phantom{\\verb!x!}\\verb|J/s|</script></html>"
      ],
      "text/plain": [
       "'Puissance=' 9.86960440108936e16 ' Watts J/s'"
      ]
     },
     "metadata": {},
     "output_type": "display_data"
    }
   ],
   "source": [
    "Inductance=1/(1/n(pi)*360E-8);L=Inductance\n",
    "Capacitance=1/(1/(n(pi)*360E+8));C=Capacitance\n",
    "show(\"L=\",L,\" Volts\");show(\"C=\",C,\" Amperes\")\n",
    "show(\"Puissance=\",L*C,\" Watts J/s\")"
   ]
  },
  {
   "cell_type": "markdown",
   "metadata": {},
   "source": [
    "Les données peuvent être données en valeurs scientifiques, mais je pense que pour la démonstration il vaut mieux garder des données imaginaires, qui pourraient se révéler être plus exactes dans un temps futur que les valeurs actuelles.\n",
    "\n",
    "Je ne parle plus de célérité $c$ mais de fréquence angulaire $\\omega$ = Fa."
   ]
  },
  {
   "cell_type": "code",
   "execution_count": 23,
   "metadata": {},
   "outputs": [
    {
     "data": {
      "text/html": [
       "<html><script type=\"math/tex; mode=display\">\\newcommand{\\Bold}[1]{\\mathbf{#1}}\\verb|1|\\phantom{\\verb!x!}\\verb|coulomb=| 986960440 \\verb|=| 986960 \\phantom{\\verb!x!}\\verb|tonnes|</script></html>"
      ],
      "text/plain": [
       "'1 coulomb=' 986960440 '=' 986960 ' tonnes'"
      ]
     },
     "metadata": {},
     "output_type": "display_data"
    }
   ],
   "source": [
    "Fa=L*C;show(\"1 coulomb=\",round(Fa/1E8),\"=\",round(Fa/1E11),\" tonnes\")"
   ]
  },
  {
   "cell_type": "code",
   "execution_count": 21,
   "metadata": {},
   "outputs": [
    {
     "data": {
      "text/html": [
       "<html><script type=\"math/tex; mode=display\">\\newcommand{\\Bold}[1]{\\mathbf{#1}}\\verb|Fa=| 9.86960440108936 \\times 10^{16} \\verb|=c^2|</script></html>"
      ],
      "text/plain": [
       "'Fa=' 9.86960440108936e16 '=c^2'"
      ]
     },
     "metadata": {},
     "output_type": "display_data"
    }
   ],
   "source": [
    "show(\"Fa=\",Fa,\"=c^2\")"
   ]
  },
  {
   "cell_type": "code",
   "execution_count": 22,
   "metadata": {},
   "outputs": [
    {
     "data": {
      "text/html": [
       "<html><script type=\"math/tex; mode=display\">\\newcommand{\\Bold}[1]{\\mathbf{#1}}\\verb|Fa=coulomb=| 9.86960440108936 \\times 10^{16}</script></html>"
      ],
      "text/plain": [
       "'Fa=coulomb=' 9.86960440108936e16"
      ]
     },
     "metadata": {},
     "output_type": "display_data"
    }
   ],
   "source": [
    "show(\"Fa=coulomb=\",Fa)"
   ]
  },
  {
   "cell_type": "code",
   "execution_count": null,
   "metadata": {},
   "outputs": [],
   "source": []
  }
 ],
 "metadata": {
  "kernelspec": {
   "display_name": "SageMath 8.6",
   "language": "",
   "name": "sagemath"
  },
  "language_info": {
   "codemirror_mode": {
    "name": "ipython",
    "version": 2
   },
   "file_extension": ".py",
   "mimetype": "text/x-python",
   "name": "python",
   "nbconvert_exporter": "python",
   "pygments_lexer": "ipython2",
   "version": "2.7.16"
  }
 },
 "nbformat": 4,
 "nbformat_minor": 2
}
