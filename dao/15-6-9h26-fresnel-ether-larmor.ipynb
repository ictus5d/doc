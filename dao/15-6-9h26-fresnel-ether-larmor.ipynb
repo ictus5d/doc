{
 "cells": [
  {
   "cell_type": "markdown",
   "metadata": {},
   "source": [
    "#### Ether : Impédance du vide.\n",
    "\n",
    "Fresnel : La réfraction dépend du changement de la densité de l'éther ?\n",
    "\n",
    "Il avait vu juste, simplement qu'à l'époque (et même maintenant, car je viens juste de le découvrir), la densité de l'éther est une impédance, c'est-à-dire une résistance, pour le vide la science l'a attribuée à $120 \\Omega$ environ. La densité est l'inverse de la célérité : Dit autrement, l'indice de réfraction (la densité , l'éther), est l'inverse de la célérité :\n",
    "\n",
    "$n^2=\\mu\\epsilon=\\frac{1}{c^2}$\n",
    "\n",
    "$c^2=\\frac{1}{n^2}$\n",
    "\n",
    "$r=\\frac{1}{1-\\frac{\\omega^2}{f_r^2}}$"
   ]
  },
  {
   "cell_type": "code",
   "execution_count": 8,
   "metadata": {},
   "outputs": [
    {
     "data": {
      "text/html": [
       "<html><script type=\"math/tex; mode=display\">\\newcommand{\\Bold}[1]{\\mathbf{#1}}\\verb|mu=| 1.25663706143592 \\times 10^{-6}</script></html>"
      ],
      "text/plain": [
       "'mu=' 1.25663706143592e-6"
      ]
     },
     "metadata": {},
     "output_type": "display_data"
    },
    {
     "data": {
      "text/html": [
       "<html><script type=\"math/tex; mode=display\">\\newcommand{\\Bold}[1]{\\mathbf{#1}}\\verb|epsilon=| 8.85418781762039 \\times 10^{-12}</script></html>"
      ],
      "text/plain": [
       "'epsilon=' 8.85418781762039e-12"
      ]
     },
     "metadata": {},
     "output_type": "display_data"
    },
    {
     "data": {
      "text/html": [
       "<html><script type=\"math/tex; mode=display\">\\newcommand{\\Bold}[1]{\\mathbf{#1}}\\verb|c^2=| 8.98755178736818 \\times 10^{16}</script></html>"
      ],
      "text/plain": [
       "'c^2=' 8.98755178736818e16"
      ]
     },
     "metadata": {},
     "output_type": "display_data"
    },
    {
     "data": {
      "text/html": [
       "<html><script type=\"math/tex; mode=display\">\\newcommand{\\Bold}[1]{\\mathbf{#1}}\\verb|n^2=1/c^2=| 1.11265005605362 \\times 10^{-17}</script></html>"
      ],
      "text/plain": [
       "'n^2=1/c^2=' 1.11265005605362e-17"
      ]
     },
     "metadata": {},
     "output_type": "display_data"
    }
   ],
   "source": [
    "c=299792458;mu=n(pi)*4E-7;ep=1/(mu*c*c)\n",
    "show(\"mu=\",mu)\n",
    "show(\"epsilon=\",ep)\n",
    "show(\"c^2=\",1/(mu*ep))\n",
    "show(\"n^2=1/c^2=\",(mu*ep))"
   ]
  },
  {
   "cell_type": "markdown",
   "metadata": {},
   "source": [
    "Ceci montre que l'éther ne dépends pas de la vitesse de la terre et qu'à aucun moment on ne peut discerner la vitesse de la lumière avec les expériences qui ont été essayé pour prouver $c$."
   ]
  },
  {
   "cell_type": "code",
   "execution_count": null,
   "metadata": {},
   "outputs": [],
   "source": []
  }
 ],
 "metadata": {
  "kernelspec": {
   "display_name": "SageMath 8.8.rc1",
   "language": "sage",
   "name": "sagemath"
  },
  "language_info": {
   "codemirror_mode": {
    "name": "ipython",
    "version": 2
   },
   "file_extension": ".py",
   "mimetype": "text/x-python",
   "name": "python",
   "nbconvert_exporter": "python",
   "pygments_lexer": "ipython2",
   "version": "2.7.15"
  }
 },
 "nbformat": 4,
 "nbformat_minor": 2
}
