{
 "cells": [
  {
   "cell_type": "code",
   "execution_count": 1,
   "metadata": {},
   "outputs": [],
   "source": [
    "%display latex"
   ]
  },
  {
   "cell_type": "markdown",
   "metadata": {},
   "source": [
    "###### Ether\n",
    "\n",
    "C'est curieux comment les scientifiques n'ont pas compris l'éther ? Sans doute le voile de l'histoire ? Le voile de l'Esprit ?"
   ]
  },
  {
   "cell_type": "code",
   "execution_count": 2,
   "metadata": {},
   "outputs": [
    {
     "data": {
      "text/html": [
       "<html><script type=\"math/tex; mode=display\">\\newcommand{\\Bold}[1]{\\mathbf{#1}}\\left(\\mathit{divE}, \\rho, \\epsilon, \\mu\\right)</script></html>"
      ],
      "text/plain": [
       "(divE, rho, epsilon, mu)"
      ]
     },
     "execution_count": 2,
     "metadata": {},
     "output_type": "execute_result"
    }
   ],
   "source": [
    "var (\"divE rho epsilon mu\")"
   ]
  },
  {
   "cell_type": "code",
   "execution_count": 3,
   "metadata": {},
   "outputs": [
    {
     "data": {
      "text/html": [
       "<html><script type=\"math/tex; mode=display\">\\newcommand{\\Bold}[1]{\\mathbf{#1}}\\mathit{divE} = \\frac{\\rho}{\\epsilon}</script></html>"
      ],
      "text/plain": [
       "divE == rho/epsilon"
      ]
     },
     "metadata": {},
     "output_type": "display_data"
    }
   ],
   "source": [
    "dE=divE==rho/epsilon;show(dE)"
   ]
  },
  {
   "cell_type": "code",
   "execution_count": 4,
   "metadata": {},
   "outputs": [
    {
     "data": {
      "text/html": [
       "<html><script type=\"math/tex; mode=display\">\\newcommand{\\Bold}[1]{\\mathbf{#1}}\\mathit{divE} = \\frac{\\mu}{\\epsilon} \\verb|=Z|</script></html>"
      ],
      "text/plain": [
       "divE == mu/epsilon '=Z'"
      ]
     },
     "metadata": {},
     "output_type": "display_data"
    }
   ],
   "source": [
    "dI=divE==mu/epsilon;show(dI,\"=Z\")"
   ]
  },
  {
   "cell_type": "markdown",
   "metadata": {},
   "source": [
    "Différence entre la formule de la constante de Coulomb et la célérité $c^2$ : $1$x$10^{-7}$\n",
    "\n",
    "Morale de l'histoire, malgré la précision de son travail gigantesque, l'histoire n'était pas encore au rendez-vous...\n",
    "\n",
    "Aujourd'hui en 2019, ce n'est plus pardonable de ne pas voir le lien.\n",
    "\n",
    "$c^2=\\frac{1}{\\mu \\epsilon}$ = $\\omega^2=\\frac{1}{\\mu \\epsilon}$=$k=\\frac {c^2}{1\\times 10^{7}}$"
   ]
  },
  {
   "cell_type": "code",
   "execution_count": 14,
   "metadata": {},
   "outputs": [
    {
     "data": {
      "text/html": [
       "<html><script type=\"math/tex; mode=display\">\\newcommand{\\Bold}[1]{\\mathbf{#1}}\\verb|c^2=| 89875517873681764</script></html>"
      ],
      "text/plain": [
       "'c^2=' 89875517873681764"
      ]
     },
     "metadata": {},
     "output_type": "display_data"
    },
    {
     "data": {
      "text/html": [
       "<html><script type=\"math/tex; mode=display\">\\newcommand{\\Bold}[1]{\\mathbf{#1}}\\verb|k=| 8.98755178736818 \\times 10^{9} \\phantom{\\verb!x!}\\verb|=|\\phantom{\\verb!x!}\\verb|k=| 8987551787</script></html>"
      ],
      "text/plain": [
       "'k=' 8.98755178736818e9 ' = k=' 8987551787"
      ]
     },
     "metadata": {},
     "output_type": "display_data"
    },
    {
     "data": {
      "text/html": [
       "<html><script type=\"math/tex; mode=display\">\\newcommand{\\Bold}[1]{\\mathbf{#1}}\\verb|k|\\phantom{\\verb!x!}\\verb|en|\\phantom{\\verb!x!}\\verb|tonnes=| 8.98755178736818 \\times 10^{9} \\phantom{\\verb!x!}\\verb|tonnes|</script></html>"
      ],
      "text/plain": [
       "'k en tonnes=' 8.98755178736818e9 ' tonnes'"
      ]
     },
     "metadata": {},
     "output_type": "display_data"
    },
    {
     "data": {
      "text/html": [
       "<html><script type=\"math/tex; mode=display\">\\newcommand{\\Bold}[1]{\\mathbf{#1}}\\verb|c*c|\\phantom{\\verb!x!}\\verb|en|\\phantom{\\verb!x!}\\verb|tonnes=| 89875517873681764 \\phantom{\\verb!x!}\\verb|tonnes|</script></html>"
      ],
      "text/plain": [
       "'c*c en tonnes=' 89875517873681764 ' tonnes'"
      ]
     },
     "metadata": {},
     "output_type": "display_data"
    }
   ],
   "source": [
    "c=299792458;show(\"c^2=\",c*c)\n",
    "k=c^2/1E7;show(\"k=\",(k),\" = k=\",round(k))\n",
    "show(\"k en tonnes=\",(k),\" tonnes\")\n",
    "show(\"c*c en tonnes=\",(c^2),\" tonnes\")"
   ]
  },
  {
   "cell_type": "code",
   "execution_count": 19,
   "metadata": {},
   "outputs": [
    {
     "data": {
      "text/html": [
       "<html><script type=\"math/tex; mode=display\">\\newcommand{\\Bold}[1]{\\mathbf{#1}}\\verb|c*c=|\\phantom{\\verb!x!}\\verb|Peta-tonnes=| 89.8755178736818 \\phantom{\\verb!x!}\\verb|Pt|</script></html>"
      ],
      "text/plain": [
       "'c*c= Peta-tonnes=' 89.8755178736818 ' Pt'"
      ]
     },
     "metadata": {},
     "output_type": "display_data"
    }
   ],
   "source": [
    "show(\"c*c= Peta-tonnes=\",c*c/1E15,\" Pt\")"
   ]
  },
  {
   "cell_type": "code",
   "execution_count": 26,
   "metadata": {},
   "outputs": [
    {
     "data": {
      "text/html": [
       "<html><script type=\"math/tex; mode=display\">\\newcommand{\\Bold}[1]{\\mathbf{#1}}\\verb|h=| 6.62606957000000 \\times 10^{-34}</script></html>"
      ],
      "text/plain": [
       "'h=' 6.62606957000000e-34"
      ]
     },
     "metadata": {},
     "output_type": "display_data"
    }
   ],
   "source": [
    "hp=6.62606957E-34;\n",
    "show(\"h=\",hp);#show(\"h-tonnes=\",h)"
   ]
  },
  {
   "cell_type": "code",
   "execution_count": 29,
   "metadata": {},
   "outputs": [
    {
     "data": {
      "text/html": [
       "<html><script type=\"math/tex; mode=display\">\\newcommand{\\Bold}[1]{\\mathbf{#1}}1.23799014723612 \\times 10^{-34}</script></html>"
      ],
      "text/plain": [
       "1.23799014723612e-34"
      ]
     },
     "execution_count": 29,
     "metadata": {},
     "output_type": "execute_result"
    }
   ],
   "source": [
    "hc=(1/c^2)^2;n(hc)"
   ]
  },
  {
   "cell_type": "code",
   "execution_count": null,
   "metadata": {},
   "outputs": [],
   "source": []
  },
  {
   "cell_type": "code",
   "execution_count": null,
   "metadata": {},
   "outputs": [],
   "source": []
  }
 ],
 "metadata": {
  "kernelspec": {
   "display_name": "SageMath 8.6",
   "language": "",
   "name": "sagemath"
  },
  "language_info": {
   "codemirror_mode": {
    "name": "ipython",
    "version": 2
   },
   "file_extension": ".py",
   "mimetype": "text/x-python",
   "name": "python",
   "nbconvert_exporter": "python",
   "pygments_lexer": "ipython2",
   "version": "2.7.16"
  }
 },
 "nbformat": 4,
 "nbformat_minor": 2
}
