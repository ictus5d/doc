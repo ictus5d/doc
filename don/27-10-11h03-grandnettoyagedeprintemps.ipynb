{
 "cells": [
  {
   "cell_type": "markdown",
   "metadata": {},
   "source": [
    "##### An de grâce 2018, samedi 27 octobre, 11h05"
   ]
  },
  {
   "cell_type": "markdown",
   "metadata": {},
   "source": [
    "Grand nettoyage de printemps dans la physique inutile ! (vu la date, plutôt nettoyage d'hiver).\n",
    "\n",
    "L'univers est 3 trois état : micro(imaginaire négatif), réalité(présent), macro(imaginaire positif). C'est la lumière qui les définies. $-c$ lumière négative,$ç$ lumière positive. La réalité (le présent) $ç-c=0$.\n",
    "\n",
    "En plus simple, la réalité est une grosse loupe potentielle qui permet de grossir ou de réduire les objets potentiels. Un microbe n'existe pas, il est potentiel, il n'existe que lorsqu'il se matérialise sous forme de corps. Certaines étoiles non plus n'existent pas, la lune existe on la voit. La limite est l'instrument dont on a besoin pour voir les corps (la matière). Un microscope qui grossit 100 fois, accélère la lumière (-) de 100 fois. Un télescope qui grossit de 100 fois accélère la lumière (+) de 100 fois. La lune se trouve à environ un peu plus que 1 seconde, c'est pourquoi on la voit à l'oeil nu."
   ]
  },
  {
   "cell_type": "code",
   "execution_count": null,
   "metadata": {},
   "outputs": [],
   "source": []
  },
  {
   "cell_type": "code",
   "execution_count": null,
   "metadata": {},
   "outputs": [],
   "source": []
  },
  {
   "cell_type": "code",
   "execution_count": null,
   "metadata": {},
   "outputs": [],
   "source": []
  }
 ],
 "metadata": {
  "kernelspec": {
   "display_name": "SageMath 8.5",
   "language": "",
   "name": "sagemath"
  },
  "language_info": {
   "codemirror_mode": {
    "name": "ipython",
    "version": 2
   },
   "file_extension": ".py",
   "mimetype": "text/x-python",
   "name": "python",
   "nbconvert_exporter": "python",
   "pygments_lexer": "ipython2",
   "version": "2.7.15"
  }
 },
 "nbformat": 4,
 "nbformat_minor": 2
}
