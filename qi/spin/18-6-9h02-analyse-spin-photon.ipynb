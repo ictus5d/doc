{
 "cells": [
  {
   "cell_type": "code",
   "execution_count": 1,
   "metadata": {},
   "outputs": [],
   "source": [
    "%display latex"
   ]
  },
  {
   "cell_type": "markdown",
   "metadata": {},
   "source": [
    "#####  Longueur d'onde fondamentale $\\lambda$ = $2 \\pi$"
   ]
  },
  {
   "cell_type": "markdown",
   "metadata": {},
   "source": [
    "$\\lambda=\\frac{\\frac{1}{\\sqrt\\mu\\epsilon}}{\\frac{1}{2\\pi\\sqrt\\mu\\epsilon}}$ = $\\frac{c}{\\nu}$=$2\\pi$"
   ]
  },
  {
   "cell_type": "code",
   "execution_count": 2,
   "metadata": {},
   "outputs": [
    {
     "data": {
      "text/html": [
       "<html><script type=\"math/tex; mode=display\">\\newcommand{\\Bold}[1]{\\mathbf{#1}}\\left(\\lambda_{0}, \\mu, \\epsilon, c, \\nu, \\omega\\right)</script></html>"
      ],
      "text/plain": [
       "(lambda_0, mu, epsilon, c, nu, omega)"
      ]
     },
     "execution_count": 2,
     "metadata": {},
     "output_type": "execute_result"
    }
   ],
   "source": [
    "var(\"lambda_0 mu epsilon c nu omega\") "
   ]
  },
  {
   "cell_type": "code",
   "execution_count": 3,
   "metadata": {},
   "outputs": [
    {
     "data": {
      "text/html": [
       "<html><script type=\"math/tex; mode=display\">\\newcommand{\\Bold}[1]{\\mathbf{#1}}\\lambda_{0} = 2 \\, \\pi</script></html>"
      ],
      "text/plain": [
       "lambda_0 == 2*pi"
      ]
     },
     "execution_count": 3,
     "metadata": {},
     "output_type": "execute_result"
    }
   ],
   "source": [
    "lo=lambda_0==(1/sqrt(mu*epsilon)/ \\\n",
    "             (1/(2*pi*sqrt(mu*epsilon))))\n",
    "lo"
   ]
  },
  {
   "cell_type": "code",
   "execution_count": 4,
   "metadata": {},
   "outputs": [
    {
     "data": {
      "text/html": [
       "<html><script type=\"math/tex; mode=display\">\\newcommand{\\Bold}[1]{\\mathbf{#1}}c = \\frac{1}{\\sqrt{\\epsilon \\mu}}</script></html>"
      ],
      "text/plain": [
       "c == 1/sqrt(epsilon*mu)"
      ]
     },
     "execution_count": 4,
     "metadata": {},
     "output_type": "execute_result"
    }
   ],
   "source": [
    "c0=c==1/sqrt(mu*epsilon);c0"
   ]
  },
  {
   "cell_type": "code",
   "execution_count": 5,
   "metadata": {},
   "outputs": [
    {
     "data": {
      "text/html": [
       "<html><script type=\"math/tex; mode=display\">\\newcommand{\\Bold}[1]{\\mathbf{#1}}\\nu = \\frac{1}{2 \\, \\pi \\sqrt{\\epsilon \\mu}}</script></html>"
      ],
      "text/plain": [
       "nu == 1/2/(pi*sqrt(epsilon*mu))"
      ]
     },
     "execution_count": 5,
     "metadata": {},
     "output_type": "execute_result"
    }
   ],
   "source": [
    "n0=nu==1/(2*pi*sqrt(mu*epsilon));n0"
   ]
  },
  {
   "cell_type": "code",
   "execution_count": 6,
   "metadata": {},
   "outputs": [
    {
     "data": {
      "text/html": [
       "<html><script type=\"math/tex; mode=display\">\\newcommand{\\Bold}[1]{\\mathbf{#1}}\\frac{c}{\\nu} = 2 \\, \\pi</script></html>"
      ],
      "text/plain": [
       "c/nu == 2*pi"
      ]
     },
     "execution_count": 6,
     "metadata": {},
     "output_type": "execute_result"
    }
   ],
   "source": [
    "c0/n0"
   ]
  },
  {
   "cell_type": "markdown",
   "metadata": {},
   "source": [
    "Ces équations montrent qu'il y a toujours une longueur d'onde unité, fondamentale qui est égale à la circonférence d'un cercle unité, un étalon de mesure en quelque sorte. Un $\\pi$ unité !\n",
    "\n",
    "J'ai l'impression qu'il règne une confusion dans notre société en 2019 (mais qui a une origine bien plus vieille...)\n",
    "\n",
    "La circonférence du cercle n'est pas $2\\pi r$ mais $\\pi r2$, même si c'est la même chose numérique, ce n'est pas la même chose déontologiquement.  \n",
    "\n",
    "En fait, c'est la différence entre le numérique (arithmétique) et l'algèbre qui a toujours une variable avec l'unité, exemple $2\\pi$ et et 2 unités (symbol) $\\pi$, le premier est une quantité = 6.28 et le second est un nombre d'unité, 2 unité $\\pi$, la quantité est un nombre décimale infinie, la qualité (l'unité) est le nombre de fois $\\pi$, donc un entier."
   ]
  },
  {
   "cell_type": "code",
   "execution_count": 7,
   "metadata": {},
   "outputs": [],
   "source": [
    "c0/n0;v=4*pi;f=2*pi"
   ]
  },
  {
   "cell_type": "code",
   "execution_count": 8,
   "metadata": {},
   "outputs": [
    {
     "data": {
      "text/html": [
       "<html><script type=\"math/tex; mode=display\">\\newcommand{\\Bold}[1]{\\mathbf{#1}}\\verb|2|\\phantom{\\verb!x!}\\verb|pi|\\phantom{\\verb!x!}\\verb|=| \\frac{c}{\\nu} = 2 \\, \\pi \\phantom{\\verb!x!}\\verb|et|\\phantom{\\verb!x!}\\verb|pi|\\phantom{\\verb!x!}\\verb|2|\\phantom{\\verb!x!}\\verb|=| 2 \\, \\pi</script></html>"
      ],
      "text/plain": [
       "'2 pi =' c/nu == 2*pi ' et pi 2 =' 2*pi"
      ]
     },
     "metadata": {},
     "output_type": "display_data"
    }
   ],
   "source": [
    "show(\"2 pi =\",c0/n0, \" et pi 2 =\",f)"
   ]
  },
  {
   "cell_type": "markdown",
   "metadata": {},
   "source": [
    "###### Une constante peut en cacher une autre \n",
    "\n",
    "C'est le cas de $c$ et $\\pi$ = celui-ci est la constante naturelle, réelle, l'autre est une harmonique ou constante artificielle crée par les scientifiques.\n",
    "\n",
    "J'ai écrit deux équations qui permettent de mettre en évidence, l'autre signification de la fréquence angulaire, plus réaliste que la célérité."
   ]
  },
  {
   "cell_type": "code",
   "execution_count": 9,
   "metadata": {},
   "outputs": [
    {
     "data": {
      "text/html": [
       "<html><script type=\"math/tex; mode=display\">\\newcommand{\\Bold}[1]{\\mathbf{#1}}\\verb|L=| 1.14591559026165 \\times 10^{-6}</script></html>"
      ],
      "text/plain": [
       "'L=' 1.14591559026165e-6"
      ]
     },
     "metadata": {},
     "output_type": "display_data"
    },
    {
     "data": {
      "text/html": [
       "<html><script type=\"math/tex; mode=display\">\\newcommand{\\Bold}[1]{\\mathbf{#1}}\\verb|C=| 8.84194128288307 \\times 10^{-12}</script></html>"
      ],
      "text/plain": [
       "'C=' 8.84194128288307e-12"
      ]
     },
     "metadata": {},
     "output_type": "display_data"
    },
    {
     "data": {
      "text/html": [
       "<html><script type=\"math/tex; mode=display\">\\newcommand{\\Bold}[1]{\\mathbf{#1}}\\verb|Fa|\\phantom{\\verb!x!}\\verb|=| 1.01321183642338 \\times 10^{-17}</script></html>"
      ],
      "text/plain": [
       "'Fa =' 1.01321183642338e-17"
      ]
     },
     "metadata": {},
     "output_type": "display_data"
    },
    {
     "data": {
      "text/html": [
       "<html><script type=\"math/tex; mode=display\">\\newcommand{\\Bold}[1]{\\mathbf{#1}}\\verb|fr=| 5.00000000000000 \\times 10^{7}</script></html>"
      ],
      "text/plain": [
       "'fr=' 5.00000000000000e7"
      ]
     },
     "metadata": {},
     "output_type": "display_data"
    },
    {
     "data": {
      "text/html": [
       "<html><script type=\"math/tex; mode=display\">\\newcommand{\\Bold}[1]{\\mathbf{#1}}\\verb|Freq|\\phantom{\\verb!x!}\\verb|Angul=| 314159265</script></html>"
      ],
      "text/plain": [
       "'Freq Angul=' 314159265"
      ]
     },
     "metadata": {},
     "output_type": "display_data"
    }
   ],
   "source": [
    "L=(1/n(pi)*360E-8);show(\"L=\",L)\n",
    "C=(1/(n(pi)*360E+8));show(\"C=\",C)\n",
    "fc=L*C;show(\"Fa =\",fc)\n",
    "fr=1/(n(pi*2*sqrt(L*C)));show(\"fr=\",fr)\n",
    "fa=sqrt(fc);show(\"Freq Angul=\",round(1/fa))"
   ]
  },
  {
   "cell_type": "code",
   "execution_count": null,
   "metadata": {},
   "outputs": [],
   "source": []
  },
  {
   "cell_type": "code",
   "execution_count": 10,
   "metadata": {},
   "outputs": [
    {
     "data": {
      "text/html": [
       "<html><script type=\"math/tex; mode=display\">\\newcommand{\\Bold}[1]{\\mathbf{#1}}\\lambda_{0} = \\frac{2 \\, \\sqrt{\\frac{1}{2}}}{\\sqrt{\\frac{\\mu}{\\pi \\sqrt{\\epsilon \\mu}}}}</script></html>"
      ],
      "text/plain": [
       "lambda_0 == 2*sqrt(1/2)/sqrt(mu/(pi*sqrt(epsilon*mu)))"
      ]
     },
     "execution_count": 10,
     "metadata": {},
     "output_type": "execute_result"
    }
   ],
   "source": [
    "lo=lambda_0==(1/sqrt(mu*epsilon) \\\n",
    "             (1/(2*pi*sqrt(mu*epsilon))));lo"
   ]
  },
  {
   "cell_type": "code",
   "execution_count": 11,
   "metadata": {},
   "outputs": [
    {
     "data": {
      "text/html": [
       "<html><script type=\"math/tex; mode=display\">\\newcommand{\\Bold}[1]{\\mathbf{#1}}\\frac{1}{12} \\, \\pi</script></html>"
      ],
      "text/plain": [
       "1/12*pi"
      ]
     },
     "execution_count": 11,
     "metadata": {},
     "output_type": "execute_result"
    }
   ],
   "source": [
    "((factorial(1/2))^2)/3"
   ]
  },
  {
   "cell_type": "code",
   "execution_count": 12,
   "metadata": {},
   "outputs": [
    {
     "data": {
      "text/html": [
       "<html><script type=\"math/tex; mode=display\">\\newcommand{\\Bold}[1]{\\mathbf{#1}}\\frac{1}{6} \\, \\pi^{2}</script></html>"
      ],
      "text/plain": [
       "1/6*pi^2"
      ]
     },
     "execution_count": 12,
     "metadata": {},
     "output_type": "execute_result"
    }
   ],
   "source": [
    "zeta(2)"
   ]
  },
  {
   "cell_type": "code",
   "execution_count": 13,
   "metadata": {},
   "outputs": [
    {
     "data": {
      "text/html": [
       "<html><script type=\"math/tex; mode=display\">\\newcommand{\\Bold}[1]{\\mathbf{#1}}\\frac{2}{\\sqrt{\\pi}}</script></html>"
      ],
      "text/plain": [
       "2/sqrt(pi)"
      ]
     },
     "execution_count": 13,
     "metadata": {},
     "output_type": "execute_result"
    }
   ],
   "source": [
    "1/(factorial(1/2))"
   ]
  },
  {
   "cell_type": "code",
   "execution_count": 14,
   "metadata": {},
   "outputs": [
    {
     "data": {
      "text/html": [
       "<html><script type=\"math/tex; mode=display\">\\newcommand{\\Bold}[1]{\\mathbf{#1}}\\lambda_{0} = 2 \\, \\pi</script></html>"
      ],
      "text/plain": [
       "lambda_0 == 2*pi"
      ]
     },
     "execution_count": 14,
     "metadata": {},
     "output_type": "execute_result"
    }
   ],
   "source": [
    "lo=lambda_0==(1/sqrt(mu*epsilon)/ \\\n",
    "             (1/(2*pi*sqrt(mu*epsilon))));lo"
   ]
  },
  {
   "cell_type": "code",
   "execution_count": 15,
   "metadata": {},
   "outputs": [
    {
     "data": {
      "text/html": [
       "<html><script type=\"math/tex; mode=display\">\\newcommand{\\Bold}[1]{\\mathbf{#1}}2 \\, \\pi</script></html>"
      ],
      "text/plain": [
       "2*pi"
      ]
     },
     "execution_count": 15,
     "metadata": {},
     "output_type": "execute_result"
    }
   ],
   "source": [
    "(zeta(2)/((factorial(1/2)^2)/3))"
   ]
  },
  {
   "cell_type": "markdown",
   "metadata": {},
   "source": [
    "Cette équation est importante, car elle montre le résultat mathématique de $c$ vs non physique.\n",
    "\n",
    "$\\frac{\\zeta(2)}{{\\frac{{(\\frac{1}{2}!)^2}}{3}}}$"
   ]
  },
  {
   "cell_type": "code",
   "execution_count": 16,
   "metadata": {},
   "outputs": [
    {
     "data": {
      "text/html": [
       "<html><script type=\"math/tex; mode=display\">\\newcommand{\\Bold}[1]{\\mathbf{#1}}\\lambda_{0} = 2 \\, \\pi</script></html>"
      ],
      "text/plain": [
       "lambda_0 == 2*pi"
      ]
     },
     "execution_count": 16,
     "metadata": {},
     "output_type": "execute_result"
    }
   ],
   "source": [
    "lz=lambda_0==zeta(2)/((factorial(1/2)^2)/3);lz"
   ]
  },
  {
   "cell_type": "code",
   "execution_count": 17,
   "metadata": {},
   "outputs": [
    {
     "data": {
      "text/html": [
       "<html><script type=\"math/tex; mode=display\">\\newcommand{\\Bold}[1]{\\mathbf{#1}}1.64493406684823</script></html>"
      ],
      "text/plain": [
       "1.64493406684823"
      ]
     },
     "execution_count": 17,
     "metadata": {},
     "output_type": "execute_result"
    }
   ],
   "source": [
    "zeta(2.0)"
   ]
  },
  {
   "cell_type": "code",
   "execution_count": 18,
   "metadata": {},
   "outputs": [
    {
     "data": {
      "text/html": [
       "<html><script type=\"math/tex; mode=display\">\\newcommand{\\Bold}[1]{\\mathbf{#1}}1.77245385090552</script></html>"
      ],
      "text/plain": [
       "1.77245385090552"
      ]
     },
     "execution_count": 18,
     "metadata": {},
     "output_type": "execute_result"
    }
   ],
   "source": [
    "factorial(1/2.0)*2"
   ]
  },
  {
   "cell_type": "code",
   "execution_count": 19,
   "metadata": {},
   "outputs": [
    {
     "data": {
      "text/html": [
       "<html><script type=\"math/tex; mode=display\">\\newcommand{\\Bold}[1]{\\mathbf{#1}}1.77245385090552</script></html>"
      ],
      "text/plain": [
       "1.77245385090552"
      ]
     },
     "execution_count": 19,
     "metadata": {},
     "output_type": "execute_result"
    }
   ],
   "source": [
    "sqrt(n(pi))"
   ]
  },
  {
   "cell_type": "code",
   "execution_count": 53,
   "metadata": {},
   "outputs": [
    {
     "data": {
      "image/png": "[encoded data removed]",
      "text/plain": [
       "Graphics object consisting of 2 graphics primitives"
      ]
     },
     "metadata": {},
     "output_type": "display_data"
    }
   ],
   "source": [
    "lb=line([(0,0),(0.4,0.88)],color=\"black\",linestyle=\":\");\n",
    "r=2/sqrt(n(pi));rs=1/sqrt(2.0)\n",
    "rc=r/1.33;r=2/sqrt(n(pi))\n",
    "cb=circle((0,0),rs,color=\"brown\")\n",
    "cr= circle((0,0),rc,color=\"red\")\n",
    "cg= circle((0,0),1,color=\"green\")\n",
    "show(cg+lb,gridlines=\"minor\",\n",
    "gridlinesstyle=dict(color=\"orange\",linestyle=\"-\",\n",
    "alpha=0.5),figsize=4,axes=True,frame=True,fontsize=5)"
   ]
  },
  {
   "cell_type": "code",
   "execution_count": 52,
   "metadata": {},
   "outputs": [
    {
     "data": {
      "image/png": "[encoded data removed]",
      "text/plain": [
       "Graphics object consisting of 2 graphics primitives"
      ]
     },
     "metadata": {},
     "output_type": "display_data"
    }
   ],
   "source": [
    "lb=line([(0,0),(1,1)],color=\"black\",linestyle=\":\");\n",
    "r=sqrt(n(pi));rs=1/sqrt(2.0)\n",
    "rc=r/1.33;r=2/sqrt(n(pi))\n",
    "cb=circle((0,0),rs,color=\"brown\")\n",
    "cr= circle((0,0),rc,color=\"red\")\n",
    "cg= circle((0,0),r,color=\"green\")\n",
    "show(cg+lb,gridlines=\"minor\",\n",
    "gridlinesstyle=dict(color=\"orange\",linestyle=\"-\",\n",
    "alpha=0.1),figsize=4,axes=True,frame=True,fontsize=5)"
   ]
  },
  {
   "cell_type": "code",
   "execution_count": 22,
   "metadata": {},
   "outputs": [
    {
     "data": {
      "image/png": "[encoded data removed]",
      "text/plain": [
       "Graphics object consisting of 7 graphics primitives"
      ]
     },
     "metadata": {},
     "output_type": "display_data"
    }
   ],
   "source": [
    "lb=line([(0,0),(1.2,1.2)],color=\"black\",linestyle=\":\");\n",
    "rs=1/sqrt(2.0)\n",
    "rc=zeta(2.0);r=2/sqrt(n(pi))\n",
    "cb=circle((0,0),1.7,color=\"green\")\n",
    "cr= circle((0,0),r/1.33,color=\"red\")\n",
    "cg= circle((0,0),r,color=\"brown\")\n",
    "cz= circle((0,0),sqrt(2),color=\"blue\")\n",
    "cy= circle((0,0),0.57,color=\"violet\")\n",
    "cx= circle((0,0),0.28,color=\"black\")\n",
    "#cv= circle((0,0),0.28,color=\"brown\")\n",
    "show(cg+lb+cr+cz+cy+cx+cb,gridlines=\"minor\",\n",
    "gridlinesstyle=dict(color=\"orange\",linestyle=\"-\",\n",
    "alpha=0.2),figsize=5,axes=True,frame=True,fontsize=5)"
   ]
  },
  {
   "cell_type": "code",
   "execution_count": 23,
   "metadata": {},
   "outputs": [
    {
     "data": {
      "image/png": "[encoded data removed]",
      "text/plain": [
       "Graphics object consisting of 11 graphics primitives"
      ]
     },
     "metadata": {},
     "output_type": "display_data"
    }
   ],
   "source": [
    "d1=line([(1,0),(1,1)],color=\"black\",linestyle=\":\")\n",
    "d2=line([(0,1),(1,1)],color=\"black\",linestyle=\":\")\n",
    "lb=line([(0.5,0.5),(1,1)],color=\"blue\",linestyle=\":\")\n",
    "lr=line([(0,0),(0.5,0.5)],color=\"red\",linestyle=\":\")\n",
    "p0 = point((0.2,0.2), color=\"red\",pointsize=10, zorder=5)\n",
    "p1 = point((0.4,0.4), color=\"blue\",pointsize=10, zorder=5)\n",
    "p2 = point((0.6,0.6), color=\"green\",pointsize=10, zorder=5)\n",
    "p3 = point((0.8,0.8), color=\"black\",pointsize=10, zorder=5)\n",
    "d3=line([(-1,-1),(-1,1),(1,1)],color=\"black\",linestyle=\":\");\n",
    "r=2/sqrt(n(pi))\n",
    "d4=cq=line([(1,1),(1,-1),(-1,-1)],color=\"black\",linestyle=\":\")\n",
    "ci = circle((0,0),r,color=\"red\",thickness=1,linestyle=\":\")\n",
    "show(ci+d1+d2+d3+d4+lb+lr+p0+p1+p2+p3,\n",
    "xmin=-1.2,xmax=1.2,ymin=-1.2,ymax=1.2,\n",
    "gridlines=\"minor\",gridlinesstyle=dict(color=\"orange\",\n",
    "linestyle=\"-\",alpha=0.1),axes=True,\n",
    "frame=True,fontsize=5,figsize=5)"
   ]
  },
  {
   "cell_type": "code",
   "execution_count": 24,
   "metadata": {},
   "outputs": [
    {
     "data": {
      "text/html": [
       "<html><script type=\"math/tex; mode=display\">\\newcommand{\\Bold}[1]{\\mathbf{#1}}\\left(\\lambda_{0}, p, S, E, R, L, h, m, L_{0}, f, \\lambda_{C}, \\mu, w, \\epsilon, c, \\nu, \\omega\\right)</script></html>"
      ],
      "text/plain": [
       "(lambda_0, p, S, E, R, L, h, m, L0, f, lambda_C, mu, w, epsilon, c, nu, omega)"
      ]
     },
     "execution_count": 24,
     "metadata": {},
     "output_type": "execute_result"
    }
   ],
   "source": [
    "var(\"lambda_0 p S E R L h m L0 f lambda_C mu w epsilon c nu omega\") "
   ]
  },
  {
   "cell_type": "code",
   "execution_count": 25,
   "metadata": {},
   "outputs": [
    {
     "data": {
      "text/html": [
       "<html><script type=\"math/tex; mode=display\">\\newcommand{\\Bold}[1]{\\mathbf{#1}}p = \\frac{E}{c}</script></html>"
      ],
      "text/plain": [
       "p == E/c"
      ]
     },
     "execution_count": 25,
     "metadata": {},
     "output_type": "execute_result"
    }
   ],
   "source": [
    "p==E/c"
   ]
  },
  {
   "cell_type": "code",
   "execution_count": 26,
   "metadata": {},
   "outputs": [
    {
     "data": {
      "text/html": [
       "<html><script type=\"math/tex; mode=display\">\\newcommand{\\Bold}[1]{\\mathbf{#1}}S = \\frac{1}{2} \\, \\pi h \\nu^{2}</script></html>"
      ],
      "text/plain": [
       "S == 1/2*pi*h*nu^2"
      ]
     },
     "execution_count": 26,
     "metadata": {},
     "output_type": "execute_result"
    }
   ],
   "source": [
    "S0=S==(h*nu/c)*(c/2*pi*nu);S0"
   ]
  },
  {
   "cell_type": "code",
   "execution_count": 27,
   "metadata": {},
   "outputs": [
    {
     "data": {
      "text/html": [
       "<html><script type=\"math/tex; mode=display\">\\newcommand{\\Bold}[1]{\\mathbf{#1}}S = \\frac{h}{2 \\, \\pi}</script></html>"
      ],
      "text/plain": [
       "S == 1/2*h/pi"
      ]
     },
     "execution_count": 27,
     "metadata": {},
     "output_type": "execute_result"
    }
   ],
   "source": [
    "S0=S==(h*nu/c)*(c/(2*pi*nu));S0"
   ]
  },
  {
   "cell_type": "code",
   "execution_count": 28,
   "metadata": {},
   "outputs": [
    {
     "data": {
      "text/html": [
       "<html><script type=\"math/tex; mode=display\">\\newcommand{\\Bold}[1]{\\mathbf{#1}}w = \\frac{c}{\\lambda_{C}}</script></html>"
      ],
      "text/plain": [
       "w == c/lambda_C"
      ]
     },
     "execution_count": 28,
     "metadata": {},
     "output_type": "execute_result"
    }
   ],
   "source": [
    "W0=w==c/lambda_C;W0"
   ]
  },
  {
   "cell_type": "code",
   "execution_count": 29,
   "metadata": {},
   "outputs": [
    {
     "data": {
      "text/html": [
       "<html><script type=\"math/tex; mode=display\">\\newcommand{\\Bold}[1]{\\mathbf{#1}}L_{0} = \\frac{1}{2} \\, c \\lambda_{C} m</script></html>"
      ],
      "text/plain": [
       "L0 == 1/2*c*lambda_C*m"
      ]
     },
     "execution_count": 29,
     "metadata": {},
     "output_type": "execute_result"
    }
   ],
   "source": [
    "L=I*w;L=L0==1/2*m*c*lambda_C;L"
   ]
  },
  {
   "cell_type": "code",
   "execution_count": 30,
   "metadata": {},
   "outputs": [
    {
     "data": {
      "text/html": [
       "<html><script type=\"math/tex; mode=display\">\\newcommand{\\Bold}[1]{\\mathbf{#1}}2 \\, \\pi f = \\frac{c^{2} m}{h}</script></html>"
      ],
      "text/plain": [
       "2*pi*f == c^2*m/h"
      ]
     },
     "execution_count": 30,
     "metadata": {},
     "output_type": "execute_result"
    }
   ],
   "source": [
    "w=2*pi*f\n",
    "L=w==m*c^2/h;L"
   ]
  },
  {
   "cell_type": "code",
   "execution_count": 31,
   "metadata": {},
   "outputs": [
    {
     "data": {
      "image/png": "[encoded data removed]",
      "text/plain": [
       "Graphics object consisting of 6 graphics primitives"
      ]
     },
     "metadata": {},
     "output_type": "display_data"
    }
   ],
   "source": [
    "r=2/sqrt(n(pi));c=circle((0,0),2);\n",
    "def f(x):\n",
    "    if x<0:return sqrt(-x^2-2*x)\n",
    "    else:return -sqrt(-x^2+2*x)\n",
    "a=plot(f,(x,-2,2),color='white',fill=sqrt(4-x^2),\n",
    "fillcolor=\"white\",alpha=0.1)\n",
    "b=plot(f,(x,-2,2),color='white',\n",
    "fill=-sqrt(4-x^2),fillcolor=\"red\",alpha=0.1)\n",
    "a1= arc((0,0), 2, angle=pi/2, sector=(1.6,1.5*pi),\n",
    "color=\"red\",thickness=1, zorder=5)\n",
    "show(a+b+c+a1,figsize=3,axes=False,fontsize=6,\n",
    "aspect_ratio=1)"
   ]
  },
  {
   "cell_type": "code",
   "execution_count": null,
   "metadata": {},
   "outputs": [],
   "source": []
  },
  {
   "cell_type": "code",
   "execution_count": null,
   "metadata": {},
   "outputs": [],
   "source": []
  },
  {
   "cell_type": "code",
   "execution_count": null,
   "metadata": {},
   "outputs": [],
   "source": []
  }
 ],
 "metadata": {
  "kernelspec": {
   "display_name": "Sage 9",
   "language": "sage",
   "name": "sagemath"
  },
  "language_info": {
   "codemirror_mode": {
    "name": "ipython",
    "version": 2
   },
   "file_extension": ".py",
   "mimetype": "text/x-python",
   "name": "python",
   "nbconvert_exporter": "python",
   "pygments_lexer": "ipython2",
   "version": "2.7.15"
  }
 },
 "nbformat": 4,
 "nbformat_minor": 2
}
