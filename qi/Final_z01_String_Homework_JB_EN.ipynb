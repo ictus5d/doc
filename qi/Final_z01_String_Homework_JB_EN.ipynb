{
 "cells": [
  {
   "cell_type": "markdown",
   "metadata": {},
   "source": [
    "<p> </p>\n",
    "<table style=\"border: 1px solid #060362; border-image: none;\" border=\"1\" frame=\"box\" cellpadding=\"10\" align=\"center\">\n",
    "<tbody>\n",
    "<tr>\n",
    "<td style=\"text-align: center;\"><span style=\"font-size: large; font-family: arial, helvetica, sans-serif;\">Jan Bielski</span></td>\n",
    "<td style=\"text-align: center;\"><span style=\"font-size: large; font-family: arial, helvetica, sans-serif;\">2C</span></td>\n",
    "<td style=\"text-align: center;\"><span style=\"font-size: large; font-family: arial, helvetica, sans-serif;\">12.04.2017</span></td>\n",
    "<td style=\"width: 100px; height: 100px; text-align: center;\" rowspan=\"3\"><span style=\"color: #ff0000; font-size: medium;\">10/10</span> </td>\n",
    "</tr>\n",
    "<tr>\n",
    "<td style=\"text-align: center;\" colspan=\"3\"><span style=\"font-size: large; font-family: arial, helvetica, sans-serif;\">Experimental Task no. 13</span></td>\n",
    "</tr>\n",
    "<tr>\n",
    "<td colspan=\"3\"><span style=\"font-size: large; font-family: arial, helvetica, sans-serif;\">\"Examining the dependece of frequency of string oscillation and its length\"</span></td>\n",
    "</tr>\n",
    "</tbody>\n",
    "</table>\n",
    "<p style=\"text-align: center;\"> </p>\n",
    "<p style=\"text-align: center;\"><span style=\"font-size: xx-large; font-family: helvetica;\"><strong>Theoretical</strong><strong> Background</strong></span></p>\n",
    "<table style=\"width: 1000px;\" border=\"0\" align=\"center\">\n",
    "<tbody>\n",
    "<tr>\n",
    "<td>\n",
    "<p style=\"text-align: justify;\"><span style=\"font-family: helvetica; font-size: medium;\">My task was to examine the dependence of frequency of string oscillation and its length. I used an electric guitar to do it. I examined the lowest string (E). A Pulled string moves with oscillatory motion. It means that its location, velocity and acceleration repeats after a certain period over and over. Frequency is the amount of full oscillations in one second, so it is a reciprocal of a period. Pulled string creates a standing wave, so its nodes and antinodes do not move. The tone of sound which is produced by an oscillating  string is determined almost only by the first harmonic of this oscillation, though a string is oscillating also with higher ones. However, the energy of higher harmonics is decreasing very fast and their influence on the sound tone is infinitesimal. That is why I assumed that the wavelength is determined by the string length in the following way, because the wave has only two nodes (places, where string is attached):</span></p>\n",
    "<p style=\"text-align: justify;\"><span style=\"font-family: helvetica; font-size: medium;\">$$\\lambda = 2L$$</span></p>\n",
    "<p style=\"text-align: justify;\"><span style=\"font-family: helvetica; font-size: medium;\">I created two plots to show the results of my experiment. The first plot shows the dependence of frequency and string length, and the second one shows the dependence of period and string length. As I mentioned before, frequency is a reciprocal of period:</span></p>\n",
    "<p style=\"text-align: justify;\"><span style=\"font-family: helvetica; font-size: medium;\">$$f=\\frac{1}{T}$$</span></p>\n",
    "<p style=\"text-align: justify;\"><span style=\"font-family: helvetica; font-size: medium;\">Knowing the frequency and wavelength I also calculated the phase velocity:</span></p>\n",
    "<p style=\"text-align: justify;\"><span style=\"font-family: helvetica; font-size: medium;\">$$v=\\lambda \\cdot f$$</span></p>\n",
    "</td>\n",
    "</tr>\n",
    "</tbody>\n",
    "</table>\n",
    "<p> </p>\n",
    "<p style=\"text-align: center;\"><span style=\"font-size: xx-large; font-family: helvetica;\"><strong>Description of system and actions</strong></span></p>\n",
    "<table style=\"width: 1000px;\" border=\"0\" align=\"center\">\n",
    "<tbody>\n",
    "<tr>\n",
    "<td>\n",
    "<p><span style=\"font-family: helvetica; font-size: medium;\">I needed the following things to do this experiment:</span></p>\n",
    "<ul>\n",
    "<li><span style=\"font-family: helvetica; font-size: medium;\"><span style=\"font-family: helvetica;\">Electric guitar</span></span></li>\n",
    "<li><span style=\"font-family: helvetica; font-size: medium;\"><span style=\"font-family: helvetica;\">Audio interface with built in preamps (Audiobox USB)</span></span></li>\n",
    "<li><span style=\"font-family: helvetica; font-size: medium;\"><span style=\"font-family: helvetica;\">Studio One 2 software (graduation value: 0.1 Hz, range: 0-99 kHz)</span></span></li>\n",
    "<li><span style=\"font-family: helvetica; font-size: medium;\"><span style=\"font-family: helvetica;\">Tape measure (graduation value: 1mm, range: 1m)</span></span></li>\n",
    "<li><span style=\"font-family: helvetica; font-size: medium;\"><span style=\"font-family: helvetica;\">6.3 mm Jack cable</span></span></li>\n",
    "</ul>\n",
    "<div style=\"text-align: justify;\"><span style=\"font-size: medium; line-height: 115%; font-family: helvetica;\" lang=\"EN-IE\">I plugged the guitar to the interface using a Jack cable. The metal string oscillation was generating an electric signal in the guitar’s pick-ups which was then empowered by pre-amp and analyzed by Studio One 2 software. After pulling the string I was able to read the frequency on my laptop. Having measured the string length (from the saddle to the bridge), I pulled it and read the frequency. I repeated the above steps reducing the string length by placing my finger on the further frets.</span></div>\n",
    "</td>\n",
    "</tr>\n",
    "</tbody>\n",
    "</table>\n",
    "<p style=\"text-align: center;\"><strong><span style=\"font-size: xx-large; font-family: helvetica;\"><img style=\"vertical-align: middle;\" src=\"uklad\" alt=\"\" width=\"888\" height=\"1184\" /></span></strong></p>\n",
    "<p style=\"text-align: center;\"><span style=\"font-family: helvetica; font-size: x-large;\"><strong>Measurements and Calculations results</strong></span></p>\n",
    "<table style=\"width: 1000px;\" border=\"1\" align=\"center\">\n",
    "<tbody>\n",
    "<tr>\n",
    "<td style=\"text-align: center;\"><span style=\"font-family: helvetica; font-size: small;\">Measurement</span></td>\n",
    "<td style=\"text-align: center;\"><span style=\"font-family: helvetica; font-size: small;\">1</span></td>\n",
    "<td style=\"text-align: center;\"><span style=\"font-family: helvetica; font-size: small;\">2</span></td>\n",
    "<td style=\"text-align: center;\"><span style=\"font-family: helvetica; font-size: small;\">3</span></td>\n",
    "<td style=\"text-align: center;\"><span style=\"font-family: helvetica; font-size: small;\">4</span></td>\n",
    "<td style=\"text-align: center;\"><span style=\"font-family: helvetica; font-size: small;\">5</span></td>\n",
    "<td style=\"text-align: center;\"><span style=\"font-family: helvetica; font-size: small;\">6</span></td>\n",
    "<td style=\"text-align: center;\"><span style=\"font-family: helvetica; font-size: small;\">7</span></td>\n",
    "<td style=\"text-align: center;\"><span style=\"font-family: helvetica; font-size: small;\">8</span></td>\n",
    "<td style=\"text-align: center;\"><span style=\"font-family: helvetica; font-size: small;\">9</span></td>\n",
    "<td style=\"text-align: center;\"><span style=\"font-family: helvetica; font-size: small;\">10</span></td>\n",
    "<td style=\"text-align: center;\"><span style=\"font-family: helvetica; font-size: small;\">11</span></td>\n",
    "<td style=\"text-align: center;\"><span style=\"font-family: helvetica; font-size: small;\">12</span></td>\n",
    "<td style=\"text-align: center;\"><span style=\"font-family: helvetica; font-size: small;\">13</span></td>\n",
    "<td style=\"text-align: center;\"><span style=\"font-family: helvetica; font-size: small;\">14</span></td>\n",
    "<td style=\"text-align: center;\"><span style=\"font-family: helvetica; font-size: small;\">15</span></td>\n",
    "<td style=\"text-align: center;\"><span style=\"font-family: helvetica; font-size: small;\">16</span></td>\n",
    "<td style=\"text-align: center;\"><span style=\"font-family: helvetica; font-size: small;\">17</span></td>\n",
    "<td style=\"text-align: center;\"><span style=\"font-family: helvetica; font-size: small;\">18</span></td>\n",
    "<td style=\"text-align: center;\"><span style=\"font-family: helvetica; font-size: small;\">19</span></td>\n",
    "<td style=\"text-align: center;\"><span style=\"font-family: helvetica; font-size: small;\">20</span></td>\n",
    "</tr>\n",
    "<tr>\n",
    "<td style=\"text-align: center;\"><span style=\"font-family: helvetica; font-size: small;\">String Length [m]</span></td>\n",
    "<td style=\"text-align: center;\"><span style=\"font-family: helvetica; font-size: small;\">0,634</span></td>\n",
    "<td style=\"text-align: center;\"><span style=\"font-family: helvetica; font-size: small;\">0,601</span></td>\n",
    "<td style=\"text-align: center;\"><span style=\"font-family: helvetica; font-size: small;\">0,568</span></td>\n",
    "<td style=\"text-align: center;\"><span style=\"font-family: helvetica; font-size: small;\">0,536</span></td>\n",
    "<td style=\"text-align: center;\"><span style=\"font-family: helvetica; font-size: small;\">0,507</span></td>\n",
    "<td style=\"text-align: center;\"><span style=\"font-family: helvetica; font-size: small;\">0,479</span></td>\n",
    "<td style=\"text-align: center;\"><span style=\"font-family: helvetica; font-size: small;\">0,452</span></td>\n",
    "<td style=\"text-align: center;\"><span style=\"font-family: helvetica; font-size: small;\">0,427</span></td>\n",
    "<td style=\"text-align: center;\"><span style=\"font-family: helvetica; font-size: small;\">0,404</span></td>\n",
    "<td style=\"text-align: center;\"><span style=\"font-family: helvetica; font-size: small;\">0,382</span></td>\n",
    "<td style=\"text-align: center;\"><span style=\"font-family: helvetica; font-size: small;\">0,361</span></td>\n",
    "<td style=\"text-align: center;\"><span style=\"font-family: helvetica; font-size: small;\">0,341</span></td>\n",
    "<td style=\"text-align: center;\"><span style=\"font-family: helvetica; font-size: small;\">0,321</span></td>\n",
    "<td style=\"text-align: center;\"><span style=\"font-family: helvetica; font-size: small;\">0,304</span></td>\n",
    "<td style=\"text-align: center;\"><span style=\"font-family: helvetica; font-size: small;\">0,287</span></td>\n",
    "<td style=\"text-align: center;\"><span style=\"font-family: helvetica; font-size: small;\">0,272</span></td>\n",
    "<td style=\"text-align: center;\"><span style=\"font-family: helvetica; font-size: small;\">0,261</span></td>\n",
    "<td style=\"text-align: center;\"><span style=\"font-family: helvetica; font-size: small;\">0,247</span></td>\n",
    "<td style=\"text-align: center;\"><span style=\"font-family: helvetica; font-size: small;\">0,231</span></td>\n",
    "<td style=\"text-align: center;\"><span style=\"font-family: helvetica; font-size: small;\">0,218</span></td>\n",
    "</tr>\n",
    "<tr>\n",
    "<td style=\"text-align: center;\"><span style=\"font-family: helvetica; font-size: small;\">Frequency [Hz]</span></td>\n",
    "<td style=\"text-align: center;\"><span style=\"font-family: helvetica; font-size: small;\">82,4</span></td>\n",
    "<td style=\"text-align: center;\"><span style=\"font-family: helvetica; font-size: small;\">87,5</span></td>\n",
    "<td style=\"text-align: center;\"><span style=\"font-family: helvetica; font-size: small;\">93</span></td>\n",
    "<td style=\"text-align: center;\"><span style=\"font-family: helvetica; font-size: small;\">98,1</span></td>\n",
    "<td style=\"text-align: center;\"><span style=\"font-family: helvetica; font-size: small;\">104,2</span></td>\n",
    "<td style=\"text-align: center;\"><span style=\"font-family: helvetica; font-size: small;\">110</span></td>\n",
    "<td style=\"text-align: center;\"><span style=\"font-family: helvetica; font-size: small;\">116,7</span></td>\n",
    "<td style=\"text-align: center;\"><span style=\"font-family: helvetica; font-size: small;\">123,8</span></td>\n",
    "<td style=\"text-align: center;\"><span style=\"font-family: helvetica; font-size: small;\">130,8</span></td>\n",
    "<td style=\"text-align: center;\"><span style=\"font-family: helvetica; font-size: small;\">138,7</span></td>\n",
    "<td style=\"text-align: center;\"><span style=\"font-family: helvetica; font-size: small;\">146,7</span></td>\n",
    "<td style=\"text-align: center;\"><span style=\"font-family: helvetica; font-size: small;\">155,7</span></td>\n",
    "<td style=\"text-align: center;\"><span style=\"font-family: helvetica; font-size: small;\">164,5</span></td>\n",
    "<td style=\"text-align: center;\"><span style=\"font-family: helvetica; font-size: small;\">173,6</span></td>\n",
    "<td style=\"text-align: center;\"><span style=\"font-family: helvetica; font-size: small;\">184,4</span></td>\n",
    "<td style=\"text-align: center;\"><span style=\"font-family: helvetica; font-size: small;\">194,5</span></td>\n",
    "<td style=\"text-align: center;\"><span style=\"font-family: helvetica; font-size: small;\">205,6</span></td>\n",
    "<td style=\"text-align: center;\"><span style=\"font-family: helvetica; font-size: small;\">218,3</span></td>\n",
    "<td style=\"text-align: center;\"><span style=\"font-family: helvetica; font-size: small;\">230,3</span></td>\n",
    "<td style=\"text-align: center;\"><span style=\"font-family: helvetica; font-size: small;\">244,2</span></td>\n",
    "</tr>\n",
    "</tbody>\n",
    "</table>\n",
    "<p style=\"text-align: center;\"><strong><span style=\"font-size: xx-large; font-family: helvetica;\"><br /></span></strong></p>\n",
    "<p style=\"text-align: center;\"><span style=\"font-size: large;\"><span style=\"font-family: helvetica; font-size: x-large;\">Plot f(L)</span></span></p>"
   ]
  },
  {
   "cell_type": "code",
   "execution_count": 2,
   "metadata": {},
   "outputs": [
    {
     "data": {
      "text/plain": [
       "{b: -2.3878223952344855, a: 53.8630165016529}"
      ]
     },
     "execution_count": 2,
     "metadata": {},
     "output_type": "execute_result"
    }
   ],
   "source": [
    "import numpy as np\n",
    "import matplotlib.pyplot as plt\n",
    "var('a,b')\n",
    "l=[0.634,0.601,0.568,0.536,0.507,0.479,0.452,0.427,0.404,0.382,0.361,0.341,0.321,0.304,0.287,0.272,0.261,0.247,0.231,0.218]\n",
    "f=[82.4,87.5,93,98.1,104.2,110,116.7,123.8,130.8,138.7,146.7,155.7,164.5,173.6,184.4,194.5,205.6,218.3,230.3,244.2]\n",
    "hyper(x)=a/x+b\n",
    "pkt=zip(l,f)\n",
    "fit=find_fit(pkt, hyper, solution_dict=True)\n",
    "print fit\n",
    "plt.clf()\n",
    "plt.errorbar(l, f, xerr=0.001, yerr=0.1, fmt='.',color=\"blue\")\n",
    "plt.xlabel(\"String Length [m]\")\n",
    "plt.ylabel(\"Frequency [Hz]\")\n",
    "l_ = np.linspace(0.7,0.2,1000)\n",
    "plt.plot(l_,a.subs(fit)/l_+b.subs(fit),color=\"green\")\n",
    "plt.grid(color=\"gray\",ls='-.')\n",
    "plt.xlim(0.2, 0.65)\n",
    "plt.ylim(70, 250)\n",
    "plt.savefig('1.png')"
   ]
  },
  {
   "cell_type": "markdown",
   "metadata": {},
   "source": [
    "<p style=\"text-align: center;\"><span style=\"font-family: helvetica; font-size: x-large;\">Plot T(L)</span></p>\n",
    "<p style=\"text-align: center;\"><span style=\"font-size: medium; font-family: helvetica;\">I calculated the uncertainty using the worst case method.<br /></span></p>"
   ]
  },
  {
   "cell_type": "code",
   "execution_count": 5,
   "metadata": {},
   "outputs": [
    {
     "data": {
      "text/plain": [
       "{d: -0.00011500795637356685, c: 0.019216813309172097}"
      ]
     },
     "execution_count": 5,
     "metadata": {},
     "output_type": "execute_result"
    }
   ],
   "source": [
    "var('c,d')\n",
    "t=[(1/f[i]) for i in range (20)]\n",
    "delta_t=[((1/(f[i]-0.1)-1/(f[i]+0.1))/2) for i in range (20)]\n",
    "straight(x)=c*x+d\n",
    "pkt2=zip(l,t)\n",
    "fit2=find_fit(pkt2, straight, solution_dict=True)\n",
    "print fit2\n",
    "plt.clf()\n",
    "plt.errorbar(l, t, xerr=0.001, yerr=delta_t, fmt='.',color=\"blue\")\n",
    "plt.xlabel(\"String Length [m]\")\n",
    "plt.ylabel(\"Oscilation Period [s]\")\n",
    "l_ = np.linspace(l[0],0.2,1000)\n",
    "plt.plot(l_,c.subs(fit2)*l_+d.subs(fit2),color=\"green\")\n",
    "plt.grid(color=\"gray\",ls='-.')\n",
    "plt.xlim(0.2, 0.65)\n",
    "plt.ylim(0.003, 0.0125)\n",
    "plt.savefig('2.png')"
   ]
  },
  {
   "cell_type": "code",
   "execution_count": 8,
   "metadata": {},
   "outputs": [
    {
     "data": {
      "text/plain": [
       "Phase velocity:  105.866640000000 m/s +-  0.738275038180217 m/s"
      ]
     },
     "execution_count": 8,
     "metadata": {},
     "output_type": "execute_result"
    }
   ],
   "source": [
    "v=[(2*l[i]*f[i]) for i in range(20)]\n",
    "v_sr=mean(v)\n",
    "delta_v=std(v)\n",
    "print \"Phase velocity: \",v_sr,\"m/s +- \",delta_v,\"m/s\""
   ]
  },
  {
   "cell_type": "markdown",
   "metadata": {},
   "source": [
    "<p style=\"text-align: center;\"><strong><span style=\"font-family: helvetica; font-size: xx-large;\">Error Analysis</span></strong></p>\n",
    "<p> </p>\n",
    "<table style=\"width: 1000px;\" border=\"0\" align=\"center\">\n",
    "<tbody>\n",
    "<tr>\n",
    "<td style=\"text-align: justify;\"><span style=\"font-size: medium; font-family: helvetica;\">I am very satisfied with the experiment results. I managed to obtain f(L) plot in the shape of a hyperbola and linear f(T) plot, as it stems from theoretical knowledge about oscillatory motion and waves. The only uncertainty which occurred during the experiment was the dependence of frequency and angle of my finger on the frets and small changes in string gut arising from the guitar construction. I was able to effectuate very accurate measurements, which can be seen by comparing constructed plots with textbook examples. </span></td>\n",
    "</tr>\n",
    "</tbody>\n",
    "</table>\n",
    "<p style=\"text-align: center;\"><strong><span style=\"font-family: helvetica; font-size: xx-large;\"><br /></span></strong></p>"
   ]
  },
  {
   "cell_type": "code",
   "execution_count": 6,
   "metadata": {},
   "outputs": [
    {
     "data": {
      "text/plain": []
     },
     "execution_count": 6,
     "metadata": {},
     "output_type": "execute_result"
    }
   ],
   "source": []
  },
  {
   "cell_type": "code",
   "execution_count": 4,
   "metadata": {},
   "outputs": [
    {
     "data": {
      "text/plain": []
     },
     "execution_count": 4,
     "metadata": {},
     "output_type": "execute_result"
    }
   ],
   "source": []
  }
 ],
 "metadata": {
  "kernelspec": {
   "display_name": "SageMath 8.1",
   "language": "",
   "name": "sagemath"
  },
  "language": "python",
  "language_info": {
   "codemirror_mode": {
    "name": "ipython",
    "version": 2
   },
   "file_extension": ".py",
   "mimetype": "text/x-python",
   "name": "python",
   "nbconvert_exporter": "python",
   "pygments_lexer": "ipython2",
   "version": "2.7.15+"
  }
 },
 "nbformat": 4,
 "nbformat_minor": 2
}
