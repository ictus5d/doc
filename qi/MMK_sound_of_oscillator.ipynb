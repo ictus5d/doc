{
 "cells": [
  {
   "cell_type": "code",
   "execution_count": 69,
   "metadata": {},
   "outputs": [
    {
     "data": {
      "text/plain": []
     },
     "execution_count": 69,
     "metadata": {},
     "output_type": "execute_result"
    }
   ],
   "source": [
    "import numpy, wave\n",
    "\n",
    "def sound_data(frequency, length, amplitude=1, sample_rate=44100):\n",
    "    time_points = numpy.linspace(0, length, length*sample_rate)\n",
    "    \n",
    "    data = numpy.sin(2*numpy.pi*frequency*time_points)\n",
    "    data = amplitude*data\n",
    "\n",
    "    return data\n",
    "\n",
    "def convert_sound_data(data):\n",
    "    max_amplitude = 2**15-1\n",
    "    \n",
    "    data = max_amplitude*data\n",
    "    data = data.astype(numpy.int16).tostring()\n",
    "    \n",
    "    return data\n",
    "    \n",
    "def write_sound(data, filename):\n",
    "    file = wave.open(filename, 'w')\n",
    "    \n",
    "    file.setnchannels(1)\n",
    "    file.setsampwidth(2)\n",
    "    file.setframerate(44100)\n",
    "    \n",
    "    file.writeframesraw(convert_sound_data(data))\n",
    "    \n",
    "    file.close()"
   ]
  },
  {
   "cell_type": "markdown",
   "metadata": {},
   "source": [
    "<h1>Play a $\\sin(x)$ ?</h1>"
   ]
  },
  {
   "cell_type": "code",
   "execution_count": 53,
   "metadata": {},
   "outputs": [
    {
     "data": {
      "text/plain": []
     },
     "execution_count": 53,
     "metadata": {},
     "output_type": "execute_result"
    }
   ],
   "source": [
    "plot(sin,(1,11))"
   ]
  },
  {
   "cell_type": "code",
   "execution_count": 9,
   "metadata": {},
   "outputs": [
    {
     "data": {
      "text/plain": []
     },
     "execution_count": 9,
     "metadata": {},
     "output_type": "execute_result"
    }
   ],
   "source": [
    "import numpy as np \n",
    "time_points = np.linspace(0, 5, 5*44100)\n",
    "data = 0.5*np.sin(2*np.pi*(196)*time_points)\n",
    "write_sound(data, 'test1.wav')\n",
    "html('<audio src=\"cell://test1.wav\" controls=\"controls\"></audio>')"
   ]
  },
  {
   "cell_type": "code",
   "execution_count": 62,
   "metadata": {},
   "outputs": [
    {
     "data": {
      "text/plain": []
     },
     "execution_count": 62,
     "metadata": {},
     "output_type": "execute_result"
    }
   ],
   "source": [
    "line( zip(time_points[:2000],data),thickness=.2,figsize=(9,2))"
   ]
  },
  {
   "cell_type": "markdown",
   "metadata": {},
   "source": [
    "<h1>Beat </h1>\n",
    "<p>In <a title=\"Acoustics\" href=\"http://en.wikipedia.org/wiki/Acoustics\">acoustics</a>, a <strong>beat</strong> is an <a title=\"Interference (wave propagation)\" href=\"http://en.wikipedia.org/wiki/Interference_%28wave_propagation%29\">interference</a> between two <a title=\"Sound\" href=\"http://en.wikipedia.org/wiki/Sound\">sounds</a> of slightly different <a title=\"Frequency\" href=\"http://en.wikipedia.org/wiki/Frequency\">frequencies</a>, perceived as periodic variations in volume whose rate is the <a title=\"Difference (mathematics)\" href=\"http://en.wikipedia.org/wiki/Difference_%28mathematics%29\">difference</a> between the two frequencies.</p>\n",
    "<p>$$ { \\sin(2\\pi f_1t)+\\sin(2\\pi f_2t) } = { 2\\cos\\left(2\\pi\\frac{f_1-f_2}{2}t\\right)\\sin\\left(2\\pi\\frac{f_1+f_2}{2}t\\right) }$$</p>"
   ]
  },
  {
   "cell_type": "code",
   "execution_count": 61,
   "metadata": {},
   "outputs": [
    {
     "data": {
      "text/plain": []
     },
     "execution_count": 61,
     "metadata": {},
     "output_type": "execute_result"
    }
   ],
   "source": [
    "time_points =numpy.linspace(0, 5, 5*44100)\n",
    "data = 0.3*numpy.sin(2*np.pi*(196)*time_points)\n",
    "data1 = 0.3*numpy.sin(2*np.pi*(196+.52)*time_points)\n",
    "write_sound(data+data1, 'test2.wav')\n",
    "html('<audio src=\"cell://test2.wav\" controls=\"controls\"></audio>')"
   ]
  },
  {
   "cell_type": "code",
   "execution_count": 65,
   "metadata": {},
   "outputs": [
    {
     "data": {
      "text/plain": []
     },
     "execution_count": 65,
     "metadata": {},
     "output_type": "execute_result"
    }
   ],
   "source": [
    "line( zip(time_points[:200000],data+data1),thickness=.1,figsize=(9,2))"
   ]
  },
  {
   "cell_type": "code",
   "execution_count": 63,
   "metadata": {},
   "outputs": [
    {
     "data": {
      "text/plain": []
     },
     "execution_count": 63,
     "metadata": {},
     "output_type": "execute_result"
    }
   ],
   "source": []
  },
  {
   "cell_type": "markdown",
   "metadata": {},
   "source": [
    "<h1>Sound of the nonlinear oscillator.</h1>"
   ]
  },
  {
   "cell_type": "code",
   "execution_count": 8,
   "metadata": {},
   "outputs": [
    {
     "data": {
      "text/plain": []
     },
     "execution_count": 8,
     "metadata": {},
     "output_type": "execute_result"
    }
   ],
   "source": [
    "import numpy as np\n",
    "var('x,y')\n",
    "eqs = [ y,-sin(x)]\n",
    "t  = np.linspace(0,24*pi.n(),1500)\n",
    "ICx = 3.14\n",
    "sol = desolve_odeint(eqs,[ICx,0],t,[x,y])\n",
    "p = line(zip(t,sol[:,0]))\n",
    "p.show(figsize=(8,2))"
   ]
  },
  {
   "cell_type": "code",
   "execution_count": 36,
   "metadata": {},
   "outputs": [
    {
     "data": {
      "text/plain": [
       "The_sound_of_oscillations_II"
      ]
     },
     "execution_count": 36,
     "metadata": {},
     "output_type": "execute_result"
    }
   ],
   "source": [
    "X = np.sign(sol[:,0])[1:] \n",
    "idx = np.nonzero(np.array(map(prod,zip(X,X[1:])))<0)\n",
    "T = t[idx[0][2]]-t[idx[0][0]]\n",
    "print \"The_sound_of_oscillations_II\"\n",
    "\n",
    "var('x')\n",
    "sampling = 44100\n",
    "sound_freq = 196\n",
    "t  = np.linspace(0,T,floor(sampling/sound_freq))\n",
    "\n",
    "sol = desolve_odeint(eqs,[ICx,0],t,[x,y])\n",
    "\n",
    "line(zip(t,sol[:,0]))\n",
    "x = sol[:,0]\n",
    "Nperiods =3*sound_freq\n",
    "\n",
    "tt  = np.linspace(0,Nperiods*T,3*sampling)\n",
    "\n",
    "xx = x*np.ones((Nperiods,x.shape[0]))\n",
    "xx = xx.flatten()"
   ]
  },
  {
   "cell_type": "code",
   "execution_count": 40,
   "metadata": {},
   "outputs": [
    {
     "data": {
      "text/plain": []
     },
     "execution_count": 40,
     "metadata": {},
     "output_type": "execute_result"
    }
   ],
   "source": []
  },
  {
   "cell_type": "code",
   "execution_count": 21,
   "metadata": {},
   "outputs": [
    {
     "data": {
      "text/plain": []
     },
     "execution_count": 21,
     "metadata": {},
     "output_type": "execute_result"
    }
   ],
   "source": [
    "time_points =numpy.linspace(0, 5, 5*44100)\n",
    "data_225 = 0.5*numpy.sin(2*np.pi*(196)*time_points)\n",
    "write_sound(data_225, 'test225.wav')\n",
    "html('<audio src=\"cell://test225.wav\" controls=\"controls\"></audio>')"
   ]
  },
  {
   "cell_type": "code",
   "execution_count": 51,
   "metadata": {},
   "outputs": [
    {
     "data": {
      "text/plain": []
     },
     "execution_count": 51,
     "metadata": {},
     "output_type": "execute_result"
    }
   ],
   "source": [
    "line( zip(time_points[:10000],data_225),thickness=1.2,figsize=(9,2))"
   ]
  },
  {
   "cell_type": "code",
   "execution_count": 22,
   "metadata": {},
   "outputs": [
    {
     "data": {
      "text/plain": []
     },
     "execution_count": 22,
     "metadata": {},
     "output_type": "execute_result"
    }
   ],
   "source": [
    "data = xx\n",
    "data = data / np.max(data)/2\n",
    "write_sound(data, 'test.wav')\n",
    "html('<audio src=\"cell://test.wav\" controls=\"controls\"></audio>')"
   ]
  },
  {
   "cell_type": "code",
   "execution_count": 23,
   "metadata": {},
   "outputs": [
    {
     "data": {
      "text/plain": []
     },
     "execution_count": 23,
     "metadata": {},
     "output_type": "execute_result"
    }
   ],
   "source": [
    "line( zip(tt[:10000],xx),thickness=1.2,figsize=(9,2))"
   ]
  },
  {
   "cell_type": "markdown",
   "metadata": {},
   "source": [
    "<h1>The Fourier Transformation</h1>"
   ]
  },
  {
   "cell_type": "code",
   "execution_count": 71,
   "metadata": {},
   "outputs": [
    {
     "data": {
      "text/plain": []
     },
     "execution_count": 71,
     "metadata": {},
     "output_type": "execute_result"
    }
   ],
   "source": [
    "data = data_225\n",
    "#data = data_225[:32122]"
   ]
  },
  {
   "cell_type": "code",
   "execution_count": 59,
   "metadata": {},
   "outputs": [
    {
     "data": {
      "text/plain": []
     },
     "execution_count": 59,
     "metadata": {},
     "output_type": "execute_result"
    }
   ],
   "source": [
    "Fx = np.fft.fft(data )\n",
    "line(zip(np.fft.fftshift(np.fft.fftfreq(data.size,d=1.0/44100)), np.abs( np.fft.fftshift(Fx))), xmin=-1250,xmax=1250 ,figsize=(8,4),thickness=3)"
   ]
  },
  {
   "cell_type": "code",
   "execution_count": 70,
   "metadata": {},
   "outputs": [
    {
     "data": {
      "text/plain": [
       "(132300,)"
      ]
     },
     "execution_count": 70,
     "metadata": {},
     "output_type": "execute_result"
    }
   ],
   "source": [
    "xx.shape"
   ]
  },
  {
   "cell_type": "code",
   "execution_count": 58,
   "metadata": {},
   "outputs": [
    {
     "data": {
      "text/plain": []
     },
     "execution_count": 58,
     "metadata": {},
     "output_type": "execute_result"
    }
   ],
   "source": [
    "data = xx #[:2345]\n",
    "Fx = np.fft.fft( data )\n",
    "line(zip(np.fft.fftshift(np.fft.fftfreq(data.size,d=1.0/44100)), np.abs( np.fft.fftshift(Fx))), xmin=-2250,xmax=2250 ,figsize=(8,4),thickness=3)"
   ]
  },
  {
   "cell_type": "markdown",
   "metadata": {},
   "source": [
    "<h2>Lorenz system - the Sound of the deterministic chaos!<img style=\"float: right;\" src=\"http://upload.wikimedia.org/wikipedia/commons/thumb/e/e0/Lorenz.png/200px-Lorenz.png\" alt=\"\" width=\"200\" height=\"187\" /></h2>\n",
    "<p>$$\\begin{cases}\\dot x= -10 \\, x + 10 \\, y, \\\\\\dot y=  -(z - 28) x - y , \\\\\\dot z= x y - \\frac{8}{3} \\, z \\end{cases}$$</p>\n",
    "<h2>Chaos theory studies the behavior of <a title=\"Dynamical system\" href=\"http://en.wikipedia.org/wiki/Dynamical_system\">dynamical systems</a> that are highly sensitive to initial conditions</h2>"
   ]
  },
  {
   "cell_type": "code",
   "execution_count": 41,
   "metadata": {},
   "outputs": [
    {
     "data": {
      "text/plain": [
       "CPU time: 4.15 s,  Wall time: 4.14 s"
      ]
     },
     "execution_count": 41,
     "metadata": {},
     "output_type": "execute_result"
    }
   ],
   "source": [
    "%%time\n",
    "x,y,z=var('x,y,z')\n",
    "\n",
    "sigma=10\n",
    "rho=28\n",
    "beta=8/3\n",
    "lorenz=[sigma*(y-x),x*(rho-z)-y,x*y-beta*z]\n",
    "times=srange(0,2200,0.015)\n",
    "ics=[0,1,1]\n",
    "sol=desolve_odeint(lorenz,ics,times,[x,y,z])# ,rtol=1e-13,atol=1e-14)"
   ]
  },
  {
   "cell_type": "code",
   "execution_count": 50,
   "metadata": {},
   "outputs": [
    {
     "data": {
      "text/plain": []
     },
     "execution_count": 50,
     "metadata": {},
     "output_type": "execute_result"
    }
   ],
   "source": []
  },
  {
   "cell_type": "code",
   "execution_count": 42,
   "metadata": {},
   "outputs": [
    {
     "data": {
      "text/plain": []
     },
     "execution_count": 42,
     "metadata": {},
     "output_type": "execute_result"
    }
   ],
   "source": [
    "x =sol[:,2]\n",
    "x = x - np.average(x) \n",
    "line(zip(times,x[:12344]),thickness=0.2,figsize=(8,2))"
   ]
  },
  {
   "cell_type": "code",
   "execution_count": 45,
   "metadata": {},
   "outputs": [
    {
     "data": {
      "text/plain": [
       "(146667,)"
      ]
     },
     "execution_count": 45,
     "metadata": {},
     "output_type": "execute_result"
    }
   ],
   "source": [
    "x.shape"
   ]
  },
  {
   "cell_type": "code",
   "execution_count": 44,
   "metadata": {},
   "outputs": [
    {
     "data": {
      "text/plain": []
     },
     "execution_count": 44,
     "metadata": {},
     "output_type": "execute_result"
    }
   ],
   "source": [
    "data = x\n",
    "data = data / np.max(data)/2\n",
    "write_sound(data, 'test.wav')\n",
    "html('<audio src=\"cell://test.wav\" controls=\"controls\"></audio>')"
   ]
  },
  {
   "cell_type": "code",
   "execution_count": 28,
   "metadata": {},
   "outputs": [
    {
     "data": {
      "text/plain": []
     },
     "execution_count": 28,
     "metadata": {},
     "output_type": "execute_result"
    }
   ],
   "source": [
    "Fx = np.fft.fft( x )"
   ]
  },
  {
   "cell_type": "code",
   "execution_count": 29,
   "metadata": {},
   "outputs": [
    {
     "data": {
      "text/plain": []
     },
     "execution_count": 29,
     "metadata": {},
     "output_type": "execute_result"
    }
   ],
   "source": [
    "line(zip(np.fft.fftshift(np.fft.fftfreq(x.size,d=1.0/44100)), np.abs( np.fft.fftshift(Fx))), xmin=-3250,xmax=3250,figsize=(12,3),thickness=0.05 )"
   ]
  },
  {
   "cell_type": "code",
   "execution_count": 27,
   "metadata": {},
   "outputs": [
    {
     "data": {
      "text/plain": []
     },
     "execution_count": 27,
     "metadata": {},
     "output_type": "execute_result"
    }
   ],
   "source": []
  },
  {
   "cell_type": "code",
   "execution_count": 24,
   "metadata": {},
   "outputs": [
    {
     "data": {
      "text/plain": []
     },
     "execution_count": 24,
     "metadata": {},
     "output_type": "execute_result"
    }
   ],
   "source": []
  },
  {
   "cell_type": "code",
   "execution_count": 26,
   "metadata": {},
   "outputs": [
    {
     "data": {
      "text/plain": []
     },
     "execution_count": 26,
     "metadata": {},
     "output_type": "execute_result"
    }
   ],
   "source": []
  },
  {
   "cell_type": "code",
   "execution_count": 33,
   "metadata": {},
   "outputs": [
    {
     "data": {
      "text/plain": []
     },
     "execution_count": 33,
     "metadata": {},
     "output_type": "execute_result"
    }
   ],
   "source": []
  },
  {
   "cell_type": "code",
   "execution_count": 31,
   "metadata": {},
   "outputs": [
    {
     "data": {
      "text/plain": []
     },
     "execution_count": 31,
     "metadata": {},
     "output_type": "execute_result"
    }
   ],
   "source": []
  },
  {
   "cell_type": "code",
   "execution_count": 34,
   "metadata": {},
   "outputs": [
    {
     "data": {
      "text/plain": []
     },
     "execution_count": 34,
     "metadata": {},
     "output_type": "execute_result"
    }
   ],
   "source": []
  },
  {
   "cell_type": "code",
   "execution_count": 35,
   "metadata": {},
   "outputs": [
    {
     "data": {
      "text/plain": []
     },
     "execution_count": 35,
     "metadata": {},
     "output_type": "execute_result"
    }
   ],
   "source": [
    "import numpy, wave\n",
    "\n",
    "def sound_data(frequency, length, amplitude=1, sample_rate=44100):\n",
    "    time_points = numpy.linspace(0, length, length*sample_rate)\n",
    "    \n",
    "    data = numpy.sin(2*numpy.pi*frequency*time_points)\n",
    "    data = amplitude*data\n",
    "    \n",
    "    return data\n",
    "    \n",
    "def convert_sound_data(data):\n",
    "    max_amplitude = 2**15-1\n",
    "    \n",
    "    data = max_amplitude*data\n",
    "    data = data.astype(numpy.int16).tostring()\n",
    "    \n",
    "    return data\n",
    "\n",
    "def write_sound(data, filename):\n",
    "    file = wave.open(filename, 'w')\n",
    "    \n",
    "    file.setnchannels(1)\n",
    "    file.setsampwidth(2)\n",
    "    file.setframerate(44100)\n",
    "    \n",
    "    file.writeframesraw(convert_sound_data(data))\n",
    "    \n",
    "    file.close()"
   ]
  },
  {
   "cell_type": "code",
   "execution_count": 68,
   "metadata": {},
   "outputs": [
    {
     "data": {
      "text/plain": []
     },
     "execution_count": 68,
     "metadata": {},
     "output_type": "execute_result"
    }
   ],
   "source": []
  }
 ],
 "metadata": {
  "kernelspec": {
   "display_name": "SageMath 8.1",
   "language": "",
   "name": "sagemath"
  },
  "language": "python",
  "language_info": {
   "codemirror_mode": {
    "name": "ipython",
    "version": 2
   },
   "file_extension": ".py",
   "mimetype": "text/x-python",
   "name": "python",
   "nbconvert_exporter": "python",
   "pygments_lexer": "ipython2",
   "version": "2.7.15+"
  }
 },
 "nbformat": 4,
 "nbformat_minor": 2
}
