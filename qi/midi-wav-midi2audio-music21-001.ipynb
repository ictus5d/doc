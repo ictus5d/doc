{
 "cells": [
  {
   "cell_type": "code",
   "execution_count": 1,
   "metadata": {
    "run_control": {
     "frozen": false,
     "read_only": false
    }
   },
   "outputs": [],
   "source": [
    "from music21 import *\n",
    "from midi2audio import FluidSynth\n",
    "from random import randrange"
   ]
  },
  {
   "cell_type": "code",
   "execution_count": 2,
   "metadata": {
    "run_control": {
     "frozen": false,
     "read_only": false
    }
   },
   "outputs": [],
   "source": [
    "circleOfFifths = [\n",
    "  ['C', 'a'],\n",
    "  ['G', 'e'],\n",
    "  ['D', 'b'],\n",
    "  ['A', 'f#'],\n",
    "  ['E', 'c#'],\n",
    "  ['B', 'g#'],\n",
    "  ['F#', 'd#'],\n",
    "  ['C#', 'a#'],\n",
    "  ['A-', 'f'],\n",
    "  ['E-', 'c'],\n",
    "  ['B-', 'g'],\n",
    "  ['F', 'd'],\n",
    "]"
   ]
  },
  {
   "cell_type": "code",
   "execution_count": 3,
   "metadata": {
    "run_control": {
     "frozen": false,
     "read_only": false
    }
   },
   "outputs": [
    {
     "name": "stdout",
     "output_type": "stream",
     "text": [
      "Random Major: A\n",
      "Random Minor: f#\n"
     ]
    }
   ],
   "source": [
    "random_index = randrange(0,11)\n",
    "\n",
    "random_major = circleOfFifths[random_index][0]\n",
    "random_minor = circleOfFifths[random_index][1]\n",
    "\n",
    "print(\"Random Major: {}\".format(random_major))\n",
    "print(\"Random Minor: {}\".format(random_minor))"
   ]
  },
  {
   "cell_type": "code",
   "execution_count": 4,
   "metadata": {
    "run_control": {
     "frozen": false,
     "read_only": false
    }
   },
   "outputs": [
    {
     "name": "stdout",
     "output_type": "stream",
     "text": [
      "Random Major: C#\n",
      "Random Minor: a#\n",
      "Random Major: B-\n",
      "Random Minor: g\n",
      "Random Major: E\n",
      "Random Minor: c#\n",
      "Random Major: F#\n",
      "Random Minor: d#\n",
      "Random Major: E\n",
      "Random Minor: c#\n",
      "Random Major: F#\n",
      "Random Minor: d#\n",
      "Random Major: E\n",
      "Random Minor: c#\n"
     ]
    }
   ],
   "source": [
    "number_of_keys = 7\n",
    "\n",
    "for i in range(0, number_of_keys):\n",
    "    random_index = randrange(0,11)\n",
    "\n",
    "    random_major = circleOfFifths[random_index][0]\n",
    "    random_minor = circleOfFifths[random_index][1]\n",
    "\n",
    "    print(\"Random Major: {}\".format(random_major))\n",
    "    print(\"Random Minor: {}\".format(random_minor))"
   ]
  },
  {
   "cell_type": "code",
   "execution_count": 5,
   "metadata": {
    "run_control": {
     "frozen": false,
     "read_only": false
    }
   },
   "outputs": [
    {
     "name": "stdout",
     "output_type": "stream",
     "text": [
      "Random Major: A-\n",
      "Random Minor: f\n"
     ]
    }
   ],
   "source": [
    "random_index = randrange(0,11)\n",
    "\n",
    "random_major = circleOfFifths[random_index][0]\n",
    "random_minor = circleOfFifths[random_index][1]\n",
    "\n",
    "print(\"Random Major: {}\".format(random_major))\n",
    "print(\"Random Minor: {}\".format(random_minor))\n",
    "\n",
    "sc = scale.MajorScale(random_major)"
   ]
  },
  {
   "cell_type": "code",
   "execution_count": 6,
   "metadata": {
    "run_control": {
     "frozen": false,
     "read_only": false
    }
   },
   "outputs": [
    {
     "data": {
      "text/plain": [
       "[<music21.pitch.Pitch A-4>,\n",
       " <music21.pitch.Pitch B-4>,\n",
       " <music21.pitch.Pitch C5>,\n",
       " <music21.pitch.Pitch D-5>,\n",
       " <music21.pitch.Pitch E-5>,\n",
       " <music21.pitch.Pitch F5>,\n",
       " <music21.pitch.Pitch G5>,\n",
       " <music21.pitch.Pitch A-5>,\n",
       " <music21.pitch.Pitch B-5>,\n",
       " <music21.pitch.Pitch C6>,\n",
       " <music21.pitch.Pitch D-6>,\n",
       " <music21.pitch.Pitch E-6>,\n",
       " <music21.pitch.Pitch F6>,\n",
       " <music21.pitch.Pitch G6>,\n",
       " <music21.pitch.Pitch A-6>]"
      ]
     },
     "execution_count": 6,
     "metadata": {},
     "output_type": "execute_result"
    }
   ],
   "source": [
    "min_pitch = \"{}4\".format(random_major)\n",
    "max_pitch = \"{}6\".format(random_major)\n",
    "\n",
    "pitches_list = sc.getPitches(minPitch=min_pitch, maxPitch=max_pitch)\n",
    "\n",
    "pitches_list"
   ]
  },
  {
   "cell_type": "code",
   "execution_count": 7,
   "metadata": {
    "run_control": {
     "frozen": false,
     "read_only": false
    }
   },
   "outputs": [],
   "source": [
    "def cadence_i_iv_v_i(pitch_list):\n",
    "    cadence_list = [ 1, 4, 5, 1 ]\n",
    "    cadence_chords = []\n",
    "    \n",
    "    pl = pitch_list\n",
    "    \n",
    "    for cadence in cadence_list:\n",
    "        \n",
    "        cd_idx = cadence - 1;\n",
    "        \n",
    "        chord_pitches = [ pl[cd_idx], pl[cd_idx+2], pl[cd_idx+4] ]\n",
    "        cadence_chord = chord.Chord(chord_pitches)\n",
    "        \n",
    "        cadence_chords.append(cadence_chord)\n",
    "        \n",
    "    return cadence_chords"
   ]
  },
  {
   "cell_type": "code",
   "execution_count": 8,
   "metadata": {
    "run_control": {
     "frozen": false,
     "read_only": false
    }
   },
   "outputs": [
    {
     "data": {
      "text/plain": [
       "[<music21.chord.Chord A-4 C5 E-5>,\n",
       " <music21.chord.Chord D-5 F5 A-5>,\n",
       " <music21.chord.Chord E-5 G5 B-5>,\n",
       " <music21.chord.Chord A-4 C5 E-5>]"
      ]
     },
     "execution_count": 8,
     "metadata": {},
     "output_type": "execute_result"
    }
   ],
   "source": [
    "the_cadence = cadence_i_iv_v_i(pitches_list)\n",
    "\n",
    "the_cadence"
   ]
  },
  {
   "cell_type": "code",
   "execution_count": 9,
   "metadata": {
    "run_control": {
     "frozen": false,
     "read_only": false
    }
   },
   "outputs": [
    {
     "ename": "ValueError",
     "evalue": "Cannot embed the 'xml' image format",
     "output_type": "error",
     "traceback": [
      "\u001b[0;31m---------------------------------------------------------------------------\u001b[0m",
      "\u001b[0;31mValueError\u001b[0m                                Traceback (most recent call last)",
      "\u001b[0;32m<ipython-input-9-0c6016254daf>\u001b[0m in \u001b[0;36m<module>\u001b[0;34m()\u001b[0m\n\u001b[1;32m      6\u001b[0m \u001b[0;32mfrom\u001b[0m \u001b[0mIPython\u001b[0m\u001b[0;34m.\u001b[0m\u001b[0mdisplay\u001b[0m \u001b[0;32mimport\u001b[0m \u001b[0mdisplay\u001b[0m\u001b[0;34m,\u001b[0m \u001b[0mImage\u001b[0m\u001b[0;34m,\u001b[0m \u001b[0mAudio\u001b[0m\u001b[0;34m\u001b[0m\u001b[0m\n\u001b[1;32m      7\u001b[0m \u001b[0;34m\u001b[0m\u001b[0m\n\u001b[0;32m----> 8\u001b[0;31m \u001b[0mImage\u001b[0m\u001b[0;34m(\u001b[0m\u001b[0mfilename\u001b[0m\u001b[0;34m=\u001b[0m\u001b[0mcadence_file\u001b[0m\u001b[0;34m)\u001b[0m\u001b[0;34m\u001b[0m\u001b[0m\n\u001b[0m",
      "\u001b[0;32m/home/pi/sage/local/lib/python2.7/site-packages/IPython/core/display.pyc\u001b[0m in \u001b[0;36m__init__\u001b[0;34m(self, data, url, filename, format, embed, width, height, retina, unconfined, metadata)\u001b[0m\n\u001b[1;32m   1035\u001b[0m \u001b[0;34m\u001b[0m\u001b[0m\n\u001b[1;32m   1036\u001b[0m         \u001b[0;32mif\u001b[0m \u001b[0mself\u001b[0m\u001b[0;34m.\u001b[0m\u001b[0membed\u001b[0m \u001b[0;32mand\u001b[0m \u001b[0mself\u001b[0m\u001b[0;34m.\u001b[0m\u001b[0mformat\u001b[0m \u001b[0;32mnot\u001b[0m \u001b[0;32min\u001b[0m \u001b[0mself\u001b[0m\u001b[0;34m.\u001b[0m\u001b[0m_ACCEPTABLE_EMBEDDINGS\u001b[0m\u001b[0;34m:\u001b[0m\u001b[0;34m\u001b[0m\u001b[0m\n\u001b[0;32m-> 1037\u001b[0;31m             \u001b[0;32mraise\u001b[0m \u001b[0mValueError\u001b[0m\u001b[0;34m(\u001b[0m\u001b[0;34m\"Cannot embed the '%s' image format\"\u001b[0m \u001b[0;34m%\u001b[0m \u001b[0;34m(\u001b[0m\u001b[0mself\u001b[0m\u001b[0;34m.\u001b[0m\u001b[0mformat\u001b[0m\u001b[0;34m)\u001b[0m\u001b[0;34m)\u001b[0m\u001b[0;34m\u001b[0m\u001b[0m\n\u001b[0m\u001b[1;32m   1038\u001b[0m         \u001b[0mself\u001b[0m\u001b[0;34m.\u001b[0m\u001b[0mwidth\u001b[0m \u001b[0;34m=\u001b[0m \u001b[0mwidth\u001b[0m\u001b[0;34m\u001b[0m\u001b[0m\n\u001b[1;32m   1039\u001b[0m         \u001b[0mself\u001b[0m\u001b[0;34m.\u001b[0m\u001b[0mheight\u001b[0m \u001b[0;34m=\u001b[0m \u001b[0mheight\u001b[0m\u001b[0;34m\u001b[0m\u001b[0m\n",
      "\u001b[0;31mValueError\u001b[0m: Cannot embed the 'xml' image format"
     ]
    }
   ],
   "source": [
    "cadence_stream = stream.Stream()\n",
    "cadence_stream.append(the_cadence)\n",
    "cadence_file = cadence_stream.write()\n",
    "from IPython.display import display, Image, Audio\n",
    "Image(filename=cadence_file)"
   ]
  },
  {
   "cell_type": "code",
   "execution_count": null,
   "metadata": {
    "run_control": {
     "frozen": false,
     "read_only": false
    }
   },
   "outputs": [],
   "source": [
    "cadence_midi = cadence_stream.write('midi')"
   ]
  },
  {
   "cell_type": "code",
   "execution_count": null,
   "metadata": {
    "run_control": {
     "frozen": false,
     "read_only": false
    }
   },
   "outputs": [],
   "source": [
    "fs = FluidSynth('/usr/share/soundfonts/FluidR3_GM.sf2') # arch\n",
    "fs.midi_to_audio(cadence_midi, 'cadence.wav')"
   ]
  },
  {
   "cell_type": "code",
   "execution_count": null,
   "metadata": {
    "run_control": {
     "frozen": false,
     "read_only": false
    }
   },
   "outputs": [],
   "source": [
    "Audio(filename='cadence.wav')"
   ]
  },
  {
   "cell_type": "code",
   "execution_count": null,
   "metadata": {
    "run_control": {
     "frozen": false,
     "read_only": false
    }
   },
   "outputs": [],
   "source": [
    "%%html\n",
    "\n",
    "<marquee><pre class=\"fa-spin;\">:)</pre></marquee>"
   ]
  },
  {
   "cell_type": "code",
   "execution_count": null,
   "metadata": {
    "run_control": {
     "frozen": false,
     "read_only": false
    }
   },
   "outputs": [],
   "source": [
    "the_tempo = tempo.MetronomeMark(number=40)"
   ]
  },
  {
   "cell_type": "code",
   "execution_count": null,
   "metadata": {
    "run_control": {
     "frozen": false,
     "read_only": false
    }
   },
   "outputs": [],
   "source": [
    "#cadence_stream.insert(0, the_tempo)\n",
    "\n",
    "cadence_midi = cadence_stream.write('midi')\n",
    "fs = FluidSynth('/usr/share/soundfonts/FluidR3_GM.sf2') # arch\n",
    "fs.midi_to_audio(cadence_midi, 'cadence-40bpm.wav')\n",
    "\n",
    "Audio(filename='cadence-40bpm.wav')"
   ]
  },
  {
   "cell_type": "code",
   "execution_count": null,
   "metadata": {},
   "outputs": [],
   "source": [
    "chsc = scale.ChromaticScale(tonic=random_major).getPitches()\n",
    "\n",
    "chsc[1].write('midi')"
   ]
  },
  {
   "cell_type": "code",
   "execution_count": null,
   "metadata": {},
   "outputs": [],
   "source": [
    "midinote = note.Note(chsc[1]).write('midi')\n",
    "\n",
    "fs = FluidSynth('/usr/share/soundfonts/FluidR3_GM.sf2') # arch\n",
    "fs.midi_to_audio(midinote, 'midi-to.wav')\n",
    "\n",
    "Audio(filename='midi-to.wav')"
   ]
  },
  {
   "cell_type": "code",
   "execution_count": null,
   "metadata": {},
   "outputs": [],
   "source": []
  }
 ],
 "metadata": {
  "kernelspec": {
   "display_name": "SageMath 8.9",
   "language": "sage",
   "name": "sagemath"
  },
  "language_info": {
   "codemirror_mode": {
    "name": "ipython",
    "version": 2
   },
   "file_extension": ".py",
   "mimetype": "text/x-python",
   "name": "python",
   "nbconvert_exporter": "python",
   "pygments_lexer": "ipython2",
   "version": "2.7.15"
  }
 },
 "nbformat": 4,
 "nbformat_minor": 1
}
