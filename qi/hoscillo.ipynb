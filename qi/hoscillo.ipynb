{
 "cells": [
  {
   "cell_type": "markdown",
   "metadata": {},
   "source": [
    "<h1>Harmonic Oscillator</h1>\n",
    "<p>We will consider three prominent cases:</p>\n",
    "<ul>\n",
    "<li>free harmonic oscillator</li>\n",
    "<li>damped oscillator</li>\n",
    "<li>forced, damped oscillator</li>\n",
    "</ul>\n",
    "<h3>What is it harmonic oscillator?</h3>\n",
    "<p><img style=\"float: left;\" src=\"data/Federpendel2.svg.png\" alt=\"\" width=\"200\" height=\"300\" /></p>\n",
    "<p> </p>\n",
    "<p> We can equivalently say:</p>\n",
    "<ul>\n",
    "<li>material point with the mass $m$, moving in 1d in a force firld which linearly depends on position</li>\n",
    "<li>material point in a quadratic potential</li>\n",
    "</ul>\n",
    "<p> </p>\n",
    "<p> </p>\n",
    "<p> </p>\n",
    "<p> </p>\n",
    "<p> </p>\n",
    "<p> </p>\n",
    "<p>Let us consider the quadratic potential:</p>\n",
    "<p>$$ U(x) = \\frac{1}{2}k x^2$$</p>\n",
    "<p>then the Newton equation will read:</p>\n",
    "<p>$$ m a = -\\frac{\\partial U(x)}{\\partial x} = - kx,$$</p>\n",
    "<p>so:</p>\n",
    "<p>$$ m \\ddot x   =  -kx.$$</p>\n",
    "<p>This is the equation of motion of the harmonic oscillator. The alternative approach says that we have a liner spring - fulfilling a Hook's law: $\\vec F = -k \\vec x$, so we put such a force into 1d Newton equation $m\\vec a = \\vec F$ and we get the same as above. </p>\n",
    "<h3>Small oscillation approximation</h3>\n",
    "<p> </p>\n",
    "<p>Harmonic oscillator is a very important model, which appears in many real situations. Note that if we have any potential, which in point $x = 0$ has  a minimum, then we can write the Taylor expansion:</p>\n",
    "<p>$$ U(x) = U(0) + U'(0)x + \\frac{1}{2}U''(0) x^2+ ...$$</p>\n",
    "<p>Since we assumed that the punktcie $x = 0$, we have a minimum, the first derivative vanishes $U'(0) = 0$ and we get:</p>\n",
    "<p>$$ U(x) = U(0) + \\frac{1}{2}U''(0) x^2+ ...$$</p>\n",
    "<p>We can stop the Taylor expansion  keeping the second  power of $x$. Constant term can be omitted (as mathematicians say, without limiting the generality assume that it is equal to zero).We then obtain an approximation valid for small $x$:  $$ U(x) = \\frac{1}{2}U''(0) x^2.$$</p>\n",
    "<p>The resulting potential is identical to the quadratic potential, as long as we identify the second derivative of the potential $\\frac{1}{2}U''( 0 )$ with a spring constant k. So we see that the motion in each minimum  any potential for small deviations can be approximated by the harmonic oscillator. This fact is the reason why, the harmonic oscillator is so frequently used model in physics.</p>\n",
    "<p> </p>"
   ]
  },
  {
   "cell_type": "code",
   "execution_count": 167,
   "metadata": {},
   "outputs": [
    {
     "data": {
      "text/plain": []
     },
     "execution_count": 167,
     "metadata": {},
     "output_type": "execute_result"
    }
   ],
   "source": []
  },
  {
   "cell_type": "code",
   "execution_count": 136,
   "metadata": {},
   "outputs": [
    {
     "data": {
      "text/plain": [
       "Traceback (most recent call last):        var(\"%sdd %v,latex_name=r'\\ddot %s'%lv\")\n",
       "  File \"\", line 1, in <module>\n",
       "    \n",
       "  File \"/tmp/tmpjkoYOj/___code___.py\", line 9\n",
       "    var(\"%sdd %v,latex_name=r'\\ddot %s'%lv\")\n",
       "      ^\n",
       "SyntaxError: invalid syntax"
      ]
     },
     "execution_count": 136,
     "metadata": {},
     "output_type": "execute_result"
    }
   ],
   "source": [
    "var(\"t\")\n",
    "uv_wsp = [('phi',r'\\varphi')]\n",
    "xy_wsp = [('x','x')]\n",
    "for v,lv in uv_wsp+xy_wsp:\n",
    "    var(\"%s\"%v,latex_name=r'%s'%lv)\n",
    "    vars()[v.capitalize()] = function(v.capitalize(),(t)\n",
    "    var(\"%sdd %v,latex_name=r'\\ddot %s'%lv\")\n",
    "    var(\"%sd\"%v,latex_name=r'\\dot %s'%lv)\n",
    "    var(\"d%s\"%v,latex_name=r'\\delta %s'%lv)\n",
    "    \n",
    "uv = [vars()[v] for v,lv in uv_wsp]\n",
    "\n",
    "to_fun=dict()\n",
    "for v,lv in uv_wsp+xy_wsp:\n",
    "    to_fun[vars()[v]]=vars()[v.capitalize()]\n",
    "    to_fun[vars()[v+\"d\"]]=vars()[v.capitalize()].diff()\n",
    "    to_fun[vars()[v+\"dd\"]]=vars()[v.capitalize()].diff(2)\n",
    "to_var = dict((v,k) for k,v in to_fun.items())"
   ]
  },
  {
   "cell_type": "code",
   "execution_count": 151,
   "metadata": {},
   "outputs": [
    {
     "data": {
      "text/plain": [
       "Traceback (most recent call last):\n",
       "  File \"<stdin>\", line 1, in <module>\n",
       "  File \"_sage_input_6.py\", line 10, in <module>\n",
       "    exec compile(u'open(\"___code___.py\",\"w\").write(\"# -*- coding: utf-8 -*-\\\\n\" + _support_.preparse_worksheet_cell(base64.b64decode(\"dG9fdmFy\"),globals())+\"\\\\n\"); execfile(os.path.abspath(\"___code___.py\"))' + '\\n', '', 'single')\n",
       "  File \"\", line 1, in <module>\n",
       "    \n",
       "  File \"/tmp/tmpmjCvzM/___code___.py\", line 2, in <module>\n",
       "    exec compile(u'to_var' + '\\n', '', 'single')\n",
       "  File \"\", line 1, in <module>\n",
       "    \n",
       "NameError: name 'to_var' is not defined"
      ]
     },
     "execution_count": 151,
     "metadata": {},
     "output_type": "execute_result"
    }
   ],
   "source": [
    "to_var"
   ]
  },
  {
   "cell_type": "code",
   "execution_count": 162,
   "metadata": {},
   "outputs": [
    {
     "data": {
      "text/plain": []
     },
     "execution_count": 162,
     "metadata": {},
     "output_type": "execute_result"
    }
   ],
   "source": []
  },
  {
   "cell_type": "code",
   "execution_count": 163,
   "metadata": {},
   "outputs": [
    {
     "data": {
      "text/plain": []
     },
     "execution_count": 163,
     "metadata": {},
     "output_type": "execute_result"
    }
   ],
   "source": []
  },
  {
   "cell_type": "markdown",
   "metadata": {},
   "source": [
    "<h2>Free oscillator</h2>\n",
    "<p>Consider the equation of motion for the harmonic oscillator, which contains no friction or any external force. The equation of motion, as  derived  before, has the form:</p>\n",
    "<p>$$  m \\ddot x   =  -kx.$$</p>\n",
    "<p>or alternatively:</p>\n",
    "<p>$$  \\ddot x   =  -\\omega_0^2x,$$</p>\n",
    "<p>where  $\\omega_0 = \\sqrt{\\frac{k}{m}}$ is a positive number.</p>\n",
    "<p>It is a linear second order differential equation with constant coefficients. Equations of this class can be easily solved - assuming the form of solutions and substituting it into the equation. With a computer algebra system included in Sage, we can simplify this procedure by using a function desolve:</p>"
   ]
  },
  {
   "cell_type": "code",
   "execution_count": 139,
   "metadata": {},
   "outputs": [
    {
     "data": {
      "text/plain": [
       "Traceback (most recent call last):\n",
       "  File \"<stdin>\", line 1, in <module>\n",
       "  File \"_sage_input_9.py\", line 10, in <module>\n",
       "    exec compile(u'open(\"___code___.py\",\"w\").write(\"# -*- coding: utf-8 -*-\\\\n\" + _support_.preparse_worksheet_cell(base64.b64decode(\"dmFyKCdvbWVnYTAnKQphc3N1bWUob21lZ2EwPjApCm9zYyA9ICAgeGRkID09IC1vbWVnYTBeMip4IApvc2Muc2hvdygpCnBoaV9hbmFsID0gZGVzb2x2ZShvc2Muc3Vicyh0b19mdW4pLGR2YXI9WCxpdmFyPXQsc2hvd19tZXRob2Q9VHJ1ZSkKc2hvdyhwaGlfYW5hbCk=\"),globals())+\"\\\\n\"); execfile(os.path.abspath(\"___code___.py\"))' + '\\n', '', 'single')\n",
       "  File \"\", line 1, in <module>\n",
       "    \n",
       "  File \"/tmp/tmpfl2h9B/___code___.py\", line 5, in <module>\n",
       "    osc =   xdd == -omega0**_sage_const_2 *x \n",
       "NameError: name 'xdd' is not defined"
      ]
     },
     "execution_count": 139,
     "metadata": {},
     "output_type": "execute_result"
    }
   ],
   "source": [
    "var('omega0')\n",
    "assume(omega0>0)\n",
    "osc =   xdd == -omega0^2*x \n",
    "osc.show()\n",
    "phi_anal = desolve(osc.subs(to_fun),dvar=X,ivar=t,show_method=True)\n",
    "show(phi_anal)"
   ]
  },
  {
   "cell_type": "markdown",
   "metadata": {},
   "source": [
    "<p>First, we see that we must assume that $\\omega_0$ is nonzero. In another case, the solution would be in another form</p>\n",
    "<p><strong> Problem</strong>: Solve the equation for the harmonic oscillator $\\omega_0 = 0$</p>\n",
    "<p>Secondly, we see that we got the so-called general solution, which depends on two constants. These two constants we can determine knowing the position and velocity of the oscillator at a certain point in time. Because equations motion do not depend on time, without loss of generality it can be assumed time $t = 0$ as the initial  moment. Sage can also do for us these conversion, and so if at the time $ t = 0 $, the oscillator was at a point $ x(0) = x_0 $ and $ v(0) = 0 $, we have:</p>"
   ]
  },
  {
   "cell_type": "code",
   "execution_count": 169,
   "metadata": {},
   "outputs": [
    {
     "data": {
      "text/plain": [
       "Traceback (most recent call last):\n",
       "  File \"<stdin>\", line 1, in <module>\n",
       "  File \"_sage_input_10.py\", line 10, in <module>\n",
       "    exec compile(u'open(\"___code___.py\",\"w\").write(\"# -*- coding: utf-8 -*-\\\\n\" + _support_.preparse_worksheet_cell(base64.b64decode(\"dmFyKCd2MCB4MCcpCnBoaV9hbmFsID0gZGVzb2x2ZShvc2Muc3Vicyh0b19mdW4pLGR2YXI9WCxpdmFyPXQsaWNzPVswLHgwLDBdKQpzaG93KHBoaV9hbmFsKQ==\"),globals())+\"\\\\n\"); execfile(os.path.abspath(\"___code___.py\"))' + '\\n', '', 'single')\n",
       "  File \"\", line 1, in <module>\n",
       "    \n",
       "  File \"/tmp/tmpFp3BTm/___code___.py\", line 4, in <module>\n",
       "    phi_anal = desolve(osc.subs(to_fun),dvar=X,ivar=t,ics=[_sage_const_0 ,x0,_sage_const_0 ])\n",
       "NameError: name 'osc' is not defined"
      ]
     },
     "execution_count": 169,
     "metadata": {},
     "output_type": "execute_result"
    }
   ],
   "source": [
    "var('v0 x0')\n",
    "phi_anal = desolve(osc.subs(to_fun),dvar=X,ivar=t,ics=[0,x0,0])\n",
    "show(phi_anal)"
   ]
  },
  {
   "cell_type": "markdown",
   "metadata": {},
   "source": [
    "<p>if in time  $t=0$, oscillator was in  $x(0)=0$ with velocity $v(0)=v_0$, then we have:</p>"
   ]
  },
  {
   "cell_type": "code",
   "execution_count": 168,
   "metadata": {},
   "outputs": [
    {
     "data": {
      "text/plain": [
       "Traceback (most recent call last):\n",
       "  File \"<stdin>\", line 1, in <module>\n",
       "  File \"_sage_input_11.py\", line 10, in <module>\n",
       "    exec compile(u'open(\"___code___.py\",\"w\").write(\"# -*- coding: utf-8 -*-\\\\n\" + _support_.preparse_worksheet_cell(base64.b64decode(\"dmFyKCd2MCB4MCcpCnBoaV9hbmFsID0gZGVzb2x2ZShvc2Muc3Vicyh0b19mdW4pLGR2YXI9WCxpdmFyPXQsaWNzPVswLDAsdjBdKQpzaG93KHBoaV9hbmFsKQ==\"),globals())+\"\\\\n\"); execfile(os.path.abspath(\"___code___.py\"))' + '\\n', '', 'single')\n",
       "  File \"\", line 1, in <module>\n",
       "    \n",
       "  File \"/tmp/tmpTaslu4/___code___.py\", line 4, in <module>\n",
       "    phi_anal = desolve(osc.subs(to_fun),dvar=X,ivar=t,ics=[_sage_const_0 ,_sage_const_0 ,v0])\n",
       "NameError: name 'osc' is not defined"
      ]
     },
     "execution_count": 168,
     "metadata": {},
     "output_type": "execute_result"
    }
   ],
   "source": [
    "var('v0 x0')\n",
    "phi_anal = desolve(osc.subs(to_fun),dvar=X,ivar=t,ics=[0,0,v0])\n",
    "show(phi_anal)"
   ]
  },
  {
   "cell_type": "markdown",
   "metadata": {},
   "source": [
    "<p>if in time $t=0$, oscillator was in  $x(0)=x_0$ with velocity $v(0)=v_0$, then we have:</p>"
   ]
  },
  {
   "cell_type": "code",
   "execution_count": 174,
   "metadata": {},
   "outputs": [
    {
     "data": {
      "text/plain": [
       "Traceback (most recent call last):\n",
       "  File \"<stdin>\", line 1, in <module>\n",
       "  File \"_sage_input_12.py\", line 10, in <module>\n",
       "    exec compile(u'open(\"___code___.py\",\"w\").write(\"# -*- coding: utf-8 -*-\\\\n\" + _support_.preparse_worksheet_cell(base64.b64decode(\"dmFyKCd2MCB4MCcpCnBoaV9hbmFsID0gZGVzb2x2ZShvc2Muc3Vicyh0b19mdW4pLGR2YXI9WCxpdmFyPXQsaWNzPVswLHgwLHYwXSkKc2hvdyhwaGlfYW5hbCk=\"),globals())+\"\\\\n\"); execfile(os.path.abspath(\"___code___.py\"))' + '\\n', '', 'single')\n",
       "  File \"\", line 1, in <module>\n",
       "    \n",
       "  File \"/tmp/tmpIuf7JW/___code___.py\", line 4, in <module>\n",
       "    phi_anal = desolve(osc.subs(to_fun),dvar=X,ivar=t,ics=[_sage_const_0 ,x0,v0])\n",
       "NameError: name 'osc' is not defined"
      ]
     },
     "execution_count": 174,
     "metadata": {},
     "output_type": "execute_result"
    }
   ],
   "source": [
    "var('v0 x0')\n",
    "phi_anal = desolve(osc.subs(to_fun),dvar=X,ivar=t,ics=[0,x0,v0])\n",
    "show(phi_anal)"
   ]
  },
  {
   "cell_type": "markdown",
   "metadata": {},
   "source": [
    "<p>We can substitute numetic values too!</p>"
   ]
  },
  {
   "cell_type": "code",
   "execution_count": 177,
   "metadata": {},
   "outputs": [
    {
     "data": {
      "text/plain": [
       "Traceback (most recent call last):\n",
       "  File \"<stdin>\", line 1, in <module>\n",
       "  File \"_sage_input_13.py\", line 10, in <module>\n",
       "    exec compile(u'open(\"___code___.py\",\"w\").write(\"# -*- coding: utf-8 -*-\\\\n\" + _support_.preparse_worksheet_cell(base64.b64decode(\"cGhpX2FuYWwgPSBkZXNvbHZlKG9zYy5zdWJzKHRvX2Z1biksZHZhcj1YLGl2YXI9dCxpY3M9WzAsMiwzXSkKc2hvdyhwaGlfYW5hbCk=\"),globals())+\"\\\\n\"); execfile(os.path.abspath(\"___code___.py\"))' + '\\n', '', 'single')\n",
       "  File \"\", line 1, in <module>\n",
       "    \n",
       "  File \"/tmp/tmpHVPMTX/___code___.py\", line 3, in <module>\n",
       "    phi_anal = desolve(osc.subs(to_fun),dvar=X,ivar=t,ics=[_sage_const_0 ,_sage_const_2 ,_sage_const_3 ])\n",
       "NameError: name 'osc' is not defined"
      ]
     },
     "execution_count": 177,
     "metadata": {},
     "output_type": "execute_result"
    }
   ],
   "source": [
    "phi_anal = desolve(osc.subs(to_fun),dvar=X,ivar=t,ics=[0,2,3])\n",
    "show(phi_anal)"
   ]
  },
  {
   "cell_type": "markdown",
   "metadata": {},
   "source": [
    "<p>Let us plot our particular solution, together with tangent line to the initial point $y=ax +b$  at  $a=v_0=3$ and $b=x_0=2$. Let $omega_0=1$</p>"
   ]
  },
  {
   "cell_type": "code",
   "execution_count": 179,
   "metadata": {},
   "outputs": [
    {
     "data": {
      "text/plain": [
       "Traceback (most recent call last):\n",
       "  File \"<stdin>\", line 1, in <module>\n",
       "  File \"_sage_input_14.py\", line 10, in <module>\n",
       "    exec compile(u'open(\"___code___.py\",\"w\").write(\"# -*- coding: utf-8 -*-\\\\n\" + _support_.preparse_worksheet_cell(base64.b64decode(\"cGxvdChwaGlfYW5hbC5zdWJzKG9tZWdhMD09MSksKHQsMCw1KSxmaWdzaXplPTQpK3Bsb3QoIDMqdCsyLCh0LC0xLDEpLGNvbG9yPSdncmF5JykrcG9pbnQoWzAsMl0sY29sb3I9J3JlZCcp\"),globals())+\"\\\\n\"); execfile(os.path.abspath(\"___code___.py\"))' + '\\n', '', 'single')\n",
       "  File \"\", line 1, in <module>\n",
       "    \n",
       "  File \"/tmp/tmpKuoaqf/___code___.py\", line 3, in <module>\n",
       "    exec compile(u\"plot(phi_anal.subs(omega0==_sage_const_1 ),(t,_sage_const_0 ,_sage_const_5 ),figsize=_sage_const_4 )+plot( _sage_const_3 *t+_sage_const_2 ,(t,-_sage_const_1 ,_sage_const_1 ),color='gray')+point([_sage_const_0 ,_sage_const_2 ],color='red')\" + '\\n', '', 'single')\n",
       "  File \"\", line 1, in <module>\n",
       "    \n",
       "NameError: name 'phi_anal' is not defined"
      ]
     },
     "execution_count": 179,
     "metadata": {},
     "output_type": "execute_result"
    }
   ],
   "source": [
    "plot(phi_anal.subs(omega0==1),(t,0,5),figsize=4)+plot( 3*t+2,(t,-1,1),color='gray')+point([0,2],color='red')"
   ]
  },
  {
   "cell_type": "markdown",
   "metadata": {},
   "source": [
    "<p>We can investigate<span style=\"font-family: 'courier new', courier;\"> @interact</span>ively how the  solution depends on $\\omega_0$  $x_0$ (at e.g. $v_0=0$).</p>"
   ]
  },
  {
   "cell_type": "code",
   "execution_count": 182,
   "metadata": {},
   "outputs": [
    {
     "data": {
      "text/plain": []
     },
     "execution_count": 182,
     "metadata": {},
     "output_type": "execute_result"
    }
   ],
   "source": [
    "@interact\n",
    "def _(w0=slider(0.1,3,0.1,default=1),x0=slider(0.1,3,0.1,default=1)):\n",
    "    phi_anal = desolve(osc.subs(to_fun),dvar=X,ivar=t,ics=[0,1,0])\n",
    "    p = plot(phi_anal.subs({omega0:1}),(t,0,7),color='gray')\n",
    "    phi_anal = desolve(osc.subs(to_fun),dvar=X,ivar=t,ics=[0,x0,0])\n",
    "    p += plot(phi_anal.subs({omega0:w0}),(t,0,7))\n",
    "    p.show( ticks=[[0,pi/2,pi,3/2*pi,2*pi],1/2],tick_formatter=\"latex\",figsize=(6,2))"
   ]
  },
  {
   "cell_type": "markdown",
   "metadata": {},
   "source": [
    "<h3>Problem</h3>\n",
    "<p>Modify the above interact so that shows the dependence of solutions of $ v_0 $ with fixed $x_0$</p>"
   ]
  },
  {
   "cell_type": "code",
   "execution_count": 180,
   "metadata": {},
   "outputs": [
    {
     "data": {
      "text/plain": []
     },
     "execution_count": 180,
     "metadata": {},
     "output_type": "execute_result"
    }
   ],
   "source": []
  },
  {
   "cell_type": "markdown",
   "metadata": {},
   "source": [
    "<h2><span style=\"font-size: 1.5em;\">Damped oscillator</span></h2>\n",
    "<p>As we saw in previous considerations, the free oscillator vibrates forever. In practice, any classical harmonic oscillator is subjected to a fricion forces which cause the vibration extinction after some time. It is called damped oscillator. A special case of the friction force, which is taken into account when examining the motion of the oscillator - is a force directly proportional to the velocity:  $$ \\vec F_D = -\\gamma \\vec v. $$</p>\n",
    "<p>Such friction occurs for example when moving a ball in the liquid at low Reynolds numbers and is called the viscous friction. If the Reynolds number is large, however the friction depends in a more complicated way on the speed - the aerodynamics shows that a good model is a quadratic (nonlinear!) dependence.  The case of  friction linearly dependent on the speed has a fundamental advantage -  the equations of motion remain a linear equation with constant coefficients and we have full analytical solutions available.</p>\n",
    "<p>So we have the equation:</p>\n",
    "<p>$$ m \\ddot x + \\Gamma \\dot x + kx = 0. $$</p>\n",
    "<p>Let us divide this equation by $m$ and introduce the new symbol of $ \\gamma = \\Gamma/m $, and for $ k/m $ let's insert $ \\omega_0^2 $ as in the previous case:</p>\n",
    "<p>$$ \\ddot x + \\gamma \\dot x + \\omega_0^2 x = 0 $$</p>\n",
    "<p>From the theory of linear differential  equations, we know that one should consider the roots of the characteristic equation and, depending on their nature we have different solution. The discriminant reads:</p>\n",
    "<p>$$ \\ Delta = \\sqrt{\\gamma^2-4 \\omega_0^2} $$</p>\n",
    "<p>There are three cases that correspond to the different possibilities of solutions of the characteristic equation:</p>\n",
    "<ol>\n",
    "<li>Two real roots - vibration damped, no oscillations.</li>\n",
    "<li>One degenerate element rzczywisty ( discriminant $\\Delta = 0$) - Critical vibration , no oscillation , but the solution can have one maximum.</li>\n",
    "<li>Two complex roots: damped oscillations .</li>\n",
    "</ol>\n",
    "<p>Since both $\\gamma $ and $ \\omega_0 $ are positive , the expression insider a square root  $$ \\Gamma^2-4 \\omega_0^2 = (\\gamma - 2 \\omega_0 ) (\\gamma +2 \\omega_0 ) $$ will be negative  if and only if $\\gamma - 2 \\omega_0 <0 $ we have so :</p>"
   ]
  },
  {
   "cell_type": "code",
   "execution_count": 185,
   "metadata": {},
   "outputs": [
    {
     "data": {
      "text/plain": []
     },
     "execution_count": 185,
     "metadata": {},
     "output_type": "execute_result"
    }
   ],
   "source": []
  },
  {
   "cell_type": "code",
   "execution_count": 141,
   "metadata": {},
   "outputs": [
    {
     "data": {
      "text/plain": [
       "\n",
       "Traceback (most recent call last):    assume(omega0>0)\n",
       "  File \"\", line 1, in <module>\n",
       "    \n",
       "  File \"/tmp/tmpW6pPRI/___code___.py\", line 12, in <module>\n",
       "    osc =   xdd == -g*xd - omega0**_sage_const_2 *x\n",
       "NameError: name 'xdd' is not defined"
      ]
     },
     "execution_count": 141,
     "metadata": {},
     "output_type": "execute_result"
    }
   ],
   "source": [
    "var('omega omega0')\n",
    "var('g', latex_name='\\gamma')\n",
    "\n",
    "forget()\n",
    "assume(g-2*omega0<0)\n",
    "assume(g>0)\n",
    "assume(omega0>0)\n",
    "show( assumptions() ) \n",
    "\n",
    "osc =   xdd == -g*xd - omega0^2*x\n",
    "osc.show()\n",
    "phi_anal = desolve(osc.subs(to_fun),dvar=X,ivar=t)\n",
    "phi_anal.show()"
   ]
  },
  {
   "cell_type": "markdown",
   "metadata": {},
   "source": [
    "<p>The envelope of the solutions is an exponent $A e^{-\\frac{1}{2}\\gamma t}$. Thus we have a plot like:</p>\n",
    "<div id=\"_mcePaste\" style=\"position: absolute; left: -10000px; top: 0px; width: 1px; height: 1px; overflow: hidden;\">var('A')</div>\n",
    "<div id=\"_mcePaste\" style=\"position: absolute; left: -10000px; top: 0px; width: 1px; height: 1px; overflow: hidden;\">ex =solve( phi_anal.diff(t)==A*exp(-g*t/2).diff(t),t)[0]</div>\n",
    "<div id=\"_mcePaste\" style=\"position: absolute; left: -10000px; top: 0px; width: 1px; height: 1px; overflow: hidden;\">show(ex)</div>\n",
    "<div id=\"_mcePaste\" style=\"position: absolute; left: -10000px; top: 0px; width: 1px; height: 1px; overflow: hidden;\">ex = ex*ex.rhs().denominator() </div>\n",
    "<div id=\"_mcePaste\" style=\"position: absolute; left: -10000px; top: 0px; width: 1px; height: 1px; overflow: hidden;\">ex.show()</div>\n",
    "<div id=\"_mcePaste\" style=\"position: absolute; left: -10000px; top: 0px; width: 1px; height: 1px; overflow: hidden;\">ex = ex-(ex.rhs()-A*g)</div>\n",
    "<div id=\"_mcePaste\" style=\"position: absolute; left: -10000px; top: 0px; width: 1px; height: 1px; overflow: hidden;\">ex.show()</div>\n",
    "<div id=\"_mcePaste\" style=\"position: absolute; left: -10000px; top: 0px; width: 1px; height: 1px; overflow: hidden;\">w0 = SR.wild(0)</div>\n",
    "<div id=\"_mcePaste\" style=\"position: absolute; left: -10000px; top: 0px; width: 1px; height: 1px; overflow: hidden;\">w1 = SR.wild(1)</div>\n",
    "<div id=\"_mcePaste\" style=\"position: absolute; left: -10000px; top: 0px; width: 1px; height: 1px; overflow: hidden;\">w2 = SR.wild(2)</div>\n",
    "<div id=\"_mcePaste\" style=\"position: absolute; left: -10000px; top: 0px; width: 1px; height: 1px; overflow: hidden;\">w3 = SR.wild(3)</div>\n",
    "<div id=\"_mcePaste\" style=\"position: absolute; left: -10000px; top: 0px; width: 1px; height: 1px; overflow: hidden;\">sub3 =  { w1*sin(w0)+w2*cos(w0):sqrt(w1^2+w2^2)*sin(w0+arctan(w2/w1)) }</div>\n",
    "<div id=\"_mcePaste\" style=\"position: absolute; left: -10000px; top: 0px; width: 1px; height: 1px; overflow: hidden;\">w0 = SR.wild(0)</div>\n",
    "<div id=\"_mcePaste\" style=\"position: absolute; left: -10000px; top: 0px; width: 1px; height: 1px; overflow: hidden;\">w1 = SR.wild(1)</div>\n",
    "<div id=\"_mcePaste\" style=\"position: absolute; left: -10000px; top: 0px; width: 1px; height: 1px; overflow: hidden;\">w2 = SR.wild(2)</div>\n",
    "<div id=\"_mcePaste\" style=\"position: absolute; left: -10000px; top: 0px; width: 1px; height: 1px; overflow: hidden;\">w3 = SR.wild(3)</div>\n",
    "<div id=\"_mcePaste\" style=\"position: absolute; left: -10000px; top: 0px; width: 1px; height: 1px; overflow: hidden;\">sub3 =  { w1*sin(w0)+w2*cos(w0):sqrt(w1^2+w2^2)*sin(w0+arctan(w2/w1)) }</div>\n",
    "<div id=\"_mcePaste\" style=\"position: absolute; left: -10000px; top: 0px; width: 1px; height: 1px; overflow: hidden;\">ex.lhs().subs(sub3).show()</div>"
   ]
  },
  {
   "cell_type": "code",
   "execution_count": 147,
   "metadata": {},
   "outputs": [
    {
     "data": {
      "text/plain": [
       "Traceback (most recent call last):\n",
       "  File \"<stdin>\", line 1, in <module>\n",
       "  File \"_sage_input_19.py\", line 10, in <module>\n",
       "    exec compile(u'open(\"___code___.py\",\"w\").write(\"# -*- coding: utf-8 -*-\\\\n\" + _support_.preparse_worksheet_cell(base64.b64decode(\"dmFyKCdrMSxrMix0JykKcGFycz17azE6MSxrMjoxLG9tZWdhMDoxLGc6LjUxfQpBID0gKGsxKnNpbih4KStrMipjb3MoeCkpLnN1YnMoeD09YXJjdGFuKGsyL2sxKSkuc3VicyhwYXJzKQpwbG90KCBwaGlfYW5hbC5zdWJzKHBhcnMpLCAodCwwLDE1KSwgZmlnc2l6ZT0oMTAsMikpICsgXAogICAgcGxvdCggKEEqZXhwKC0xLzIqZyp0KSkuc3VicyhwYXJzKSwgKHQsMCwxNSksY29sb3I9J2dyYXknICkgK1wKICAgIHBsb3QoICgtQSpleHAoLTEvMipnKnQpKS5zdWJzKHBhcnMpLCAodCwwLDE1KSxjb2xvcj0nZ3JheScgKQ==\"),globals())+\"\\\\n\"); execfile(os.path.abspath(\"___code___.py\"))' + '\\n', '', 'single')\n",
       "  File \"\", line 1, in <module>\n",
       "    \n",
       "  File \"/tmp/tmpOwoxx3/___code___.py\", line 6, in <module>\n",
       "    exec compile(u\"plot( phi_anal.subs(pars), (t,_sage_const_0 ,_sage_const_15 ), figsize=(_sage_const_10 ,_sage_const_2 )) + \\\\\\n    plot( (A*exp(-_sage_const_1 /_sage_const_2 *g*t)).subs(pars), (t,_sage_const_0 ,_sage_const_15 ),color='gray' ) +\\\\\\n    plot( (-A*exp(-_sage_const_1 /_sage_const_2 *g*t)).subs(pars), (t,_sage_const_0 ,_sage_const_15 ),color='gray' )\" + '\\n', '', 'single')\n",
       "  File \"\", line 2, in <module>\n",
       "    \n",
       "NameError: name 'phi_anal' is not defined"
      ]
     },
     "execution_count": 147,
     "metadata": {},
     "output_type": "execute_result"
    }
   ],
   "source": [
    "var('k1,k2,t')\n",
    "pars={k1:1,k2:1,omega0:1,g:.51}\n",
    "A = (k1*sin(x)+k2*cos(x)).subs(x==arctan(k2/k1)).subs(pars)\n",
    "plot( phi_anal.subs(pars), (t,0,15), figsize=(10,2)) + \\\n",
    "    plot( (A*exp(-1/2*g*t)).subs(pars), (t,0,15),color='gray' ) +\\\n",
    "    plot( (-A*exp(-1/2*g*t)).subs(pars), (t,0,15),color='gray' )"
   ]
  },
  {
   "cell_type": "markdown",
   "metadata": {},
   "source": [
    "<p><em><strong>Problem</strong> - derive the formula for  $A$.</em></p>"
   ]
  },
  {
   "cell_type": "code",
   "execution_count": 188,
   "metadata": {},
   "outputs": [
    {
     "data": {
      "text/plain": []
     },
     "execution_count": 188,
     "metadata": {},
     "output_type": "execute_result"
    }
   ],
   "source": []
  },
  {
   "cell_type": "markdown",
   "metadata": {},
   "source": [
    "<h3>Two real roots:</h3>\n",
    "<p>If determinant is positive (but nonzero), then we have:</p>"
   ]
  },
  {
   "cell_type": "code",
   "execution_count": 143,
   "metadata": {},
   "outputs": [
    {
     "data": {
      "text/plain": [
       "\n",
       "Traceback (most recent call last):    assume(omega0>0)\n",
       "  File \"\", line 1, in <module>\n",
       "    \n",
       "  File \"/tmp/tmpANaSD5/___code___.py\", line 11, in <module>\n",
       "    osc =   xdd == -g*xd - omega0**_sage_const_2 *x\n",
       "NameError: name 'xdd' is not defined"
      ]
     },
     "execution_count": 143,
     "metadata": {},
     "output_type": "execute_result"
    }
   ],
   "source": [
    "var('omega omega0')\n",
    "var('g', latex_name='\\gamma')\n",
    "\n",
    "forget()\n",
    "assume(g-2*omega0>0)\n",
    "assume(g>0)\n",
    "assume(omega0>0)\n",
    "show( assumptions() ) \n",
    "osc =   xdd == -g*xd - omega0^2*x\n",
    "osc.show()\n",
    "phi_anal = desolve(osc.subs(to_fun),dvar=X,ivar=t)\n",
    "phi_anal.show()\n",
    "#latex(phi_anal)"
   ]
  },
  {
   "cell_type": "markdown",
   "metadata": {},
   "source": [
    "<p>Then we have a solution without oscillations.</p>\n",
    "<p><strong>Problem</strong>: Prove, that solution $k_{1} e^{\\left(-\\frac{1}{2} \\, {\\left(\\gamma - \\sqrt{\\gamma^{2} - 4 \\, \\omega_{0}^{2}}\\right)} t\\right)} $, has a negative coefficient (i.e. $a<0$,  considering $e^{at}$).</p>\n",
    "<p> </p>"
   ]
  },
  {
   "cell_type": "code",
   "execution_count": 145,
   "metadata": {},
   "outputs": [
    {
     "data": {
      "text/plain": [
       "Traceback (most recent call last):\n",
       "  File \"<stdin>\", line 1, in <module>\n",
       "  File \"_sage_input_22.py\", line 10, in <module>\n",
       "    exec compile(u'open(\"___code___.py\",\"w\").write(\"# -*- coding: utf-8 -*-\\\\n\" + _support_.preparse_worksheet_cell(base64.b64decode(\"dmFyKCdrMSxrMix0JykKcGxvdCggcGhpX2FuYWwuc3Vicyh7azE6LTEsazI6MSxvbWVnYTA6MSxnOjIuMX0pLCAodCwwLDE1KSwgZmlnc2l6ZT0oMTAsMikp\"),globals())+\"\\\\n\"); execfile(os.path.abspath(\"___code___.py\"))' + '\\n', '', 'single')\n",
       "  File \"\", line 1, in <module>\n",
       "    \n",
       "  File \"/tmp/tmp4z_x3A/___code___.py\", line 4, in <module>\n",
       "    exec compile(u'plot( phi_anal.subs({k1:-_sage_const_1 ,k2:_sage_const_1 ,omega0:_sage_const_1 ,g:_sage_const_2p1 }), (t,_sage_const_0 ,_sage_const_15 ), figsize=(_sage_const_10 ,_sage_const_2 ))' + '\\n', '', 'single')\n",
       "  File \"\", line 1, in <module>\n",
       "    \n",
       "NameError: name 'phi_anal' is not defined"
      ]
     },
     "execution_count": 145,
     "metadata": {},
     "output_type": "execute_result"
    }
   ],
   "source": [
    "var('k1,k2,t')\n",
    "plot( phi_anal.subs({k1:-1,k2:1,omega0:1,g:2.1}), (t,0,15), figsize=(10,2))"
   ]
  },
  {
   "cell_type": "code",
   "execution_count": 148,
   "metadata": {},
   "outputs": [
    {
     "data": {
      "text/plain": [
       "Traceback (most recent call last):\n",
       "  File \"<stdin>\", line 1, in <module>\n",
       "  File \"_sage_input_23.py\", line 10, in <module>\n",
       "    exec compile(u'open(\"___code___.py\",\"w\").write(\"# -*- coding: utf-8 -*-\\\\n\" + _support_.preparse_worksheet_cell(base64.b64decode(\"cGhpX2FuYWwuc3Vicyh7azE6LTEsazI6MSxvbWVnYTA6MSxnOjJ9KQ==\"),globals())+\"\\\\n\"); execfile(os.path.abspath(\"___code___.py\"))' + '\\n', '', 'single')\n",
       "  File \"\", line 1, in <module>\n",
       "    \n",
       "  File \"/tmp/tmphQvZJT/___code___.py\", line 3, in <module>\n",
       "    exec compile(u'phi_anal.subs({k1:-_sage_const_1 ,k2:_sage_const_1 ,omega0:_sage_const_1 ,g:_sage_const_2 })' + '\\n', '', 'single')\n",
       "  File \"\", line 1, in <module>\n",
       "    \n",
       "NameError: name 'phi_anal' is not defined"
      ]
     },
     "execution_count": 148,
     "metadata": {},
     "output_type": "execute_result"
    }
   ],
   "source": [
    "phi_anal.subs({k1:-1,k2:1,omega0:1,g:2})"
   ]
  },
  {
   "cell_type": "markdown",
   "metadata": {},
   "source": [
    "<h3>Degenerate case</h3>\n",
    "<p>Let us consider a case of a double real root.</p>"
   ]
  },
  {
   "cell_type": "code",
   "execution_count": 144,
   "metadata": {},
   "outputs": [
    {
     "data": {
      "text/plain": [
       "\n",
       "Traceback (most recent call last):    assume(omega0>0)\n",
       "  File \"\", line 1, in <module>\n",
       "    \n",
       "  File \"/tmp/tmpq_geuJ/___code___.py\", line 11, in <module>\n",
       "    osc =   xdd == -g*xd - omega0**_sage_const_2 *x\n",
       "NameError: name 'xdd' is not defined"
      ]
     },
     "execution_count": 144,
     "metadata": {},
     "output_type": "execute_result"
    }
   ],
   "source": [
    "var('omega omega0')\n",
    "var('g', latex_name='\\gamma')\n",
    "\n",
    "forget()\n",
    "assume(g-2*omega0==0)\n",
    "assume(g>0)\n",
    "assume(omega0>0)\n",
    "show( assumptions() ) \n",
    "osc =   xdd == -g*xd - omega0^2*x\n",
    "osc.show()\n",
    "phi_anal = desolve(osc.subs(to_fun),dvar=X,ivar=t)\n",
    "phi_anal.show()"
   ]
  },
  {
   "cell_type": "code",
   "execution_count": 146,
   "metadata": {},
   "outputs": [
    {
     "data": {
      "text/plain": [
       "Traceback (most recent call last):\n",
       "  File \"<stdin>\", line 1, in <module>\n",
       "  File \"_sage_input_25.py\", line 10, in <module>\n",
       "    exec compile(u'open(\"___code___.py\",\"w\").write(\"# -*- coding: utf-8 -*-\\\\n\" + _support_.preparse_worksheet_cell(base64.b64decode(\"dmFyKCdrMSxrMix0JykKcGxvdCggcGhpX2FuYWwuc3Vicyh7azE6MSxrMjotMSxnOjJ9KSwgKHQsMCwxNSksIGZpZ3NpemU9KDEwLDIpKQ==\"),globals())+\"\\\\n\"); execfile(os.path.abspath(\"___code___.py\"))' + '\\n', '', 'single')\n",
       "  File \"\", line 1, in <module>\n",
       "    \n",
       "  File \"/tmp/tmpaau_o3/___code___.py\", line 4, in <module>\n",
       "    exec compile(u'plot( phi_anal.subs({k1:_sage_const_1 ,k2:-_sage_const_1 ,g:_sage_const_2 }), (t,_sage_const_0 ,_sage_const_15 ), figsize=(_sage_const_10 ,_sage_const_2 ))' + '\\n', '', 'single')\n",
       "  File \"\", line 1, in <module>\n",
       "    \n",
       "NameError: name 'phi_anal' is not defined"
      ]
     },
     "execution_count": 146,
     "metadata": {},
     "output_type": "execute_result"
    }
   ],
   "source": [
    "var('k1,k2,t')\n",
    "plot( phi_anal.subs({k1:1,k2:-1,g:2}), (t,0,15), figsize=(10,2))"
   ]
  },
  {
   "cell_type": "markdown",
   "metadata": {},
   "source": [
    "<h2>Forces harmonic oscillator</h2>\n",
    "<p>If on harmonic damped oscillator  acts a certain time-dependent force $\\sin(\\omega t)$ then we are dealing with forced harmonic oscillator. This equation is referred to as an inhomogeneous linear differential equation, and we can provide the solution.   Let's see how they look:</p>"
   ]
  },
  {
   "cell_type": "code",
   "execution_count": 100,
   "metadata": {},
   "outputs": [
    {
     "data": {
      "text/plain": [
       "Traceback (most recent call last):    assume(omega0>0)\n",
       "  File \"\", line 1, in <module>\n",
       "    \n",
       "  File \"/tmp/tmpPQUdF_/___code___.py\", line 10, in <module>\n",
       "    osc = g*phid + omega0**_sage_const_2 *phi + phidd -a*sin(omega*t)\n",
       "NameError: name 'phid' is not defined"
      ]
     },
     "execution_count": 100,
     "metadata": {},
     "output_type": "execute_result"
    }
   ],
   "source": [
    "var('a omega omega0')\n",
    "var('g', latex_name='\\gamma')\n",
    "forget()\n",
    "assume(g-2*omega0<0)\n",
    "#assume(g-1<0)\n",
    "assume(g>0)\n",
    "assume(omega0>0)\n",
    "osc = g*phid + omega0^2*phi + phidd -a*sin(omega*t)\n",
    "osc.show()\n",
    "phi_anal,metoda = desolve(osc.subs(to_fun),dvar=Phi,ivar=t,show_method=True)\n",
    "phi_anal.show()\n",
    "print metoda"
   ]
  },
  {
   "cell_type": "markdown",
   "metadata": {},
   "source": [
    "<p>The inspection of the above formula shows that we have a sum of general solution to the homogenous problem with two integration constants and a part which does not contain any constants of integration. The latter is a solution to a inhomogenous problem. It is independent on initial conditions, and it is also the only term which does not vanish in the limit  $t\\to\\infty$</p>\n",
    "<p>We want to transform this solution to more self-explanatory form. Let us take it out:</p>"
   ]
  },
  {
   "cell_type": "code",
   "execution_count": 101,
   "metadata": {},
   "outputs": [
    {
     "data": {
      "text/plain": [
       "Traceback (most recent call last):\n",
       "  File \"<stdin>\", line 1, in <module>\n",
       "  File \"_sage_input_27.py\", line 10, in <module>\n",
       "    exec compile(u'open(\"___code___.py\",\"w\").write(\"# -*- coding: utf-8 -*-\\\\n\" + _support_.preparse_worksheet_cell(base64.b64decode(\"cl9zeiA9IHBoaV9hbmFsLm9wZXJhbmRzKClbMV0Kcl9zei5zaG93KCk=\"),globals())+\"\\\\n\"); execfile(os.path.abspath(\"___code___.py\"))' + '\\n', '', 'single')\n",
       "  File \"\", line 1, in <module>\n",
       "    \n",
       "  File \"/tmp/tmp0_gE5G/___code___.py\", line 3, in <module>\n",
       "    r_sz = phi_anal.operands()[_sage_const_1 ]\n",
       "NameError: name 'phi_anal' is not defined"
      ]
     },
     "execution_count": 101,
     "metadata": {},
     "output_type": "execute_result"
    }
   ],
   "source": [
    "r_sz = phi_anal.operands()[1]\n",
    "r_sz.show()"
   ]
  },
  {
   "cell_type": "markdown",
   "metadata": {},
   "source": [
    "<p>WE want it to be in the form$$A\\sin(\\omega t+\\phi).$$</p>\n",
    "<p>Let us start from separating nominator and denominator:</p>"
   ]
  },
  {
   "cell_type": "code",
   "execution_count": 103,
   "metadata": {},
   "outputs": [
    {
     "data": {
      "text/plain": [
       "Traceback (most recent call last):\n",
       "  File \"<stdin>\", line 1, in <module>\n",
       "  File \"_sage_input_28.py\", line 10, in <module>\n",
       "    exec compile(u'open(\"___code___.py\",\"w\").write(\"# -*- coding: utf-8 -*-\\\\n\" + _support_.preparse_worksheet_cell(base64.b64decode(\"ZXhwcl9kZW5vbSA9IHJfc3ouZGVub21pbmF0b3IoKQpleHByID0gcl9zei5udW1lcmF0b3IoKQpzaG93KGV4cHIpCnNob3coZXhwcl9kZW5vbSk=\"),globals())+\"\\\\n\"); execfile(os.path.abspath(\"___code___.py\"))' + '\\n', '', 'single')\n",
       "  File \"\", line 1, in <module>\n",
       "    \n",
       "  File \"/tmp/tmp7y8Lox/___code___.py\", line 2, in <module>\n",
       "    expr_denom = r_sz.denominator()\n",
       "NameError: name 'r_sz' is not defined"
      ]
     },
     "execution_count": 103,
     "metadata": {},
     "output_type": "execute_result"
    }
   ],
   "source": [
    "expr_denom = r_sz.denominator()\n",
    "expr = r_sz.numerator()\n",
    "show(expr)\n",
    "show(expr_denom)"
   ]
  },
  {
   "cell_type": "markdown",
   "metadata": {},
   "source": [
    "<p>There is a formula: $$a \\sin\\left(x\\right) + b \\cos\\left(x\\right) =\\sqrt{a^{2} + b^{2}} \\sin\\left(x + \\arctan\\left(\\frac{b}{a}\\right)\\right)$$</p>\n",
    "<p>In order to use it, we can aplpy Sage's wildcards:</p>"
   ]
  },
  {
   "cell_type": "code",
   "execution_count": 106,
   "metadata": {},
   "outputs": [
    {
     "data": {
      "text/plain": []
     },
     "execution_count": 106,
     "metadata": {},
     "output_type": "execute_result"
    }
   ],
   "source": [
    "w0 = SR.wild(0)\n",
    "w1 = SR.wild(1)\n",
    "w2 = SR.wild(2)\n",
    "w3 = SR.wild(3)\n",
    "sub3 =  { w1*sin(w0)+w2*cos(w0):sqrt(w1^2+w2^2)*sin(w0+arctan(w2/w1)) }"
   ]
  },
  {
   "cell_type": "markdown",
   "metadata": {},
   "source": [
    "<p>Let us check our susbtitution on a general formula:</p>"
   ]
  },
  {
   "cell_type": "code",
   "execution_count": 114,
   "metadata": {},
   "outputs": [
    {
     "data": {
      "text/plain": []
     },
     "execution_count": 114,
     "metadata": {},
     "output_type": "execute_result"
    }
   ],
   "source": [
    "var('a b x')\n",
    "assume(a>0)\n",
    "(a*sin(x)+b*cos(x)).subs(sub3).show()"
   ]
  },
  {
   "cell_type": "markdown",
   "metadata": {},
   "source": [
    "<p>Sage can easily expand it to a sum of $\\sin$ and $\\cos$, to check:</p>"
   ]
  },
  {
   "cell_type": "code",
   "execution_count": 161,
   "metadata": {},
   "outputs": [
    {
     "data": {
      "text/plain": []
     },
     "execution_count": 161,
     "metadata": {},
     "output_type": "execute_result"
    }
   ],
   "source": [
    "assume(a>0)\n",
    "(a*sin(x)+b*cos(x)).subs(sub3).full_simplify().show()"
   ]
  },
  {
   "cell_type": "markdown",
   "metadata": {},
   "source": [
    "<p>It looks great, but we might have probelms with a branches of $\\arctan(x)$. Let us look at it more closely:</p>"
   ]
  },
  {
   "cell_type": "code",
   "execution_count": 158,
   "metadata": {},
   "outputs": [
    {
     "data": {
      "text/plain": [
       "-1.67046497928606 -4.61272032789353"
      ]
     },
     "execution_count": 158,
     "metadata": {},
     "output_type": "execute_result"
    }
   ],
   "source": [
    "print (arctan(10)-pi).n(),(arctan(-10)-pi).n()\n",
    "\n",
    "plot(tan(x),(x,-4.,4),detect_poles='show',figsize=5,ymin=-10,ymax=10).show()\n",
    "sum([plot(arctan(x)+n*pi,(x,-10.,10),figsize=(5,3)) for n in range(-1,2)])"
   ]
  },
  {
   "cell_type": "markdown",
   "metadata": {},
   "source": [
    "<p>We should take brach $y\\in -\\pi .. 0$ but Sage \"likes\" more $y\\in -\\pi ..\\pi$. The best solution is to apply present in all computer languages 2-argument  <span style=\"font-family: 'courier new', courier;\">arctan2</span>:</p>"
   ]
  },
  {
   "cell_type": "code",
   "execution_count": 157,
   "metadata": {},
   "outputs": [
    {
     "data": {
      "text/plain": []
     },
     "execution_count": 157,
     "metadata": {},
     "output_type": "execute_result"
    }
   ],
   "source": [
    "w4 = SR.wild(4)\n",
    "w5 = SR.wild(5)\n",
    "sub3a = {arctan(w4/w5):(arctan2(w4,w5)-pi)}"
   ]
  },
  {
   "cell_type": "code",
   "execution_count": 125,
   "metadata": {},
   "outputs": [
    {
     "data": {
      "text/plain": []
     },
     "execution_count": 125,
     "metadata": {},
     "output_type": "execute_result"
    }
   ],
   "source": []
  },
  {
   "cell_type": "markdown",
   "metadata": {},
   "source": [
    "<p>Going back to our forced oscillator we have:</p>"
   ]
  },
  {
   "cell_type": "code",
   "execution_count": 107,
   "metadata": {},
   "outputs": [
    {
     "data": {
      "text/plain": [
       "Traceback (most recent call last):\n",
       "  File \"<stdin>\", line 1, in <module>\n",
       "  File \"_sage_input_35.py\", line 10, in <module>\n",
       "    exec compile(u'open(\"___code___.py\",\"w\").write(\"# -*- coding: utf-8 -*-\\\\n\" + _support_.preparse_worksheet_cell(base64.b64decode(\"ZXhwciA9IHJfc3oubnVtZXJhdG9yKCkKCmV4cHIgPSBleHByLnN1YnMoc3ViMykKZXhwci5zaG93KCkKZXhwciA9IGV4cHIuc3VicyhzdWIzYSkKZXhwci5zaG93KCk=\"),globals())+\"\\\\n\"); execfile(os.path.abspath(\"___code___.py\"))' + '\\n', '', 'single')\n",
       "  File \"\", line 1, in <module>\n",
       "    \n",
       "  File \"/tmp/tmpqK3ZD9/___code___.py\", line 2, in <module>\n",
       "    expr = r_sz.numerator()\n",
       "NameError: name 'r_sz' is not defined"
      ]
     },
     "execution_count": 107,
     "metadata": {},
     "output_type": "execute_result"
    }
   ],
   "source": [
    "expr = r_sz.numerator()\n",
    "\n",
    "expr = expr.subs(sub3)\n",
    "expr.show()\n",
    "expr = expr.subs(sub3a)\n",
    "expr.show()"
   ]
  },
  {
   "cell_type": "markdown",
   "metadata": {},
   "source": [
    "<p>together with denominator:</p>"
   ]
  },
  {
   "cell_type": "code",
   "execution_count": 128,
   "metadata": {},
   "outputs": [
    {
     "data": {
      "text/plain": [
       "Traceback (most recent call last):\n",
       "  File \"<stdin>\", line 1, in <module>\n",
       "  File \"_sage_input_36.py\", line 10, in <module>\n",
       "    exec compile(u'open(\"___code___.py\",\"w\").write(\"# -*- coding: utf-8 -*-\\\\n\" + _support_.preparse_worksheet_cell(base64.b64decode(\"cl9zemN6ZWdvbG5lID0gKGV4cHIvZXhwcl9kZW5vbSkucmFkaWNhbF9zaW1wbGlmeSgpCnJfc3pjemVnb2xuZS5zaG93KCk=\"),globals())+\"\\\\n\"); execfile(os.path.abspath(\"___code___.py\"))' + '\\n', '', 'single')\n",
       "  File \"\", line 1, in <module>\n",
       "    \n",
       "  File \"/tmp/tmpomgHwj/___code___.py\", line 2, in <module>\n",
       "    r_szczegolne = (expr/expr_denom).radical_simplify()\n",
       "NameError: name 'expr' is not defined"
      ]
     },
     "execution_count": 128,
     "metadata": {},
     "output_type": "execute_result"
    }
   ],
   "source": [
    "r_szczegolne = (expr/expr_denom).radical_simplify()\n",
    "r_szczegolne.show()"
   ]
  },
  {
   "cell_type": "markdown",
   "metadata": {},
   "source": [
    "<p>If we want to have the amplitude and phase explicitely we might use \"match\":</p>"
   ]
  },
  {
   "cell_type": "code",
   "execution_count": 117,
   "metadata": {},
   "outputs": [
    {
     "data": {
      "text/plain": [
       "Traceback (most recent call last):\n",
       "  File \"<stdin>\", line 1, in <module>\n",
       "  File \"_sage_input_37.py\", line 10, in <module>\n",
       "    exec compile(u'open(\"___code___.py\",\"w\").write(\"# -*- coding: utf-8 -*-\\\\n\" + _support_.preparse_worksheet_cell(base64.b64decode(\"dzAgPSBTUi53aWxkKDApCncxID0gU1Iud2lsZCgxKQptID0gcl9zemN6ZWdvbG5lLm1hdGNoKHcwKnNpbih3MSkpCnNob3cobSk=\"),globals())+\"\\\\n\"); execfile(os.path.abspath(\"___code___.py\"))' + '\\n', '', 'single')\n",
       "  File \"\", line 1, in <module>\n",
       "    \n",
       "  File \"/tmp/tmpKkHM5D/___code___.py\", line 5, in <module>\n",
       "    m = r_szczegolne.match(w0*sin(w1))\n",
       "NameError: name 'r_szczegolne' is not defined"
      ]
     },
     "execution_count": 117,
     "metadata": {},
     "output_type": "execute_result"
    }
   ],
   "source": [
    "w0 = SR.wild(0)\n",
    "w1 = SR.wild(1)\n",
    "m = r_szczegolne.match(w0*sin(w1))\n",
    "show(m)"
   ]
  },
  {
   "cell_type": "markdown",
   "metadata": {},
   "source": [
    "<p>indeed, backsubstituting we recover original formula:</p>"
   ]
  },
  {
   "cell_type": "code",
   "execution_count": 112,
   "metadata": {},
   "outputs": [
    {
     "data": {
      "text/plain": [
       "Traceback (most recent call last):\n",
       "  File \"<stdin>\", line 1, in <module>\n",
       "  File \"_sage_input_38.py\", line 10, in <module>\n",
       "    exec compile(u'open(\"___code___.py\",\"w\").write(\"# -*- coding: utf-8 -*-\\\\n\" + _support_.preparse_worksheet_cell(base64.b64decode(\"KHcwLnN1YnMobSkqc2luKHcxLnN1YnMobSkpKS5zaG93KCk=\"),globals())+\"\\\\n\"); execfile(os.path.abspath(\"___code___.py\"))' + '\\n', '', 'single')\n",
       "  File \"\", line 1, in <module>\n",
       "    \n",
       "  File \"/tmp/tmppPae8N/___code___.py\", line 2, in <module>\n",
       "    exec compile(u'(w0.subs(m)*sin(w1.subs(m))).show()' + '\\n', '', 'single')\n",
       "  File \"\", line 1, in <module>\n",
       "    \n",
       "NameError: name 'm' is not defined"
      ]
     },
     "execution_count": 112,
     "metadata": {},
     "output_type": "execute_result"
    }
   ],
   "source": [
    "(w0.subs(m)*sin(w1.subs(m))).show()"
   ]
  },
  {
   "cell_type": "markdown",
   "metadata": {},
   "source": [
    "<p>We can take amplitude of the special solution:</p>"
   ]
  },
  {
   "cell_type": "code",
   "execution_count": 116,
   "metadata": {},
   "outputs": [
    {
     "data": {
      "text/plain": [
       "Traceback (most recent call last):\n",
       "  File \"<stdin>\", line 1, in <module>\n",
       "  File \"_sage_input_39.py\", line 10, in <module>\n",
       "    exec compile(u'open(\"___code___.py\",\"w\").write(\"# -*- coding: utf-8 -*-\\\\n\" + _support_.preparse_worksheet_cell(base64.b64decode(\"QSA9IC13MC5zdWJzKG0pCkEuc2hvdygp\"),globals())+\"\\\\n\"); execfile(os.path.abspath(\"___code___.py\"))' + '\\n', '', 'single')\n",
       "  File \"\", line 1, in <module>\n",
       "    \n",
       "  File \"/tmp/tmpcMXKZl/___code___.py\", line 2, in <module>\n",
       "    A = -w0.subs(m)\n",
       "NameError: name 'm' is not defined"
      ]
     },
     "execution_count": 116,
     "metadata": {},
     "output_type": "execute_result"
    }
   ],
   "source": [
    "A = -w0.subs(m)\n",
    "A.show()"
   ]
  },
  {
   "cell_type": "markdown",
   "metadata": {},
   "source": [
    "<p>This is a famous formula for  the amplitude of the forced  oscillator in the limit $t\\to\\infty$.</p>\n",
    "<p><em>Recall that the other parts exponentially vanish with time</em></p>"
   ]
  },
  {
   "cell_type": "code",
   "execution_count": 191,
   "metadata": {},
   "outputs": [
    {
     "data": {
      "text/plain": []
     },
     "execution_count": 191,
     "metadata": {},
     "output_type": "execute_result"
    }
   ],
   "source": []
  },
  {
   "cell_type": "markdown",
   "metadata": {},
   "source": [
    "<p>It is so famous formula, which includes the phenomenon of <strong>resonance</strong>. If the damping is weak in the case of $ \\omega_0 \\to \\omega $, the amplitude of the particular solution will grow to very large values, and will be infinite if the system will not be damped. This means that the energy of the out of the external source can be pumped is especially effective if the frequency of force will be consistent with the frequency of the system.</p>\n",
    "<p><img style=\"float: left;\" src=\"http://upload.wikimedia.org/wikipedia/commons/thumb/f/fd/Pont_de_la_Basse-Cha%C3%AEne_%287%29.jpg/320px-Pont_de_la_Basse-Cha%C3%AEne_%287%29.jpg\" alt=\"\" width=\"320\" height=\"207\" />The destructive power of this phenomenon acted on the soldiers passing through the bridge at Angers (<a href=\"http://en.wikipedia.org/wiki/Angers_Bridge\">http://en.wikipedia.org/wiki/Angers_Bridge</a>). The bridge  had just frequency equal to the frequency of its own military march. It  swung, during the march of the army column, to such amplitude that was destroyed.</p>"
   ]
  },
  {
   "cell_type": "code",
   "execution_count": 152,
   "metadata": {},
   "outputs": [
    {
     "data": {
      "text/plain": [
       "Traceback (most recent call last):\n",
       "  File \"<stdin>\", line 1, in <module>\n",
       "  File \"_sage_input_41.py\", line 10, in <module>\n",
       "    exec compile(u'open(\"___code___.py\",\"w\").write(\"# -*- coding: utf-8 -*-\\\\n\" + _support_.preparse_worksheet_cell(base64.b64decode(\"IyB1d2FnYSAtIHBpIGRvcGlzYW5lICByZWN6bmllIHBvbmlld2F6IGtvbXBlbnN1amUgLTEgeiAgYW1wbGl0dWR5IC1zaW4oeCkgPSBzaW4oeC1waSkKZmF6YSA9IHcxLnN1YnMobSktb21lZ2EqdC1waQpmYXphLnNob3coKQ==\"),globals())+\"\\\\n\"); execfile(os.path.abspath(\"___code___.py\"))' + '\\n', '', 'single')\n",
       "  File \"\", line 1, in <module>\n",
       "    \n",
       "  File \"/tmp/tmp6ABl8S/___code___.py\", line 3, in <module>\n",
       "    faza = w1.subs(m)-omega*t-pi\n",
       "NameError: name 'm' is not defined"
      ]
     },
     "execution_count": 152,
     "metadata": {},
     "output_type": "execute_result"
    }
   ],
   "source": [
    "# uwaga - pi dopisane  recznie poniewaz kompensuje -1 z  amplitudy -sin(x) = sin(x-pi)\n",
    "faza = w1.subs(m)-omega*t-pi\n",
    "faza.show()"
   ]
  },
  {
   "cell_type": "code",
   "execution_count": 131,
   "metadata": {},
   "outputs": [
    {
     "data": {
      "text/plain": [
       "sqrt(2)"
      ]
     },
     "execution_count": 131,
     "metadata": {},
     "output_type": "execute_result"
    }
   ],
   "source": [
    "A"
   ]
  },
  {
   "cell_type": "markdown",
   "metadata": {},
   "source": [
    "<p>Let us inspect properties of resonance formulas:</p>"
   ]
  },
  {
   "cell_type": "code",
   "execution_count": 113,
   "metadata": {},
   "outputs": [
    {
     "data": {
      "text/plain": []
     },
     "execution_count": 113,
     "metadata": {},
     "output_type": "execute_result"
    }
   ],
   "source": [
    "@interact\n",
    "def _(g_=slider(0.01,1,0.01,label=\"$\\gamma$\",default=0.2)):\n",
    "    pars = {g:g_,a:1,omega0:1}\n",
    "    print ( g^2*omega^2 + omega^4 - 2*omega^2*omega0^2 + omega0^4 ).subs(pars)\n",
    "    p = plot(A.subs(pars),(omega,0,10))\n",
    "    p += plot(faza.subs(pars),(omega,0,10),color='red',detect_poles=\"show\")\n",
    "    p.show()"
   ]
  },
  {
   "cell_type": "code",
   "execution_count": 154,
   "metadata": {},
   "outputs": [
    {
     "data": {
      "text/plain": [
       "Traceback (most recent call last):        p += plot(faza.subs(pars),(omega,0,10),color='red',detect_poles=\"show\")\n",
       "  File \"\", line 1, in <module>\n",
       "    \n",
       "  File \"/tmp/tmpP9wwPh/___code___.py\", line 3, in <module>\n",
       "    rhs = solve(osc,phidd)[_sage_const_0 ].rhs()\n",
       "NameError: name 'osc' is not defined"
      ]
     },
     "execution_count": 154,
     "metadata": {},
     "output_type": "execute_result"
    }
   ],
   "source": [
    "rhs = solve(osc,phidd)[0].rhs()\n",
    "@interact\n",
    "def _(g_=slider(0.01,2.2,0.01,label=\"$\\gamma$\",default=0.2),omega_=slider(0.01,5.134,0.01,label=\"$\\omega$\",default=1.4)):\n",
    "    pars = {g:g_,a:1,omega0:1}\n",
    "    print ( g^2*omega^2 + omega^4 - 2*omega^2*omega0^2 + omega0^4 ).subs(pars)\n",
    "    p = plot(A.subs(pars),(omega,0,10),figsize=(10,2))\n",
    "    p += plot(faza.subs(pars),(omega,0,10),color='red',detect_poles=\"show\")\n",
    "    pars = {omega:omega_,omega0:1,a:1,g:g_}\n",
    "    ode=[phid,rhs.subs(pars)]\n",
    "    times=srange(0,80,0.001)\n",
    "    ics=[0.0,2.1]\n",
    "    sol=desolve_odeint(ode,ics,times,[phi,phid])\n",
    "    r_szczegolne2 = a*sin(omega*t +pi- arctan2(-g*omega,(omega^2 - omega0^2)))/sqrt(g^2*omega^2\n",
    "+ omega^4 - 2*omega^2*omega0^2 + omega0^4)\n",
    "    p2 = line( zip(times,sol[::1,0]),figsize=(10,2) ) + \\\n",
    "     plot( r_szczegolne.subs(pars), (t,0,80),color='red') +\\\n",
    "     plot( (a*sin(omega*t)).subs(pars), (t,0,80),color='gray')\n",
    "    p+=point([omega_,0])\n",
    "    p.show()\n",
    "    p2.show()"
   ]
  },
  {
   "cell_type": "code",
   "execution_count": 155,
   "metadata": {},
   "outputs": [
    {
     "data": {
      "text/plain": []
     },
     "execution_count": 155,
     "metadata": {},
     "output_type": "execute_result"
    }
   ],
   "source": []
  },
  {
   "cell_type": "code",
   "execution_count": 134,
   "metadata": {},
   "outputs": [
    {
     "data": {
      "text/plain": []
     },
     "execution_count": 134,
     "metadata": {},
     "output_type": "execute_result"
    }
   ],
   "source": [
    "A.diff(omega).show()"
   ]
  },
  {
   "cell_type": "code",
   "execution_count": 135,
   "metadata": {},
   "outputs": [
    {
     "data": {
      "text/plain": [
       "\n"
      ]
     },
     "execution_count": 135,
     "metadata": {},
     "output_type": "execute_result"
    }
   ],
   "source": [
    "sol = solve( A.diff(omega),omega)\n",
    "show(sol)\n",
    "omega_max = sol[0].rhs()\n",
    "show(omega_max)"
   ]
  },
  {
   "cell_type": "code",
   "execution_count": 132,
   "metadata": {},
   "outputs": [
    {
     "data": {
      "text/plain": [
       "Traceback (most recent call last):        p.append(  plot(A.subs(pars),(omega,0,3)) ) \n",
       "  File \"\", line 1, in <module>\n",
       "    \n",
       "  File \"/tmp/tmpVXxwoq/___code___.py\", line 6, in <module>\n",
       "    omega_max_v =  omega_max.subs(pars).n()\n",
       "  File \"sage/structure/element.pyx\", line 859, in sage.structure.element.Element.n (build/cythonized/sage/structure/element.c:8032)\n",
       "  File \"sage/symbolic/expression.pyx\", line 5981, in sage.symbolic.expression.Expression.numerical_approx (build/cythonized/sage/symbolic/expression.cpp:34680)\n",
       "TypeError: cannot evaluate symbolic expression numerically"
      ]
     },
     "execution_count": 132,
     "metadata": {},
     "output_type": "execute_result"
    }
   ],
   "source": [
    "p=[]\n",
    "for g_ in srange(0.1,1,0.1)+srange(1,3,.2):\n",
    "    pars = {g:g_,a:1,omega0:1}\n",
    "    omega_max_v =  omega_max.subs(pars).n()\n",
    "    if omega_max_v.is_real():\n",
    "        p.append( point( (omega_max_v,A.subs(pars).subs(omega==omega_max_v) ),color='red' ) ) \n",
    "    p.append(  plot(A.subs(pars),(omega,0,3)) ) \n",
    "sum(p).show(ymax=11)"
   ]
  },
  {
   "cell_type": "code",
   "execution_count": 111,
   "metadata": {},
   "outputs": [
    {
     "data": {
      "text/plain": []
     },
     "execution_count": 111,
     "metadata": {},
     "output_type": "execute_result"
    }
   ],
   "source": [
    "pars = {a:1,omega0:1}\n",
    "plot3d( A.subs(pars), (omega,0,3),(g,0.2,1) ).show(viewer='tachyon')"
   ]
  },
  {
   "cell_type": "code",
   "execution_count": 115,
   "metadata": {},
   "outputs": [
    {
     "data": {
      "text/plain": [
       "Traceback (most recent call last):\n",
       "  File \"<stdin>\", line 1, in <module>\n",
       "  File \"_sage_input_50.py\", line 10, in <module>\n",
       "    exec compile(u'open(\"___code___.py\",\"w\").write(\"# -*- coding: utf-8 -*-\\\\n\" + _support_.preparse_worksheet_cell(base64.b64decode(\"cmhzID0gc29sdmUob3NjLHBoaWRkKVswXS5yaHMoKQ==\"),globals())+\"\\\\n\"); execfile(os.path.abspath(\"___code___.py\"))' + '\\n', '', 'single')\n",
       "  File \"\", line 1, in <module>\n",
       "    \n",
       "  File \"/tmp/tmps9IpMG/___code___.py\", line 3, in <module>\n",
       "    exec compile(u'rhs = solve(osc,phidd)[_sage_const_0 ].rhs()' + '\\n', '', 'single')\n",
       "  File \"\", line 1, in <module>\n",
       "    \n",
       "NameError: name 'osc' is not defined"
      ]
     },
     "execution_count": 115,
     "metadata": {},
     "output_type": "execute_result"
    }
   ],
   "source": [
    "rhs = solve(osc,phidd)[0].rhs()"
   ]
  },
  {
   "cell_type": "code",
   "execution_count": 105,
   "metadata": {},
   "outputs": [
    {
     "data": {
      "text/plain": [
       "Traceback (most recent call last):\n",
       "  File \"<stdin>\", line 1, in <module>\n",
       "  File \"_sage_input_51.py\", line 10, in <module>\n",
       "    exec compile(u'open(\"___code___.py\",\"w\").write(\"# -*- coding: utf-8 -*-\\\\n\" + _support_.preparse_worksheet_cell(base64.b64decode(\"cmhzLnNob3coKQ==\"),globals())+\"\\\\n\"); execfile(os.path.abspath(\"___code___.py\"))' + '\\n', '', 'single')\n",
       "  File \"\", line 1, in <module>\n",
       "    \n",
       "  File \"/tmp/tmpbICwI1/___code___.py\", line 2, in <module>\n",
       "    exec compile(u'rhs.show()' + '\\n', '', 'single')\n",
       "  File \"\", line 1, in <module>\n",
       "    \n",
       "NameError: name 'rhs' is not defined"
      ]
     },
     "execution_count": 105,
     "metadata": {},
     "output_type": "execute_result"
    }
   ],
   "source": [
    "rhs.show()"
   ]
  },
  {
   "cell_type": "code",
   "execution_count": 86,
   "metadata": {},
   "outputs": [
    {
     "data": {
      "text/plain": [
       "Traceback (most recent call last):     plot( r_szczegolne.subs(pars), (t,0,80),color='red') +\\\n",
       "  File \"\", line 1, in <module>\n",
       "    \n",
       "  File \"/tmp/tmprZpvFt/___code___.py\", line 4, in <module>\n",
       "    ode=[phid,rhs.subs(pars)]\n",
       "NameError: name 'phid' is not defined"
      ]
     },
     "execution_count": 86,
     "metadata": {},
     "output_type": "execute_result"
    }
   ],
   "source": [
    "pars = {omega:1,omega0:1+1e-5,a:0.2,g:.2}\n",
    "ode=[phid,rhs.subs(pars)]\n",
    "times=srange(0,80,0.001)\n",
    "ics=[0.0,2.1]\n",
    "sol=desolve_odeint(ode,ics,times,[phi,phid])\n",
    "line( zip(times,sol[::1,0]),figsize=(10,2) ) + \\\n",
    " plot( r_szczegolne.subs(pars), (t,0,80),color='red') +\\\n",
    " plot( (a*sin(omega*t)).subs(pars), (t,0,80),color='gray')"
   ]
  },
  {
   "cell_type": "code",
   "execution_count": 94,
   "metadata": {},
   "outputs": [
    {
     "data": {
      "text/plain": [
       "Traceback (most recent call last):\n",
       "  File \"<stdin>\", line 1, in <module>\n",
       "  File \"_sage_input_53.py\", line 10, in <module>\n",
       "    exec compile(u'open(\"___code___.py\",\"w\").write(\"# -*- coding: utf-8 -*-\\\\n\" + _support_.preparse_worksheet_cell(base64.b64decode(\"c2hvdyhyX3N6Y3plZ29sbmUuc3VicyhwYXJzKSk=\"),globals())+\"\\\\n\"); execfile(os.path.abspath(\"___code___.py\"))' + '\\n', '', 'single')\n",
       "  File \"\", line 1, in <module>\n",
       "    \n",
       "  File \"/tmp/tmpoTYo7k/___code___.py\", line 2, in <module>\n",
       "    exec compile(u'show(r_szczegolne.subs(pars))' + '\\n', '', 'single')\n",
       "  File \"\", line 1, in <module>\n",
       "    \n",
       "NameError: name 'r_szczegolne' is not defined"
      ]
     },
     "execution_count": 94,
     "metadata": {},
     "output_type": "execute_result"
    }
   ],
   "source": [
    "show(r_szczegolne.subs(pars))"
   ]
  },
  {
   "cell_type": "markdown",
   "metadata": {},
   "source": [
    "<h2>Power</h2>\n",
    "<p> </p>"
   ]
  },
  {
   "cell_type": "code",
   "execution_count": 89,
   "metadata": {},
   "outputs": [
    {
     "data": {
      "text/plain": [
       "Traceback (most recent call last):\n",
       "  File \"<stdin>\", line 1, in <module>\n",
       "  File \"_sage_input_54.py\", line 10, in <module>\n",
       "    exec compile(u'open(\"___code___.py\",\"w\").write(\"# -*- coding: utf-8 -*-\\\\n\" + _support_.preparse_worksheet_cell(base64.b64decode(\"cl9zemN6ZWdvbG5lLnNob3coKQ==\"),globals())+\"\\\\n\"); execfile(os.path.abspath(\"___code___.py\"))' + '\\n', '', 'single')\n",
       "  File \"\", line 1, in <module>\n",
       "    \n",
       "  File \"/tmp/tmp7gODYP/___code___.py\", line 2, in <module>\n",
       "    exec compile(u'r_szczegolne.show()' + '\\n', '', 'single')\n",
       "  File \"\", line 1, in <module>\n",
       "    \n",
       "NameError: name 'r_szczegolne' is not defined"
      ]
     },
     "execution_count": 89,
     "metadata": {},
     "output_type": "execute_result"
    }
   ],
   "source": [
    "r_szczegolne.show()"
   ]
  },
  {
   "cell_type": "code",
   "execution_count": 91,
   "metadata": {},
   "outputs": [
    {
     "data": {
      "text/plain": [
       "Traceback (most recent call last):\n",
       "  File \"<stdin>\", line 1, in <module>\n",
       "  File \"_sage_input_55.py\", line 10, in <module>\n",
       "    exec compile(u'open(\"___code___.py\",\"w\").write(\"# -*- coding: utf-8 -*-\\\\n\" + _support_.preparse_worksheet_cell(base64.b64decode(\"UCA9IGcqKHJfc3pjemVnb2xuZS5kaWZmKHQpKV4yClAuaW50ZWdyYXRlKHQsMCwyKnBpKS5zaG93KCk=\"),globals())+\"\\\\n\"); execfile(os.path.abspath(\"___code___.py\"))' + '\\n', '', 'single')\n",
       "  File \"\", line 1, in <module>\n",
       "    \n",
       "  File \"/tmp/tmptqmTyI/___code___.py\", line 3, in <module>\n",
       "    P = g*(r_szczegolne.diff(t))**_sage_const_2 \n",
       "NameError: name 'r_szczegolne' is not defined"
      ]
     },
     "execution_count": 91,
     "metadata": {},
     "output_type": "execute_result"
    }
   ],
   "source": [
    "P = g*(r_szczegolne.diff(t))^2\n",
    "P.integrate(t,0,2*pi).show()"
   ]
  },
  {
   "cell_type": "code",
   "execution_count": 92,
   "metadata": {},
   "outputs": [
    {
     "data": {
      "text/plain": [
       "Traceback (most recent call last):            p.append( point( (omega_max_v,A.subs(pars).subs(omega==omega_max_v) ),color='red' ) ) \n",
       "  File \"\", line 1, in <module>\n",
       "    \n",
       "  File \"/tmp/tmpWWi3dp/___code___.py\", line 7, in <module>\n",
       "    omega_max_v =  omega_max.subs(pars).n()\n",
       "  File \"sage/structure/element.pyx\", line 859, in sage.structure.element.Element.n (build/cythonized/sage/structure/element.c:8032)\n",
       "  File \"sage/symbolic/expression.pyx\", line 5981, in sage.symbolic.expression.Expression.numerical_approx (build/cythonized/sage/symbolic/expression.cpp:34680)\n",
       "TypeError: cannot evaluate symbolic expression numerically"
      ]
     },
     "execution_count": 92,
     "metadata": {},
     "output_type": "execute_result"
    }
   ],
   "source": [
    "p=[]\n",
    "for g_ in srange(0.1,1,.24)+srange(1,3,.52):\n",
    "    pars = {g:g_,a:1,omega0:1}\n",
    "    assume(omega>0)\n",
    "    omega_max_v =  omega_max.subs(pars).n()\n",
    "    if omega_max_v.is_real():\n",
    "        p.append( point( (omega_max_v,A.subs(pars).subs(omega==omega_max_v) ),color='red' ) ) \n",
    "    p.append(  plot(A.subs(pars),(omega,0,3)) ) \n",
    "    p.append(  plot(P.subs(pars).integrate(t,0,2*pi/omega)/2,(omega,0,3),color='green') ) \n",
    "sum(p).show(ymax=11)"
   ]
  },
  {
   "cell_type": "code",
   "execution_count": 88,
   "metadata": {},
   "outputs": [
    {
     "data": {
      "text/plain": []
     },
     "execution_count": 88,
     "metadata": {},
     "output_type": "execute_result"
    }
   ],
   "source": []
  },
  {
   "cell_type": "code",
   "execution_count": 153,
   "metadata": {},
   "outputs": [
    {
     "data": {
      "text/plain": []
     },
     "execution_count": 153,
     "metadata": {},
     "output_type": "execute_result"
    }
   ],
   "source": []
  },
  {
   "cell_type": "code",
   "execution_count": 156,
   "metadata": {},
   "outputs": [
    {
     "data": {
      "text/plain": []
     },
     "execution_count": 156,
     "metadata": {},
     "output_type": "execute_result"
    }
   ],
   "source": []
  },
  {
   "cell_type": "code",
   "execution_count": 165,
   "metadata": {},
   "outputs": [
    {
     "data": {
      "text/plain": []
     },
     "execution_count": 165,
     "metadata": {},
     "output_type": "execute_result"
    }
   ],
   "source": []
  },
  {
   "cell_type": "code",
   "execution_count": 166,
   "metadata": {},
   "outputs": [
    {
     "data": {
      "text/plain": []
     },
     "execution_count": 166,
     "metadata": {},
     "output_type": "execute_result"
    }
   ],
   "source": []
  },
  {
   "cell_type": "code",
   "execution_count": 172,
   "metadata": {},
   "outputs": [
    {
     "data": {
      "text/plain": []
     },
     "execution_count": 172,
     "metadata": {},
     "output_type": "execute_result"
    }
   ],
   "source": []
  },
  {
   "cell_type": "code",
   "execution_count": 170,
   "metadata": {},
   "outputs": [
    {
     "data": {
      "text/plain": []
     },
     "execution_count": 170,
     "metadata": {},
     "output_type": "execute_result"
    }
   ],
   "source": []
  },
  {
   "cell_type": "code",
   "execution_count": 171,
   "metadata": {},
   "outputs": [
    {
     "data": {
      "text/plain": []
     },
     "execution_count": 171,
     "metadata": {},
     "output_type": "execute_result"
    }
   ],
   "source": []
  },
  {
   "cell_type": "code",
   "execution_count": 183,
   "metadata": {},
   "outputs": [
    {
     "data": {
      "text/plain": []
     },
     "execution_count": 183,
     "metadata": {},
     "output_type": "execute_result"
    }
   ],
   "source": []
  },
  {
   "cell_type": "code",
   "execution_count": 184,
   "metadata": {},
   "outputs": [
    {
     "data": {
      "text/plain": []
     },
     "execution_count": 184,
     "metadata": {},
     "output_type": "execute_result"
    }
   ],
   "source": []
  }
 ],
 "metadata": {
  "kernelspec": {
   "display_name": "SageMath",
   "name": "sagemath"
  },
  "language": "python"
 },
 "nbformat": 4,
 "nbformat_minor": 2
}
