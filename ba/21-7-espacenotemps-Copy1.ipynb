{
 "cells": [
  {
   "cell_type": "markdown",
   "metadata": {},
   "source": [
    "An de grâce 2018, samedi 21 juillet 8h52\n",
    "\n",
    "Une charge élémentaire devrait correspondre à un multiple de $\\pi$\n",
    "\n",
    "$e = 1.6E-19$ donne celui-ci à 3.20, beaucoup trop. Comme les calculs ont été faits avec des balance de torsion au 17ième siècle je doute qu'il n'y ai pas eu d'erreurs.\n",
    "\n",
    "Einstein fit une erreur (et bien d'autres d'ailleurs) en intégrant le temps et l'espace. Le temps est l'inverse de la fréquence : $\\frac{1}{f}$ et la fréquence est l'inverse du temps : $\\frac{1}{t}$.\n",
    "\n",
    "Comment a-t-on pu concevoir une telle ineptie que l'espace-temps ?\n",
    "\n",
    "A mon avis c'est parce-que les scientifiques ne comprennent pas souvent de quoi ils parlent !"
   ]
  },
  {
   "cell_type": "code",
   "execution_count": 1,
   "metadata": {},
   "outputs": [
    {
     "data": {
      "text/html": [
       "<html><script type=\"math/tex; mode=display\">\\newcommand{\\Bold}[1]{\\mathbf{#1}}1.5707963267948966192313216916398</script></html>"
      ],
      "text/plain": [
       "1.5707963267948966192313216916398"
      ]
     },
     "execution_count": 1,
     "metadata": {},
     "output_type": "execute_result"
    }
   ],
   "source": [
    "%display latex\n",
    "n(pi/2,digits=32)"
   ]
  },
  {
   "cell_type": "markdown",
   "metadata": {},
   "source": [
    "Voici une équation qui pourrait donner des résultats convenables :\n",
    " \n",
    "D'abord calcul de la pulsation angulaire (qui correspond à $c$ scientifique qui est une erreur !) \n",
    "\n",
    "$a$ = $\\frac{1}{\\sqrt LC}$= $c$ = $\\frac{1}{\\sqrt \\mu \\epsilon}$ $\\omega =\\frac{1}{\\sqrt us}$\n",
    "\n",
    "D'où $E = ma^2 =mc^2$"
   ]
  },
  {
   "cell_type": "code",
   "execution_count": 2,
   "metadata": {},
   "outputs": [
    {
     "data": {
      "text/html": [
       "<html><script type=\"math/tex; mode=display\">\\newcommand{\\Bold}[1]{\\mathbf{#1}}872664.625997165</script></html>"
      ],
      "text/plain": [
       "872664.625997165"
      ]
     },
     "execution_count": 2,
     "metadata": {},
     "output_type": "execute_result"
    }
   ],
   "source": [
    "p=n(1/pi*360E-8);u=1/p;u"
   ]
  },
  {
   "cell_type": "code",
   "execution_count": 3,
   "metadata": {},
   "outputs": [
    {
     "data": {
      "text/html": [
       "<html><script type=\"math/tex; mode=display\">\\newcommand{\\Bold}[1]{\\mathbf{#1}}1.13097335529233 \\times 10^{11}</script></html>"
      ],
      "text/plain": [
       "1.13097335529233e11"
      ]
     },
     "execution_count": 3,
     "metadata": {},
     "output_type": "execute_result"
    }
   ],
   "source": [
    "q=n(1/(pi*360E+8));s=1/q;s"
   ]
  },
  {
   "cell_type": "code",
   "execution_count": 4,
   "metadata": {},
   "outputs": [
    {
     "data": {
      "text/html": [
       "<html><script type=\"math/tex; mode=display\">\\newcommand{\\Bold}[1]{\\mathbf{#1}}9.86960440108936 \\times 10^{16}</script></html>"
      ],
      "text/plain": [
       "9.86960440108936e16"
      ]
     },
     "execution_count": 4,
     "metadata": {},
     "output_type": "execute_result"
    }
   ],
   "source": [
    "vv=p*q;d=1/vv;d"
   ]
  },
  {
   "cell_type": "code",
   "execution_count": 5,
   "metadata": {},
   "outputs": [
    {
     "data": {
      "text/html": [
       "<html><script type=\"math/tex; mode=display\">\\newcommand{\\Bold}[1]{\\mathbf{#1}}3.14159265358979 \\times 10^{8}</script></html>"
      ],
      "text/plain": [
       "3.14159265358979e8"
      ]
     },
     "execution_count": 5,
     "metadata": {},
     "output_type": "execute_result"
    }
   ],
   "source": [
    "w=sqrt(d);w"
   ]
  },
  {
   "cell_type": "code",
   "execution_count": 6,
   "metadata": {},
   "outputs": [
    {
     "name": "stdout",
     "output_type": "stream",
     "text": [
      "w = 314159265\n"
     ]
    }
   ],
   "source": [
    "print\"w =\", round(w)"
   ]
  },
  {
   "cell_type": "code",
   "execution_count": 7,
   "metadata": {},
   "outputs": [
    {
     "name": "stdout",
     "output_type": "stream",
     "text": [
      "hb =  1.02659822546843e-34\n"
     ]
    }
   ],
   "source": [
    "hb=vv^2;print\"hb = \",hb"
   ]
  },
  {
   "cell_type": "code",
   "execution_count": 8,
   "metadata": {},
   "outputs": [
    {
     "data": {
      "text/html": [
       "<html><script type=\"math/tex; mode=display\">\\newcommand{\\Bold}[1]{\\mathbf{#1}}6.45030688663990 \\times 10^{-34}</script></html>"
      ],
      "text/plain": [
       "6.45030688663990e-34"
      ]
     },
     "execution_count": 8,
     "metadata": {},
     "output_type": "execute_result"
    }
   ],
   "source": [
    "hb*2*n(pi)"
   ]
  },
  {
   "cell_type": "code",
   "execution_count": 9,
   "metadata": {},
   "outputs": [
    {
     "data": {
      "text/html": [
       "<html><script type=\"math/tex; mode=display\">\\newcommand{\\Bold}[1]{\\mathbf{#1}}6.62607004000000 \\times 10^{-34}</script></html>"
      ],
      "text/plain": [
       "6.62607004000000e-34"
      ]
     },
     "execution_count": 9,
     "metadata": {},
     "output_type": "execute_result"
    }
   ],
   "source": [
    "h=6.626070040E-34;h"
   ]
  },
  {
   "cell_type": "code",
   "execution_count": 10,
   "metadata": {},
   "outputs": [
    {
     "data": {
      "text/html": [
       "<html><script type=\"math/tex; mode=display\">\\newcommand{\\Bold}[1]{\\mathbf{#1}}6.44703685594176 \\times 10^{-34}</script></html>"
      ],
      "text/plain": [
       "6.44703685594176e-34"
      ]
     },
     "execution_count": 10,
     "metadata": {},
     "output_type": "execute_result"
    }
   ],
   "source": [
    "dw=vv^2*2*3.14;dw"
   ]
  },
  {
   "cell_type": "code",
   "execution_count": 11,
   "metadata": {},
   "outputs": [
    {
     "data": {
      "text/html": [
       "<html><script type=\"math/tex; mode=display\">\\newcommand{\\Bold}[1]{\\mathbf{#1}}5.58555669587333 \\times 10^{34}</script></html>"
      ],
      "text/plain": [
       "5.58555669587333e34"
      ]
     },
     "execution_count": 11,
     "metadata": {},
     "output_type": "execute_result"
    }
   ],
   "source": [
    "1/(h-dw)"
   ]
  },
  {
   "cell_type": "code",
   "execution_count": 12,
   "metadata": {},
   "outputs": [
    {
     "data": {
      "text/html": [
       "<html><script type=\"math/tex; mode=display\">\\newcommand{\\Bold}[1]{\\mathbf{#1}}1.54000000000000 \\times 10^{-34}</script></html>"
      ],
      "text/plain": [
       "1.54000000000000e-34"
      ]
     },
     "execution_count": 12,
     "metadata": {},
     "output_type": "execute_result"
    }
   ],
   "source": [
    "shb=1.54E-34;shb"
   ]
  },
  {
   "cell_type": "code",
   "execution_count": 13,
   "metadata": {},
   "outputs": [
    {
     "data": {
      "text/html": [
       "<html><script type=\"math/tex; mode=display\">\\newcommand{\\Bold}[1]{\\mathbf{#1}}2.83870210488064 \\times 10^{8}</script></html>"
      ],
      "text/plain": [
       "2.83870210488064e8"
      ]
     },
     "execution_count": 13,
     "metadata": {},
     "output_type": "execute_result"
    }
   ],
   "source": [
    "sqrt(sqrt(1/shb))"
   ]
  },
  {
   "cell_type": "code",
   "execution_count": 14,
   "metadata": {},
   "outputs": [
    {
     "data": {
      "text/html": [
       "<html><script type=\"math/tex; mode=display\">\\newcommand{\\Bold}[1]{\\mathbf{#1}}2.83870210488064 \\times 10^{8}</script></html>"
      ],
      "text/plain": [
       "2.83870210488064e8"
      ]
     },
     "execution_count": 14,
     "metadata": {},
     "output_type": "execute_result"
    }
   ],
   "source": [
    "1/shb^(1/4)"
   ]
  },
  {
   "cell_type": "code",
   "execution_count": null,
   "metadata": {},
   "outputs": [],
   "source": []
  }
 ],
 "metadata": {
  "kernelspec": {
   "display_name": "SageMath 8.4",
   "language": "",
   "name": "sagemath"
  },
  "language_info": {
   "codemirror_mode": {
    "name": "ipython",
    "version": 2
   },
   "file_extension": ".py",
   "mimetype": "text/x-python",
   "name": "python",
   "nbconvert_exporter": "python",
   "pygments_lexer": "ipython2",
   "version": "2.7.15"
  }
 },
 "nbformat": 4,
 "nbformat_minor": 2
}
