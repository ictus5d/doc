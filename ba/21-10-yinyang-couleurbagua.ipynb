{
 "cells": [
  {
   "cell_type": "markdown",
   "metadata": {},
   "source": [
    "An de grâce 2018, samedi 21 juillet 8h52\n",
    "\n",
    "Une charge élémentaire devrait correspondre à un multiple de $\\pi$\n",
    "\n",
    "$e = 1.6E-19$ donne celui-ci à 3.20, beaucoup trop. Comme les calculs ont été faits avec des balance de torsion au 17ième siècle je doute qu'il n'y ai pas eu d'erreurs.\n",
    "\n",
    "Einstein fit une erreur (et bien d'autres d'ailleurs) en intégrant le temps et l'espace. Le temps est l'inverse de la fréquence : $\\frac{1}{f}$ et la fréquence est l'inverse du temps : $\\frac{1}{t}$.\n",
    "\n",
    "Comment a-t-on pu concevoir une telle ineptie que l'espace-temps ?\n",
    "\n",
    "A mon avis c'est parce-que les scientifiques ne comprennent pas souvent de quoi ils parlent !"
   ]
  },
  {
   "cell_type": "code",
   "execution_count": 1,
   "metadata": {},
   "outputs": [],
   "source": [
    "%display latex"
   ]
  },
  {
   "cell_type": "markdown",
   "metadata": {},
   "source": [
    "Voici une équation qui pourrait donner des résultats convenables :\n",
    " \n",
    "D'abord calcul de la pulsation angulaire (qui correspond à $c$ scientifique qui est une erreur !) \n",
    "\n",
    "$a$ = $\\frac{1}{\\sqrt LC}$= $c$ = $\\frac{1}{\\sqrt \\mu \\epsilon}$ $\\omega =\\frac{1}{\\sqrt us}$\n",
    "\n",
    "D'où $E = ma^2 =mc^2$"
   ]
  },
  {
   "cell_type": "code",
   "execution_count": null,
   "metadata": {},
   "outputs": [],
   "source": []
  }
 ],
 "metadata": {
  "kernelspec": {
   "display_name": "SageMath 8.5.beta1",
   "language": "",
   "name": "sagemath"
  },
  "language_info": {
   "codemirror_mode": {
    "name": "ipython",
    "version": 2
   },
   "file_extension": ".py",
   "mimetype": "text/x-python",
   "name": "python",
   "nbconvert_exporter": "python",
   "pygments_lexer": "ipython2",
   "version": "2.7.15"
  }
 },
 "nbformat": 4,
 "nbformat_minor": 2
}
