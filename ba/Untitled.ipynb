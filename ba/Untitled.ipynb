{
 "cells": [
  {
   "cell_type": "code",
   "execution_count": 1,
   "metadata": {},
   "outputs": [],
   "source": [
    "using Calculus,Symata"
   ]
  },
  {
   "cell_type": "code",
   "execution_count": 2,
   "metadata": {},
   "outputs": [],
   "source": [
    "f(x)=sin(x);"
   ]
  },
  {
   "cell_type": "code",
   "execution_count": 3,
   "metadata": {},
   "outputs": [
    {
     "name": "stdout",
     "output_type": "stream",
     "text": [
      "Expr\n",
      "  head: Symbol '\n",
      "  args: Array{Any}((1,))\n",
      "    1: Symbol f\n"
     ]
    },
    {
     "ename": "LoadError",
     "evalue": "LoadError: extomx: No translation for Expr head ''' in f'\nin expression starting at In[3]:1",
     "output_type": "error",
     "traceback": [
      "LoadError: extomx: No translation for Expr head ''' in f'\nin expression starting at In[3]:1",
      "",
      "Stacktrace:",
      " [1] error(::String) at ./error.jl:33",
      " [2] extomx(::Expr) at /home/pi/.julia/packages/Symata/1oDeR/src/AST_translation.jl:506",
      " [3] parse_call!(::Expr, ::Array{Any,1}) at /home/pi/.julia/packages/Symata/1oDeR/src/AST_translation.jl:234",
      " [4] extomx(::Expr) at /home/pi/.julia/packages/Symata/1oDeR/src/AST_translation.jl:466",
      " [5] (::getfield(Symata, Symbol(\"##30#31\")){Array{Any,1}})(::Expr) at /home/pi/.julia/packages/Symata/1oDeR/src/AST_translation.jl:144",
      " [6] foreach(::getfield(Symata, Symbol(\"##30#31\")){Array{Any,1}}, ::Array{Any,1}) at ./abstractarray.jl:1835",
      " [7] extomxarr! at /home/pi/.julia/packages/Symata/1oDeR/src/AST_translation.jl:144 [inlined]",
      " [8] extomx(::Expr) at /home/pi/.julia/packages/Symata/1oDeR/src/AST_translation.jl:474",
      " [9] symataevaluate(::Expr, ::Symata.EvaluateJuliaSyntax) at /home/pi/.julia/packages/Symata/1oDeR/src/evaluation.jl:290",
      " [10] _sym_inner at /home/pi/.julia/packages/Symata/1oDeR/src/evaluation.jl:150 [inlined] (repeats 2 times)",
      " [11] @symfull(::LineNumberNode, ::Module, ::Any) at /home/pi/.julia/packages/Symata/1oDeR/src/evaluation.jl:145",
      " [12] include_string(::Module, ::String, ::String) at ./loading.jl:1005",
      " [13] execute_request_modal(::ZMQ.Socket, ::IJulia.Msg) at /home/pi/.julia/packages/Symata/1oDeR/src/Jupyter/handlers.jl:129",
      " [14] #invokelatest#1 at ./essentials.jl:697 [inlined]",
      " [15] invokelatest at ./essentials.jl:696 [inlined]",
      " [16] eventloop(::ZMQ.Socket) at /home/pi/.julia/packages/IJulia/0cLgR/src/eventloop.jl:8",
      " [17] (::getfield(IJulia, Symbol(\"##12#15\")))() at ./task.jl:259"
     ]
    }
   ],
   "source": [
    "   f'(1)"
   ]
  },
  {
   "cell_type": "code",
   "execution_count": null,
   "metadata": {},
   "outputs": [],
   "source": [
    "sin(1)"
   ]
  },
  {
   "cell_type": "code",
   "execution_count": null,
   "metadata": {},
   "outputs": [],
   "source": []
  },
  {
   "cell_type": "code",
   "execution_count": null,
   "metadata": {},
   "outputs": [],
   "source": []
  }
 ],
 "metadata": {
  "kernelspec": {
   "display_name": "Julia 1.0.1",
   "language": "julia",
   "name": "julia-1.0"
  },
  "language_info": {
   "file_extension": ".jl",
   "mimetype": "application/julia",
   "name": "julia",
   "version": "1.0.1"
  }
 },
 "nbformat": 4,
 "nbformat_minor": 2
}
