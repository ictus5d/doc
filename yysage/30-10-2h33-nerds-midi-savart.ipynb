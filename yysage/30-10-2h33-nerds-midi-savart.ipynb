{
 "cells": [
  {
   "cell_type": "markdown",
   "metadata": {},
   "source": [
    "##### Série harmonique\n",
    "\n",
    "L'octave est l'intervalle de base, rapport 2:1, ensuite vient la quinte 3:2. On peut dériver la fréquence de chaque note en utilisant ce rapport \n",
    "\n",
    "C quinte G quinte D quinte A quinte E quinte B\n",
    "\n",
    "   3/2       3/2     3/2\n",
    "   \n",
    "F# quinte C# quinte ...etc ...E# \n",
    "   \n",
    "C'est le tempérament Pythagorien. Sans surprise tiré de la musique antique du dao:\n",
    "\n",
    "F quinte C quinte G quinte D quinte A quinte\n",
    "\n",
    "Les lettres en musique ne sont pas logique, ça devrait être :\n",
    "\n",
    "Fa =F , Do =D, Sol=S,Re=R,La=L,Mi=M,Si=s,Ut=U\n",
    "\n",
    "Le problème en utilisant 12 quintes pour construire une gamme, l'octave ne peut pas être divisé en 12 quintes ? \n",
    "\n",
    "L'octave ne fermera pas : Si on multiplie 3/2 douze fois on obtient 531441/4096 à la place de 2/1, pure octave.\n",
    "\n",
    "La différence entre le Do du bas et le Si# du haut est 1.746 Hz, c'est le comma pythagorien."
   ]
  },
  {
   "cell_type": "code",
   "execution_count": 1,
   "metadata": {},
   "outputs": [
    {
     "data": {
      "text/html": [
       "<html><script type=\"math/tex; mode=display\">\\newcommand{\\Bold}[1]{\\mathbf{#1}}\\frac{531441}{4096}</script></html>"
      ],
      "text/plain": [
       "531441/4096"
      ]
     },
     "execution_count": 1,
     "metadata": {},
     "output_type": "execute_result"
    }
   ],
   "source": [
    "%display latex\n",
    "import fractions\n",
    "f = fractions.Fraction(3r, 2r)**12\n",
    "Rational(f)"
   ]
  },
  {
   "cell_type": "code",
   "execution_count": 2,
   "metadata": {},
   "outputs": [
    {
     "data": {
      "text/html": [
       "<html><script type=\"math/tex; mode=display\">\\newcommand{\\Bold}[1]{\\mathbf{#1}}129.746337890625</script></html>"
      ],
      "text/plain": [
       "129.746337890625"
      ]
     },
     "execution_count": 2,
     "metadata": {},
     "output_type": "execute_result"
    }
   ],
   "source": [
    "n(f)"
   ]
  },
  {
   "cell_type": "code",
   "execution_count": 3,
   "metadata": {},
   "outputs": [
    {
     "data": {
      "text/html": [
       "<html><script type=\"math/tex; mode=display\">\\newcommand{\\Bold}[1]{\\mathbf{#1}}128</script></html>"
      ],
      "text/plain": [
       "128"
      ]
     },
     "execution_count": 3,
     "metadata": {},
     "output_type": "execute_result"
    }
   ],
   "source": [
    "g=2^7;g"
   ]
  },
  {
   "cell_type": "code",
   "execution_count": 4,
   "metadata": {},
   "outputs": [
    {
     "data": {
      "text/html": [
       "<html><script type=\"math/tex; mode=display\">\\newcommand{\\Bold}[1]{\\mathbf{#1}}\\verb|coma=| 1.746337890625</script></html>"
      ],
      "text/plain": [
       "'coma=' 1.746337890625"
      ]
     },
     "metadata": {},
     "output_type": "display_data"
    }
   ],
   "source": [
    "show(\"coma=\",f-g)"
   ]
  },
  {
   "cell_type": "markdown",
   "metadata": {},
   "source": [
    "Alors comment faire la différence entre Ré# et Mib ?"
   ]
  },
  {
   "cell_type": "code",
   "execution_count": 5,
   "metadata": {},
   "outputs": [
    {
     "data": {
      "text/html": [
       "<html><script type=\"math/tex; mode=display\">\\newcommand{\\Bold}[1]{\\mathbf{#1}}\\frac{16}{15}</script></html>"
      ],
      "text/plain": [
       "16/15"
      ]
     },
     "execution_count": 5,
     "metadata": {},
     "output_type": "execute_result"
    }
   ],
   "source": [
    "f = fractions.Fraction(16r, 15r);Rational(f)"
   ]
  },
  {
   "cell_type": "code",
   "execution_count": 6,
   "metadata": {},
   "outputs": [],
   "source": [
    "def harmonic_series(h, fundamental):\n",
    "    return [fundamental * (x + 1) for x in range(h)]"
   ]
  },
  {
   "cell_type": "markdown",
   "metadata": {},
   "source": [
    "###### La commande magique \n",
    "\n",
    "<span style=\"color:red\">\n",
    "%% python </span> permet d'entrer du pure python.\n"
   ]
  },
  {
   "cell_type": "code",
   "execution_count": 7,
   "metadata": {},
   "outputs": [
    {
     "data": {
      "text/html": [
       "<html><script type=\"math/tex; mode=display\">\\newcommand{\\Bold}[1]{\\mathbf{#1}}\\left[16, 32, 48, 64, 80, 96, 112, 128, 144, 160, 176, 192, 208, 224, 240\\right]</script></html>"
      ],
      "text/plain": [
       "[16, 32, 48, 64, 80, 96, 112, 128, 144, 160, 176, 192, 208, 224, 240]"
      ]
     },
     "execution_count": 7,
     "metadata": {},
     "output_type": "execute_result"
    }
   ],
   "source": [
    "harmonic_series(15,16)"
   ]
  },
  {
   "cell_type": "code",
   "execution_count": 8,
   "metadata": {},
   "outputs": [],
   "source": [
    "SEMITONE = 1.059463\n",
    "NOTES = ['A', 'A#', 'B', 'C', 'C#', 'D', 'D#', 'E', 'F', 'F#', 'G', 'G#']\n",
    "\n",
    "def freq_to_note(x):\n",
    "    interval = int(round(log(x/444.0, SEMITONE))) % 12\n",
    "    return NOTES[interval]\n",
    "\n",
    "def note_to_freq(n):\n",
    "    if n in NOTES:\n",
    "        return 444 * (SEMITONE ** NOTES.index(n))"
   ]
  },
  {
   "cell_type": "code",
   "execution_count": 13,
   "metadata": {},
   "outputs": [
    {
     "data": {
      "text/html": [
       "<html><script type=\"math/tex; mode=display\">\\newcommand{\\Bold}[1]{\\mathbf{#1}}\\verb|A|</script></html>"
      ],
      "text/plain": [
       "'A'"
      ]
     },
     "execution_count": 13,
     "metadata": {},
     "output_type": "execute_result"
    }
   ],
   "source": [
    "freq_to_note(444)"
   ]
  },
  {
   "cell_type": "code",
   "execution_count": 14,
   "metadata": {},
   "outputs": [
    {
     "data": {
      "text/html": [
       "<html><script type=\"math/tex; mode=display\">\\newcommand{\\Bold}[1]{\\mathbf{#1}}444.000000000000</script></html>"
      ],
      "text/plain": [
       "444.000000000000"
      ]
     },
     "execution_count": 14,
     "metadata": {},
     "output_type": "execute_result"
    }
   ],
   "source": [
    "note_to_freq('A')"
   ]
  },
  {
   "cell_type": "code",
   "execution_count": 11,
   "metadata": {},
   "outputs": [
    {
     "name": "stdout",
     "output_type": "stream",
     "text": [
      "c= [528.0, 563.2, 594.0, 633.6, 660.0, 704.0, 739.2, 792.0, 844.8, 880.0, 950.4, 990.0]\n",
      "e= [660.0, 704.0, 742.5, 792.0, 825.0, 880.0, 924.0, 990.0, 1056.0, 1100.0, 1188.0, 1237.5]\n",
      "c[3]= 633.6\n",
      "e[11]= 618.75\n"
     ]
    }
   ],
   "source": [
    "%%python\n",
    "from fractions import Fraction as F\n",
    "notes = \"C C# D D# E F F# G G# A A# B\".split()\n",
    "pythagoras = [F(1,1), F(2187,2048), F(9,8), F(32,27), F(81,64), F(4,3),\n",
    "              F(729,512), F(3,2), F(6561,4096), F(27,16), F(16,9), F(243,128)]\n",
    "just_intonation = [F(1,1), F(16,15), F(9,8), F(6,5), F(5,4), F(4,3),\n",
    "                   F(7,5), F(3,2), F(8,5), F(5,3), F(9,5), F(15,8)]\n",
    "kirnberger = [F(1,1), F(256,243), F(9,8), F(32,27), F(5,4), F(4,3),\n",
    "              F(45,32), F(3,2), F(128,81), F(5,3), F(16,9), F(15,8)]\n",
    "def scale_freqs(name, base_freq=440):\n",
    "    return [float(x * base_freq) for x in name]\n",
    "def harmonic_series(n, fundamental):\n",
    "    return [fundamental * (x + 1) for x in range(n)]\n",
    "def gen_csound(freqs):\n",
    "    print(\"f1   0    4096 10 1\")\n",
    "    print(\"i1   0    1    90     {0}\".format(freqs[0]))\n",
    "\n",
    "    for item in freqs[1:]:\n",
    "        print(\"i1   +    .    90     {0}\".format(item))\n",
    "c = scale_freqs(just_intonation, 528)\n",
    "print \"c=\",c\n",
    "e = scale_freqs(just_intonation, 660)\n",
    "print \"e=\",e\n",
    "print \"c[3]=\",c[3]\n",
    "print \"e[11]=\",e[11]/2"
   ]
  },
  {
   "cell_type": "code",
   "execution_count": 25,
   "metadata": {},
   "outputs": [
    {
     "data": {
      "text/html": [
       "<html><script type=\"math/tex; mode=display\">\\newcommand{\\Bold}[1]{\\mathbf{#1}}\\verb|A#|</script></html>"
      ],
      "text/plain": [
       "'A#'"
      ]
     },
     "execution_count": 25,
     "metadata": {},
     "output_type": "execute_result"
    }
   ],
   "source": [
    "freq_to_note(15)"
   ]
  },
  {
   "cell_type": "code",
   "execution_count": 30,
   "metadata": {},
   "outputs": [
    {
     "data": {
      "text/html": [
       "<html><script type=\"math/tex; mode=display\">\\newcommand{\\Bold}[1]{\\mathbf{#1}}528.007817982803</script></html>"
      ],
      "text/plain": [
       "528.007817982803"
      ]
     },
     "execution_count": 30,
     "metadata": {},
     "output_type": "execute_result"
    }
   ],
   "source": [
    "note_to_freq('C')"
   ]
  },
  {
   "cell_type": "markdown",
   "metadata": {},
   "source": [
    "https://mabboux.pagesperso-orange.fr/musique2.htm\n",
    "\n",
    "La fréquence exprimée en Hertz (tours par seconde) est une grandeur mesurable. Le rapport de fréquence est sans unité, et il constitue un intervalle. \n",
    "\n",
    "L'intervalle est une succession de deux fréquences à un facteur multiplicatif commun près, autrement dit, un couple projectif de réels. Ce facteur multiplicatif commun correspond en terme musical à une transposition, et correspond mathématiquement à une translation dans une échelle logarithmique des fréquences. L'ensemble des couples de fréquences correspond à l'espace des réels R2 qui est de dimension 2. Et l'ensemble des intervalles correspond à l'espace projectif P(R²) qui est de dimension 1.\n",
    "\n",
    "https://mabboux.pagesperso-orange.fr/musique/list-intervalles.htm"
   ]
  },
  {
   "cell_type": "code",
   "execution_count": 32,
   "metadata": {},
   "outputs": [
    {
     "data": {
      "text/html": [
       "<html><script type=\"math/tex; mode=display\">\\newcommand{\\Bold}[1]{\\mathbf{#1}}405.465108108164</script></html>"
      ],
      "text/plain": [
       "405.465108108164"
      ]
     },
     "execution_count": 32,
     "metadata": {},
     "output_type": "execute_result"
    }
   ],
   "source": [
    "d=1000*log(3./2);d"
   ]
  },
  {
   "cell_type": "code",
   "execution_count": 33,
   "metadata": {},
   "outputs": [],
   "source": [
    "dton=25 # dton = 25 savarts"
   ]
  },
  {
   "cell_type": "code",
   "execution_count": 35,
   "metadata": {},
   "outputs": [
    {
     "data": {
      "text/html": [
       "<html><script type=\"math/tex; mode=display\">\\newcommand{\\Bold}[1]{\\mathbf{#1}}0.00333333333333333</script></html>"
      ],
      "text/plain": [
       "0.00333333333333333"
      ]
     },
     "execution_count": 35,
     "metadata": {},
     "output_type": "execute_result"
    }
   ],
   "source": [
    "sa=1/300.0;sa #sa =1/300 d'octave"
   ]
  },
  {
   "cell_type": "code",
   "execution_count": 53,
   "metadata": {},
   "outputs": [
    {
     "data": {
      "text/html": [
       "<html><script type=\"math/tex; mode=display\">\\newcommand{\\Bold}[1]{\\mathbf{#1}}0.00729927007299270</script></html>"
      ],
      "text/plain": [
       "0.00729927007299270"
      ]
     },
     "execution_count": 53,
     "metadata": {},
     "output_type": "execute_result"
    }
   ],
   "source": [
    "1/137."
   ]
  },
  {
   "attachments": {
    "image.png": {
     "image/png": "[encoded data removed]"
    }
   },
   "cell_type": "markdown",
   "metadata": {},
   "source": [
    "![image.png](attachment:image.png)\n",
    "\n",
    "Pour fixer des idées on donna le nom de fen à l'espace qu'occupait un grain de chou, pris dans sa longueur, & l'on appela yo tout vase qui contenait 1.200 de ces mêmes grains. Ainsi le fen & le yo furent dès lors les deux termes d'où l'on partit pour fixer les mesures dans les\n",
    "deux genres ; & le nombre 9 fut celui qu'on employa d'abord pour la progression des mesures, plus grandes ou plus petites ; mais l'on ne fut pas longtemps sans s'apercevoir que cette manière de procéder par 9,\n",
    "renfermait des difficultés pour le commun des hommes, dans le commerce ordinaire de la vie civile. Les cinq doigts de chaque main, les nombres cinq & dix qui sont au centre de la figure ho-tou, dont Fou-hi avait vu l'empreinte sur le dragon-cheval, tournèrent les idées du côté de la progression décuple ; on l'employa, & toutes les difficultés disparurent. L'on dit dès lors comme on a toujours dit depuis : le diamètre d'un grain de chou ou gros millet, équivaut à un fen, ou une ligne ; dix fen ou lignes, égalent un tsun ou pouce, dix tsun ou pouces,\n",
    "font la longueur d'un tché ou pied ; dix tché ou pieds, font un tchang ; & dix tchang font un yn."
   ]
  },
  {
   "cell_type": "code",
   "execution_count": 49,
   "metadata": {},
   "outputs": [
    {
     "data": {
      "text/html": [
       "<html><script type=\"math/tex; mode=display\">\\newcommand{\\Bold}[1]{\\mathbf{#1}}\\verb|log2=| 0.301029995663981</script></html>"
      ],
      "text/plain": [
       "'log2=' 0.301029995663981"
      ]
     },
     "metadata": {},
     "output_type": "display_data"
    },
    {
     "data": {
      "text/html": [
       "<html><script type=\"math/tex; mode=display\">\\newcommand{\\Bold}[1]{\\mathbf{#1}}\\verb|savart|\\phantom{\\verb!x!}\\verb|=| 3.98631371386483 \\phantom{\\verb!x!}\\verb|cent|</script></html>"
      ],
      "text/plain": [
       "'savart =' 3.98631371386483 ' cent'"
      ]
     },
     "metadata": {},
     "output_type": "display_data"
    }
   ],
   "source": [
    "l2=log(2.0,10);show(\"log2=\",l2)\n",
    "sav=1.2/(log(2.0,10));show(\"savart =\",sav,\" cent\")"
   ]
  },
  {
   "cell_type": "code",
   "execution_count": 50,
   "metadata": {},
   "outputs": [
    {
     "data": {
      "text/html": [
       "<html><script type=\"math/tex; mode=display\">\\newcommand{\\Bold}[1]{\\mathbf{#1}}\\frac{531441}{524288}</script></html>"
      ],
      "text/plain": [
       "531441/524288"
      ]
     },
     "execution_count": 50,
     "metadata": {},
     "output_type": "execute_result"
    }
   ],
   "source": [
    "3^12/2^19"
   ]
  },
  {
   "cell_type": "code",
   "execution_count": 51,
   "metadata": {},
   "outputs": [
    {
     "data": {
      "text/html": [
       "<html><script type=\"math/tex; mode=display\">\\newcommand{\\Bold}[1]{\\mathbf{#1}}1.01364326477051</script></html>"
      ],
      "text/plain": [
       "1.01364326477051"
      ]
     },
     "execution_count": 51,
     "metadata": {},
     "output_type": "execute_result"
    }
   ],
   "source": [
    "3^12/2.0^19"
   ]
  },
  {
   "cell_type": "code",
   "execution_count": 63,
   "metadata": {},
   "outputs": [
    {
     "data": {
      "text/html": [
       "<html><script type=\"math/tex; mode=display\">\\newcommand{\\Bold}[1]{\\mathbf{#1}}0.00782883057844599</script></html>"
      ],
      "text/plain": [
       "0.00782883057844599"
      ]
     },
     "execution_count": 63,
     "metadata": {},
     "output_type": "execute_result"
    }
   ],
   "source": [
    "3^53/2.0^91"
   ]
  },
  {
   "cell_type": "code",
   "execution_count": null,
   "metadata": {},
   "outputs": [],
   "source": []
  }
 ],
 "metadata": {
  "kernelspec": {
   "display_name": "SageMath 8.1",
   "language": "",
   "name": "sagemath"
  },
  "language_info": {
   "codemirror_mode": {
    "name": "ipython",
    "version": 2
   },
   "file_extension": ".py",
   "mimetype": "text/x-python",
   "name": "python",
   "nbconvert_exporter": "python",
   "pygments_lexer": "ipython2",
   "version": "2.7.15+"
  }
 },
 "nbformat": 4,
 "nbformat_minor": 2
}
