{
 "cells": [
  {
   "cell_type": "code",
   "execution_count": 1,
   "metadata": {},
   "outputs": [
    {
     "data": {
      "text/html": [
       "<html><script type=\"math/tex; mode=display\">\\newcommand{\\Bold}[1]{\\mathbf{#1}}\\verb|fr=| 4.77134515923694 \\times 10^{7} \\phantom{\\verb!x!}\\verb|fa|\\phantom{\\verb!x!}\\verb|=| 299792458</script></html>"
      ],
      "text/plain": [
       "'fr=' 4.77134515923694e7 ' fa =' 299792458"
      ]
     },
     "metadata": {},
     "output_type": "display_data"
    }
   ],
   "source": [
    "%display latex\n",
    "\n",
    "L=4E-7*n(pi);C=1/(L*(299792458)^2);fr=1/(2*n(pi)*sqrt(L*C));f=fr\n",
    "fa=1/sqrt(L*C);show(\"fr=\",fr,\" fa =\",round(fa))"
   ]
  },
  {
   "cell_type": "code",
   "execution_count": 2,
   "metadata": {},
   "outputs": [
    {
     "data": {
      "text/html": [
       "<html><script type=\"math/tex; mode=display\">\\newcommand{\\Bold}[1]{\\mathbf{#1}}\\verb|Xc=| 376.730313461771 \\phantom{\\verb!x!}\\verb|Ohms|</script></html>"
      ],
      "text/plain": [
       "'Xc=' 376.730313461771 ' Ohms'"
      ]
     },
     "metadata": {},
     "output_type": "display_data"
    },
    {
     "data": {
      "text/html": [
       "<html><script type=\"math/tex; mode=display\">\\newcommand{\\Bold}[1]{\\mathbf{#1}}\\verb|Xl=| 376.730313461771 \\phantom{\\verb!x!}\\verb|Ohms|</script></html>"
      ],
      "text/plain": [
       "'Xl=' 376.730313461771 ' Ohms'"
      ]
     },
     "metadata": {},
     "output_type": "display_data"
    }
   ],
   "source": [
    "Xc=1/(2*n(pi)*f*C);show(\"Xc=\",Xc,\" Ohms\")\n",
    "Xl=2*n(pi)*f*L;show(\"Xl=\",Xl,\" Ohms\")"
   ]
  },
  {
   "cell_type": "code",
   "execution_count": 3,
   "metadata": {},
   "outputs": [
    {
     "data": {
      "text/html": [
       "<html><script type=\"math/tex; mode=display\">\\newcommand{\\Bold}[1]{\\mathbf{#1}}\\verb|Xl=| 376.730313461771 \\phantom{\\verb!x!}\\verb|Ohms|</script></html>"
      ],
      "text/plain": [
       "'Xl=' 376.730313461771 ' Ohms'"
      ]
     },
     "metadata": {},
     "output_type": "display_data"
    }
   ],
   "source": [
    "Xl=2*n(pi)*f*L;show(\"Xl=\",Xl,\" Ohms\")"
   ]
  },
  {
   "cell_type": "code",
   "execution_count": 4,
   "metadata": {},
   "outputs": [
    {
     "data": {
      "text/html": [
       "<html><script type=\"math/tex; mode=display\">\\newcommand{\\Bold}[1]{\\mathbf{#1}}141925.729081004</script></html>"
      ],
      "text/plain": [
       "141925.729081004"
      ]
     },
     "execution_count": 4,
     "metadata": {},
     "output_type": "execute_result"
    }
   ],
   "source": [
    "(Xl*Xc)"
   ]
  },
  {
   "cell_type": "code",
   "execution_count": 5,
   "metadata": {},
   "outputs": [
    {
     "data": {
      "text/html": [
       "<html><script type=\"math/tex; mode=display\">\\newcommand{\\Bold}[1]{\\mathbf{#1}}2112.31930912889</script></html>"
      ],
      "text/plain": [
       "2112.31930912889"
      ]
     },
     "execution_count": 5,
     "metadata": {},
     "output_type": "execute_result"
    }
   ],
   "source": [
    "299792458/141925.729081004"
   ]
  },
  {
   "cell_type": "code",
   "execution_count": 6,
   "metadata": {},
   "outputs": [
    {
     "data": {
      "text/html": [
       "<html><script type=\"math/tex; mode=display\">\\newcommand{\\Bold}[1]{\\mathbf{#1}}2424.06840509259</script></html>"
      ],
      "text/plain": [
       "2424.06840509259"
      ]
     },
     "execution_count": 6,
     "metadata": {},
     "output_type": "execute_result"
    }
   ],
   "source": [
    "314159265.3/129600"
   ]
  },
  {
   "cell_type": "code",
   "execution_count": 7,
   "metadata": {},
   "outputs": [
    {
     "data": {
      "text/html": [
       "<html><script type=\"math/tex; mode=display\">\\newcommand{\\Bold}[1]{\\mathbf{#1}}1.14758616020618</script></html>"
      ],
      "text/plain": [
       "1.14758616020618"
      ]
     },
     "execution_count": 7,
     "metadata": {},
     "output_type": "execute_result"
    }
   ],
   "source": [
    "2424.06840509259/2112.31930912889"
   ]
  },
  {
   "cell_type": "markdown",
   "metadata": {},
   "source": [
    "pico 1-E12 Exa 1E+18\n",
    "\n",
    "Une particule correspond à la fréquence de résonnance. La fréquence de résonnance universelle est 1.04792251097584, c'est la différence entre le cercle parfait et le cercle imparfait.\n",
    "\n",
    "Comme le rayon de la quadrature dont les matheux ne reconnaissent pas l'existence, ce sont des constantes universelles.\n",
    "\n",
    "Rayon de la quadrature : Euler dans le problème de Bâle le défini ainsi $(\\frac{1}{2})!=\\frac{\\sqrt\\pi}{2}$ , par contre j'ai découvert l'inverse beaucoup plus réalisable $\\frac{2}{\\sqrt \\pi}$"
   ]
  },
  {
   "cell_type": "code",
   "execution_count": 8,
   "metadata": {},
   "outputs": [
    {
     "data": {
      "text/html": [
       "<html><script type=\"math/tex; mode=display\">\\newcommand{\\Bold}[1]{\\mathbf{#1}}9.54269031847388 \\times 10^{6}</script></html>"
      ],
      "text/plain": [
       "9.54269031847388e6"
      ]
     },
     "execution_count": 8,
     "metadata": {},
     "output_type": "execute_result"
    }
   ],
   "source": [
    "4771345.15923694*2"
   ]
  },
  {
   "cell_type": "code",
   "execution_count": 9,
   "metadata": {},
   "outputs": [
    {
     "data": {
      "text/html": [
       "<html><script type=\"math/tex; mode=display\">\\newcommand{\\Bold}[1]{\\mathbf{#1}}10000000</script></html>"
      ],
      "text/plain": [
       "10000000"
      ]
     },
     "execution_count": 9,
     "metadata": {},
     "output_type": "execute_result"
    }
   ],
   "source": [
    "5000000*2"
   ]
  },
  {
   "cell_type": "code",
   "execution_count": 10,
   "metadata": {},
   "outputs": [
    {
     "data": {
      "text/html": [
       "<html><script type=\"math/tex; mode=display\">\\newcommand{\\Bold}[1]{\\mathbf{#1}}1.04792251097584</script></html>"
      ],
      "text/plain": [
       "1.04792251097584"
      ]
     },
     "execution_count": 10,
     "metadata": {},
     "output_type": "execute_result"
    }
   ],
   "source": [
    "(5000000*2)/(4771345.15923694*2)"
   ]
  },
  {
   "cell_type": "code",
   "execution_count": 11,
   "metadata": {},
   "outputs": [
    {
     "data": {
      "text/html": [
       "<html><script type=\"math/tex; mode=display\">\\newcommand{\\Bold}[1]{\\mathbf{#1}}\\left(\\zeta(\\frac{1}{2}), -1.46035450880959\\right)</script></html>"
      ],
      "text/plain": [
       "(zeta(1/2), -1.46035450880959)"
      ]
     },
     "execution_count": 11,
     "metadata": {},
     "output_type": "execute_result"
    }
   ],
   "source": [
    "zeta(1/2),zeta(1/2.0)"
   ]
  },
  {
   "cell_type": "code",
   "execution_count": 12,
   "metadata": {},
   "outputs": [
    {
     "data": {
      "text/html": [
       "<html><script type=\"math/tex; mode=display\">\\newcommand{\\Bold}[1]{\\mathbf{#1}}\\frac{1}{2} \\, \\sqrt{\\pi} \\phantom{\\verb!x!}\\verb|=|\\phantom{\\verb!x!}\\verb|Re|\\phantom{\\verb!x!}\\verb|=| 1.25331413731550</script></html>"
      ],
      "text/plain": [
       "1/2*sqrt(pi) ' = Re = ' 1.25331413731550"
      ]
     },
     "metadata": {},
     "output_type": "display_data"
    }
   ],
   "source": [
    "show(factorial(1/2),\" = Re = \",sqrt(n(pi)/2.0))"
   ]
  },
  {
   "cell_type": "code",
   "execution_count": 13,
   "metadata": {},
   "outputs": [
    {
     "data": {
      "text/html": [
       "<html><script type=\"math/tex; mode=display\">\\newcommand{\\Bold}[1]{\\mathbf{#1}}r = \\frac{2}{\\sqrt{\\pi}} \\phantom{\\verb!x!}\\verb|=|\\phantom{\\verb!x!}\\verb|Rg|\\phantom{\\verb!x!}\\verb|=| 1.12837916709551</script></html>"
      ],
      "text/plain": [
       "r == 2/sqrt(pi) ' = Rg =' 1.12837916709551"
      ]
     },
     "metadata": {},
     "output_type": "display_data"
    }
   ],
   "source": [
    "var(\"r\")\n",
    "r0=r==2/sqrt(pi);r=2/n(sqrt(pi))\n",
    "show(r0,\" = Rg =\",r)"
   ]
  },
  {
   "cell_type": "code",
   "execution_count": 14,
   "metadata": {},
   "outputs": [
    {
     "data": {
      "text/html": [
       "<html><script type=\"math/tex; mode=display\">\\newcommand{\\Bold}[1]{\\mathbf{#1}}0.900316316157104</script></html>"
      ],
      "text/plain": [
       "0.900316316157104"
      ]
     },
     "execution_count": 14,
     "metadata": {},
     "output_type": "execute_result"
    }
   ],
   "source": [
    "1.12837916709551/1.25331413731550"
   ]
  },
  {
   "cell_type": "code",
   "execution_count": 15,
   "metadata": {},
   "outputs": [
    {
     "data": {
      "text/html": [
       "<html><script type=\"math/tex; mode=display\">\\newcommand{\\Bold}[1]{\\mathbf{#1}}1.11072073453959</script></html>"
      ],
      "text/plain": [
       "1.11072073453959"
      ]
     },
     "execution_count": 15,
     "metadata": {},
     "output_type": "execute_result"
    }
   ],
   "source": [
    "1.25331413731550/1.12837916709551"
   ]
  },
  {
   "cell_type": "code",
   "execution_count": 16,
   "metadata": {},
   "outputs": [
    {
     "data": {
      "text/html": [
       "<html><script type=\"math/tex; mode=display\">\\newcommand{\\Bold}[1]{\\mathbf{#1}}1.05390736525541</script></html>"
      ],
      "text/plain": [
       "1.05390736525541"
      ]
     },
     "execution_count": 16,
     "metadata": {},
     "output_type": "execute_result"
    }
   ],
   "source": [
    "sqrt(1.11072073453959)"
   ]
  },
  {
   "cell_type": "code",
   "execution_count": 17,
   "metadata": {},
   "outputs": [
    {
     "data": {
      "text/html": [
       "<html><script type=\"math/tex; mode=display\">\\newcommand{\\Bold}[1]{\\mathbf{#1}}1.00086812300033</script></html>"
      ],
      "text/plain": [
       "1.00086812300033"
      ]
     },
     "execution_count": 17,
     "metadata": {},
     "output_type": "execute_result"
    }
   ],
   "source": [
    "300052714.728114/299792458"
   ]
  },
  {
   "cell_type": "code",
   "execution_count": 18,
   "metadata": {},
   "outputs": [
    {
     "data": {
      "text/html": [
       "<html><script type=\"math/tex; mode=display\">\\newcommand{\\Bold}[1]{\\mathbf{#1}}1.00000000000001</script></html>"
      ],
      "text/plain": [
       "1.00000000000001"
      ]
     },
     "execution_count": 18,
     "metadata": {},
     "output_type": "execute_result"
    }
   ],
   "source": [
    "0.007297352568*137.03599910811"
   ]
  },
  {
   "cell_type": "code",
   "execution_count": 19,
   "metadata": {},
   "outputs": [
    {
     "data": {
      "text/html": [
       "<html><script type=\"math/tex; mode=display\">\\newcommand{\\Bold}[1]{\\mathbf{#1}}\\verb|1|\\phantom{\\verb!x!}\\verb|degre|\\phantom{\\verb!x!}\\verb|=| 0.0174532925199433 \\phantom{\\verb!x!}\\verb|rad|</script></html>"
      ],
      "text/plain": [
       "'1 degre =' 0.0174532925199433 ' rad'"
      ]
     },
     "metadata": {},
     "output_type": "display_data"
    }
   ],
   "source": [
    "rad(x)=x*n(pi)/180;show(\"1 degre =\",rad(1), \" rad\")"
   ]
  },
  {
   "cell_type": "code",
   "execution_count": 20,
   "metadata": {},
   "outputs": [
    {
     "data": {
      "text/html": [
       "<html><script type=\"math/tex; mode=display\">\\newcommand{\\Bold}[1]{\\mathbf{#1}}\\verb|1|\\phantom{\\verb!x!}\\verb|rad|\\phantom{\\verb!x!}\\verb|=| 57.2957795130823 \\phantom{\\verb!x!}\\verb|degre|</script></html>"
      ],
      "text/plain": [
       "'1 rad =' 57.2957795130823 ' degre'"
      ]
     },
     "metadata": {},
     "output_type": "display_data"
    }
   ],
   "source": [
    "deg(x)=x*180/n(pi);\n",
    "show(\"1 rad =\", deg(1), \" degre\")"
   ]
  },
  {
   "cell_type": "code",
   "execution_count": 21,
   "metadata": {},
   "outputs": [
    {
     "data": {
      "text/html": [
       "<html><script type=\"math/tex; mode=display\">\\newcommand{\\Bold}[1]{\\mathbf{#1}}\\verb|alpha|\\phantom{\\verb!x!}\\verb|=| 2.39172937819653 \\phantom{\\verb!x!}\\verb|rad|</script></html>"
      ],
      "text/plain": [
       "'alpha =' 2.39172937819653 ' rad'"
      ]
     },
     "metadata": {},
     "output_type": "display_data"
    }
   ],
   "source": [
    "rad(x)=x*n(pi)/180;show(\"alpha =\",rad(137.03599910811), \" rad\")"
   ]
  },
  {
   "cell_type": "code",
   "execution_count": 22,
   "metadata": {},
   "outputs": [
    {
     "data": {
      "text/html": [
       "<html><script type=\"math/tex; mode=display\">\\newcommand{\\Bold}[1]{\\mathbf{#1}}\\verb|alpha|\\phantom{\\verb!x!}\\verb|=| 0.418107503765353 \\phantom{\\verb!x!}\\verb|degre|</script></html>"
      ],
      "text/plain": [
       "'alpha =' 0.418107503765353 ' degre'"
      ]
     },
     "metadata": {},
     "output_type": "display_data"
    }
   ],
   "source": [
    "show(\"alpha =\", deg(0.007297352568), \" degre\")"
   ]
  },
  {
   "cell_type": "code",
   "execution_count": 23,
   "metadata": {},
   "outputs": [
    {
     "data": {
      "text/html": [
       "<html><script type=\"math/tex; mode=display\">\\newcommand{\\Bold}[1]{\\mathbf{#1}}\\verb|alpha|\\phantom{\\verb!x!}\\verb|=| 7851.58439025322 \\phantom{\\verb!x!}\\verb|degre|</script></html>"
      ],
      "text/plain": [
       "'alpha =' 7851.58439025322 ' degre'"
      ]
     },
     "metadata": {},
     "output_type": "display_data"
    }
   ],
   "source": [
    "show(\"alpha =\", deg(137.03599910811), \" degre\")"
   ]
  },
  {
   "cell_type": "code",
   "execution_count": 24,
   "metadata": {},
   "outputs": [
    {
     "data": {
      "text/html": [
       "<html><script type=\"math/tex; mode=display\">\\newcommand{\\Bold}[1]{\\mathbf{#1}}1.00000000000001</script></html>"
      ],
      "text/plain": [
       "1.00000000000001"
      ]
     },
     "execution_count": 24,
     "metadata": {},
     "output_type": "execute_result"
    }
   ],
   "source": [
    "0.007297352568*137.03599910811"
   ]
  },
  {
   "cell_type": "code",
   "execution_count": 25,
   "metadata": {},
   "outputs": [
    {
     "data": {
      "text/html": [
       "<html><script type=\"math/tex; mode=display\">\\newcommand{\\Bold}[1]{\\mathbf{#1}}\\verb|Xc=| 4.57102890520709 \\times 10^{-7} \\phantom{\\verb!x!}\\verb|Ohms|</script></html>"
      ],
      "text/plain": [
       "'Xc=' 4.57102890520709e-7 ' Ohms'"
      ]
     },
     "metadata": {},
     "output_type": "display_data"
    },
    {
     "data": {
      "text/html": [
       "<html><script type=\"math/tex; mode=display\">\\newcommand{\\Bold}[1]{\\mathbf{#1}}\\verb|Xl=| 4.10823590071061 \\times 10^{10} \\phantom{\\verb!x!}\\verb|Ohms|</script></html>"
      ],
      "text/plain": [
       "'Xl=' 4.10823590071061e10 ' Ohms'"
      ]
     },
     "metadata": {},
     "output_type": "display_data"
    }
   ],
   "source": [
    "C=0.007297352568;L=137.03599910811\n",
    "Xc=1/(2*n(pi)*f*C);show(\"Xc=\",Xc,\" Ohms\")\n",
    "Xl=2*n(pi)*f*L;show(\"Xl=\",Xl,\" Ohms\")"
   ]
  },
  {
   "cell_type": "markdown",
   "metadata": {},
   "source": [
    "$X_c=\\frac{1}{2 \\pi f C}$ et $X_c=2 \\pi f L$"
   ]
  },
  {
   "cell_type": "code",
   "execution_count": 26,
   "metadata": {},
   "outputs": [
    {
     "data": {
      "text/html": [
       "<html><script type=\"math/tex; mode=display\">\\newcommand{\\Bold}[1]{\\mathbf{#1}}4.77134515923694 \\times 10^{7}</script></html>"
      ],
      "text/plain": [
       "4.77134515923694e7"
      ]
     },
     "metadata": {},
     "output_type": "display_data"
    }
   ],
   "source": [
    "mu=4E-7*n(pi);ep=1/(mu*(299792458)^2);\n",
    "fr=1/(2*n(pi)*sqrt(mu*ep));show(fr)"
   ]
  },
  {
   "cell_type": "code",
   "execution_count": 27,
   "metadata": {},
   "outputs": [
    {
     "data": {
      "text/html": [
       "<html><script type=\"math/tex; mode=display\">\\newcommand{\\Bold}[1]{\\mathbf{#1}}8.85418781762039 \\times 10^{-12}</script></html>"
      ],
      "text/plain": [
       "8.85418781762039e-12"
      ]
     },
     "execution_count": 27,
     "metadata": {},
     "output_type": "execute_result"
    }
   ],
   "source": [
    "ep"
   ]
  },
  {
   "cell_type": "code",
   "execution_count": 28,
   "metadata": {},
   "outputs": [
    {
     "data": {
      "text/html": [
       "<html><script type=\"math/tex; mode=display\">\\newcommand{\\Bold}[1]{\\mathbf{#1}}0.999999999999988</script></html>"
      ],
      "text/plain": [
       "0.999999999999988"
      ]
     },
     "execution_count": 28,
     "metadata": {},
     "output_type": "execute_result"
    }
   ],
   "source": [
    "ad=0.007297352568;ai=137.03599910811\n",
    "1/(ai*ad)"
   ]
  },
  {
   "cell_type": "code",
   "execution_count": 30,
   "metadata": {},
   "outputs": [
    {
     "data": {
      "text/html": [
       "<html><script type=\"math/tex; mode=display\">\\newcommand{\\Bold}[1]{\\mathbf{#1}}2.00000000000000</script></html>"
      ],
      "text/plain": [
       "2.00000000000000"
      ]
     },
     "execution_count": 30,
     "metadata": {},
     "output_type": "execute_result"
    }
   ],
   "source": [
    "ad*ai+1/(ai*ad)"
   ]
  },
  {
   "cell_type": "markdown",
   "metadata": {},
   "source": [
    "Ev est le temps (scientifique Energie)\n",
    "et l'inverse est la fréquence "
   ]
  },
  {
   "cell_type": "code",
   "execution_count": 31,
   "metadata": {},
   "outputs": [
    {
     "data": {
      "text/html": [
       "<html><script type=\"math/tex; mode=display\">\\newcommand{\\Bold}[1]{\\mathbf{#1}}18778.8650515577</script></html>"
      ],
      "text/plain": [
       "18778.8650515577"
      ]
     },
     "execution_count": 31,
     "metadata": {},
     "output_type": "execute_result"
    }
   ],
   "source": [
    "Xc*Xl"
   ]
  },
  {
   "cell_type": "code",
   "execution_count": 33,
   "metadata": {},
   "outputs": [
    {
     "data": {
      "text/html": [
       "<html><script type=\"math/tex; mode=display\">\\newcommand{\\Bold}[1]{\\mathbf{#1}}2.99792458000002 \\times 10^{8}</script></html>"
      ],
      "text/plain": [
       "2.99792458000002e8"
      ]
     },
     "execution_count": 33,
     "metadata": {},
     "output_type": "execute_result"
    }
   ],
   "source": [
    "sqrt(1/(Xc/Xl))"
   ]
  },
  {
   "cell_type": "code",
   "execution_count": 41,
   "metadata": {},
   "outputs": [
    {
     "data": {
      "text/html": [
       "<html><script type=\"math/tex; mode=display\">\\newcommand{\\Bold}[1]{\\mathbf{#1}}137.035999108109</script></html>"
      ],
      "text/plain": [
       "137.035999108109"
      ]
     },
     "execution_count": 41,
     "metadata": {},
     "output_type": "execute_result"
    }
   ],
   "source": [
    "sqrt(Xc*Xl)  # Inverse de la constante alpha"
   ]
  },
  {
   "cell_type": "code",
   "execution_count": 42,
   "metadata": {},
   "outputs": [
    {
     "data": {
      "text/html": [
       "<html><script type=\"math/tex; mode=display\">\\newcommand{\\Bold}[1]{\\mathbf{#1}}0.00729735256799996</script></html>"
      ],
      "text/plain": [
       "0.00729735256799996"
      ]
     },
     "execution_count": 42,
     "metadata": {},
     "output_type": "execute_result"
    }
   ],
   "source": [
    "1/sqrt(Xc*Xl)  # Constante alpha "
   ]
  },
  {
   "cell_type": "code",
   "execution_count": null,
   "metadata": {},
   "outputs": [],
   "source": []
  }
 ],
 "metadata": {
  "kernelspec": {
   "display_name": "Sage 9",
   "language": "sage",
   "name": "sagemath"
  },
  "language_info": {
   "codemirror_mode": {
    "name": "ipython",
    "version": 2
   },
   "file_extension": ".py",
   "mimetype": "text/x-python",
   "name": "python",
   "nbconvert_exporter": "python",
   "pygments_lexer": "ipython2",
   "version": "2.7.15"
  }
 },
 "nbformat": 4,
 "nbformat_minor": 2
}
